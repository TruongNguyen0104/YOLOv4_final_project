{
 "cells": [
  {
   "cell_type": "code",
   "execution_count": 1,
   "metadata": {},
   "outputs": [],
   "source": [
    "from IPython.display import Image  # for displaying images\n",
    "import os \n",
    "import random\n",
    "import shutil\n",
    "from sklearn.model_selection import train_test_split\n",
    "import xml.etree.ElementTree as ET\n",
    "from xml.dom import minidom\n",
    "from tqdm import tqdm\n",
    "from PIL import Image, ImageDraw\n",
    "import numpy as np\n",
    "import matplotlib.pyplot as plt\n",
    "\n",
    "random.seed(108)"
   ]
  },
  {
   "cell_type": "code",
   "execution_count": 11,
   "metadata": {},
   "outputs": [],
   "source": [
    "# Function to get the data from XML Annotation\n",
    "def extract_info_from_xml(xml_file):\n",
    "    root = ET.parse(xml_file).getroot()\n",
    "    \n",
    "    # Initialise the info dict \n",
    "    info_dict = {}\n",
    "    info_dict['bboxes'] = []\n",
    "\n",
    "    # Parse the XML Tree\n",
    "    for elem in root:\n",
    "        # Get the file name \n",
    "        if elem.tag == \"filename\":\n",
    "            info_dict['filename'] = elem.text\n",
    "            \n",
    "        # Get the image size\n",
    "        elif elem.tag == \"size\":\n",
    "            image_size = []\n",
    "            for subelem in elem:\n",
    "                image_size.append(int(subelem.text))\n",
    "            \n",
    "            info_dict['image_size'] = tuple(image_size)\n",
    "        \n",
    "        # Get details of the bounding box \n",
    "        elif elem.tag == \"object\":\n",
    "            bbox = {}\n",
    "            for subelem in elem:\n",
    "                if subelem.tag == \"name\":\n",
    "                    bbox[\"class\"] = subelem.text\n",
    "                    \n",
    "                elif subelem.tag == \"bndbox\":\n",
    "                    for subsubelem in subelem:\n",
    "                        bbox[subsubelem.tag] = int(subsubelem.text)            \n",
    "            info_dict['bboxes'].append(bbox)\n",
    "    \n",
    "    return info_dict"
   ]
  },
  {
   "cell_type": "code",
   "execution_count": 3,
   "metadata": {},
   "outputs": [
    {
     "name": "stdout",
     "output_type": "stream",
     "text": [
      "{'bboxes': [{'class': 'bicycle', 'xmin': 592, 'ymin': 296, 'xmax': 619, 'ymax': 407}, {'class': 'bicycle', 'xmin': 422, 'ymin': 282, 'xmax': 455, 'ymax': 366}, {'class': 'bicycle', 'xmin': 362, 'ymin': 297, 'xmax': 409, 'ymax': 397}, {'class': 'bicycle', 'xmin': 194, 'ymin': 305, 'xmax': 370, 'ymax': 523}, {'class': 'bicycle', 'xmin': 465, 'ymin': 324, 'xmax': 563, 'ymax': 560}], 'filename': 'bicycle (1).jpg', 'image_size': (620, 618, 3)}\n"
     ]
    }
   ],
   "source": [
    "print(extract_info_from_xml('labels/bicycle (1).xml'))"
   ]
  },
  {
   "cell_type": "code",
   "execution_count": 12,
   "metadata": {},
   "outputs": [],
   "source": [
    "# Dictionary that maps class names to IDs\n",
    "class_name_to_id_mapping = {'bicycle': 0, \n",
    "                            'bus': 1,\n",
    "                            'car': 2,\n",
    "                            'cng': 3,\n",
    "                            'bike': 4,\n",
    "                            'truck': 5}\n",
    "\n",
    "# Convert the info dict to the required yolo format and write it to disk\n",
    "def convert_to_yolov5(info_dict):\n",
    "    print_buffer = []\n",
    "    \n",
    "    # For each bounding box\n",
    "    for b in info_dict[\"bboxes\"]:\n",
    "        try:\n",
    "            class_id = class_name_to_id_mapping[b[\"class\"]]\n",
    "        except KeyError:\n",
    "            print(f\"Invalid Class {b['class']} at {info_dict['filename']}. Must be one from \", class_name_to_id_mapping.keys())\n",
    "            continue\n",
    "        \n",
    "        # Transform the bbox co-ordinates as per the format required by YOLO v5\n",
    "        b_center_x = (b[\"xmin\"] + b[\"xmax\"]) / 2 \n",
    "        b_center_y = (b[\"ymin\"] + b[\"ymax\"]) / 2\n",
    "        b_width    = (b[\"xmax\"] - b[\"xmin\"])\n",
    "        b_height   = (b[\"ymax\"] - b[\"ymin\"])\n",
    "        \n",
    "        # Normalise the co-ordinates by the dimensions of the image\n",
    "        try: \n",
    "            image_w, image_h, image_c = info_dict[\"image_size\"]  \n",
    "            b_center_x /= image_w \n",
    "            b_center_y /= image_h \n",
    "            b_width    /= image_w \n",
    "            b_height   /= image_h \n",
    "        except ZeroDivisionError:\n",
    "            print(f\"ZeroDivisionError at {info_dict['filename']}\")\n",
    "        \n",
    "        #Write the bbox details to the file \n",
    "        print_buffer.append(\"{} {:.3f} {:.3f} {:.3f} {:.3f}\".format(class_id, b_center_x, b_center_y, b_width, b_height))\n",
    "        \n",
    "    # Name of the file which we have to save \n",
    "    save_file_name = os.path.join(\"labels\", info_dict[\"filename\"].replace(\"jpg\", \"txt\"))\n",
    "    \n",
    "    # Save the annotation to disk\n",
    "    print(\"\\n\".join(print_buffer), file= open(save_file_name, \"w\"))"
   ]
  },
  {
   "cell_type": "code",
   "execution_count": 15,
   "metadata": {},
   "outputs": [
    {
     "name": "stderr",
     "output_type": "stream",
     "text": [
      "  3%|██▏                                                                           | 112/3994 [00:00<00:10, 365.73it/s]"
     ]
    },
    {
     "name": "stdout",
     "output_type": "stream",
     "text": [
      "Invalid Class easybike at bicycle (133).jpg. Must be one from  dict_keys(['bicycle', 'bus', 'car', 'cng', 'bike', 'truck'])\n",
      "Invalid Class rickshaw at bicycle (151).jpg. Must be one from  dict_keys(['bicycle', 'bus', 'car', 'cng', 'bike', 'truck'])\n",
      "Invalid Class rickshaw at bicycle (151).jpg. Must be one from  dict_keys(['bicycle', 'bus', 'car', 'cng', 'bike', 'truck'])\n",
      "Invalid Class rickshaw at bicycle (158).jpg. Must be one from  dict_keys(['bicycle', 'bus', 'car', 'cng', 'bike', 'truck'])\n"
     ]
    },
    {
     "name": "stderr",
     "output_type": "stream",
     "text": [
      "  5%|███▋                                                                          | 188/3994 [00:00<00:10, 370.16it/s]"
     ]
    },
    {
     "name": "stdout",
     "output_type": "stream",
     "text": [
      "Invalid Class boat at bicycle (214).jpg. Must be one from  dict_keys(['bicycle', 'bus', 'car', 'cng', 'bike', 'truck'])\n",
      "Invalid Class boat at bicycle (217).jpg. Must be one from  dict_keys(['bicycle', 'bus', 'car', 'cng', 'bike', 'truck'])\n",
      "Invalid Class boat at bicycle (217).jpg. Must be one from  dict_keys(['bicycle', 'bus', 'car', 'cng', 'bike', 'truck'])\n",
      "Invalid Class rickshaw at bicycle (235).jpg. Must be one from  dict_keys(['bicycle', 'bus', 'car', 'cng', 'bike', 'truck'])\n",
      "Invalid Class rickshaw at bicycle (24).jpg. Must be one from  dict_keys(['bicycle', 'bus', 'car', 'cng', 'bike', 'truck'])\n"
     ]
    },
    {
     "name": "stderr",
     "output_type": "stream",
     "text": [
      "  7%|█████▏                                                                        | 265/3994 [00:00<00:09, 374.77it/s]"
     ]
    },
    {
     "name": "stdout",
     "output_type": "stream",
     "text": [
      "Invalid Class rickshaw at bicycle (30).jpg. Must be one from  dict_keys(['bicycle', 'bus', 'car', 'cng', 'bike', 'truck'])\n",
      "Invalid Class rickshaw at bicycle (308).jpg. Must be one from  dict_keys(['bicycle', 'bus', 'car', 'cng', 'bike', 'truck'])\n",
      "Invalid Class rickshaw at bicycle (308).jpg. Must be one from  dict_keys(['bicycle', 'bus', 'car', 'cng', 'bike', 'truck'])\n",
      "Invalid Class rickshaw at bicycle (308).jpg. Must be one from  dict_keys(['bicycle', 'bus', 'car', 'cng', 'bike', 'truck'])\n",
      "Invalid Class rickshaw at bicycle (344).jpg. Must be one from  dict_keys(['bicycle', 'bus', 'car', 'cng', 'bike', 'truck'])\n",
      "Invalid Class van at bicycle (347).jpg. Must be one from  dict_keys(['bicycle', 'bus', 'car', 'cng', 'bike', 'truck'])\n"
     ]
    },
    {
     "name": "stderr",
     "output_type": "stream",
     "text": [
      " 10%|███████▍                                                                      | 381/3994 [00:01<00:09, 364.33it/s]"
     ]
    },
    {
     "name": "stdout",
     "output_type": "stream",
     "text": [
      "Invalid Class boat at bicycle (400).jpg. Must be one from  dict_keys(['bicycle', 'bus', 'car', 'cng', 'bike', 'truck'])\n",
      "Invalid Class boat at bicycle (400).jpg. Must be one from  dict_keys(['bicycle', 'bus', 'car', 'cng', 'bike', 'truck'])\n",
      "Invalid Class boat at bicycle (400).jpg. Must be one from  dict_keys(['bicycle', 'bus', 'car', 'cng', 'bike', 'truck'])\n",
      "Invalid Class rickshaw at bicycle (405).jpg. Must be one from  dict_keys(['bicycle', 'bus', 'car', 'cng', 'bike', 'truck'])\n",
      "Invalid Class rickshaw at bicycle (405).jpg. Must be one from  dict_keys(['bicycle', 'bus', 'car', 'cng', 'bike', 'truck'])\n",
      "Invalid Class rickshaw at bicycle (405).jpg. Must be one from  dict_keys(['bicycle', 'bus', 'car', 'cng', 'bike', 'truck'])\n",
      "Invalid Class rickshaw at bicycle (407).jpg. Must be one from  dict_keys(['bicycle', 'bus', 'car', 'cng', 'bike', 'truck'])\n",
      "Invalid Class rickshaw at bicycle (407).jpg. Must be one from  dict_keys(['bicycle', 'bus', 'car', 'cng', 'bike', 'truck'])\n",
      "Invalid Class rickshaw at bicycle (407).jpg. Must be one from  dict_keys(['bicycle', 'bus', 'car', 'cng', 'bike', 'truck'])\n",
      "Invalid Class rickshaw at bicycle (412).jpg. Must be one from  dict_keys(['bicycle', 'bus', 'car', 'cng', 'bike', 'truck'])\n",
      "Invalid Class boat at bicycle (419).jpg. Must be one from  dict_keys(['bicycle', 'bus', 'car', 'cng', 'bike', 'truck'])\n",
      "Invalid Class rickshaw at bicycle (440).jpg. Must be one from  dict_keys(['bicycle', 'bus', 'car', 'cng', 'bike', 'truck'])\n"
     ]
    },
    {
     "name": "stderr",
     "output_type": "stream",
     "text": [
      " 17%|█████████████▌                                                                | 692/3994 [00:02<00:11, 279.45it/s]"
     ]
    },
    {
     "name": "stdout",
     "output_type": "stream",
     "text": [
      "Invalid Class rickshaw at bicycle (702).jpg. Must be one from  dict_keys(['bicycle', 'bus', 'car', 'cng', 'bike', 'truck'])\n",
      "Invalid Class rickshaw at bicycle (703).jpg. Must be one from  dict_keys(['bicycle', 'bus', 'car', 'cng', 'bike', 'truck'])\n",
      "Invalid Class rickshaw at bicycle (703).jpg. Must be one from  dict_keys(['bicycle', 'bus', 'car', 'cng', 'bike', 'truck'])\n",
      "Invalid Class rickshaw at bicycle (703).jpg. Must be one from  dict_keys(['bicycle', 'bus', 'car', 'cng', 'bike', 'truck'])\n",
      "Invalid Class van at bicycle (706).jpg. Must be one from  dict_keys(['bicycle', 'bus', 'car', 'cng', 'bike', 'truck'])\n",
      "Invalid Class rickshaw at bicycle (80).jpg. Must be one from  dict_keys(['bicycle', 'bus', 'car', 'cng', 'bike', 'truck'])\n",
      "Invalid Class van at bicycle (80).jpg. Must be one from  dict_keys(['bicycle', 'bus', 'car', 'cng', 'bike', 'truck'])\n",
      "Invalid Class van at bicycle (80).jpg. Must be one from  dict_keys(['bicycle', 'bus', 'car', 'cng', 'bike', 'truck'])\n"
     ]
    },
    {
     "name": "stderr",
     "output_type": "stream",
     "text": [
      " 20%|███████████████▏                                                              | 780/3994 [00:02<00:11, 274.46it/s]"
     ]
    },
    {
     "name": "stdout",
     "output_type": "stream",
     "text": [
      "Invalid Class rickshaw at bike (136).jpg. Must be one from  dict_keys(['bicycle', 'bus', 'car', 'cng', 'bike', 'truck'])\n",
      "Invalid Class van at bike (146).jpg. Must be one from  dict_keys(['bicycle', 'bus', 'car', 'cng', 'bike', 'truck'])\n",
      "Invalid Class rickshaw at bike (152).jpg. Must be one from  dict_keys(['bicycle', 'bus', 'car', 'cng', 'bike', 'truck'])\n"
     ]
    },
    {
     "name": "stderr",
     "output_type": "stream",
     "text": [
      " 26%|███████████████████▋                                                         | 1019/3994 [00:03<00:08, 334.80it/s]"
     ]
    },
    {
     "name": "stdout",
     "output_type": "stream",
     "text": [
      "Invalid Class van at bike (333).jpg. Must be one from  dict_keys(['bicycle', 'bus', 'car', 'cng', 'bike', 'truck'])\n",
      "Invalid Class van at bike (334).jpg. Must be one from  dict_keys(['bicycle', 'bus', 'car', 'cng', 'bike', 'truck'])\n",
      "Invalid Class boat at bike (363).jpg. Must be one from  dict_keys(['bicycle', 'bus', 'car', 'cng', 'bike', 'truck'])\n",
      "Invalid Class van at bike (371).jpg. Must be one from  dict_keys(['bicycle', 'bus', 'car', 'cng', 'bike', 'truck'])\n",
      "Invalid Class leguna at bike (371).jpg. Must be one from  dict_keys(['bicycle', 'bus', 'car', 'cng', 'bike', 'truck'])\n",
      "Invalid Class rickshaw at bike (376).jpg. Must be one from  dict_keys(['bicycle', 'bus', 'car', 'cng', 'bike', 'truck'])\n",
      "Invalid Class rickshaw at bike (378).jpg. Must be one from  dict_keys(['bicycle', 'bus', 'car', 'cng', 'bike', 'truck'])\n",
      "Invalid Class rickshaw at bike (378).jpg. Must be one from  dict_keys(['bicycle', 'bus', 'car', 'cng', 'bike', 'truck'])\n",
      "Invalid Class van at bike (381).jpg. Must be one from  dict_keys(['bicycle', 'bus', 'car', 'cng', 'bike', 'truck'])\n",
      "Invalid Class rickshaw at bike (384).jpg. Must be one from  dict_keys(['bicycle', 'bus', 'car', 'cng', 'bike', 'truck'])\n",
      "Invalid Class rickshaw at bike (384).jpg. Must be one from  dict_keys(['bicycle', 'bus', 'car', 'cng', 'bike', 'truck'])\n"
     ]
    },
    {
     "name": "stderr",
     "output_type": "stream",
     "text": [
      "\r",
      " 26%|████████████████████▎                                                        | 1053/3994 [00:03<00:09, 312.72it/s]"
     ]
    },
    {
     "name": "stdout",
     "output_type": "stream",
     "text": [
      "Invalid Class rickshaw at bike (395).jpg. Must be one from  dict_keys(['bicycle', 'bus', 'car', 'cng', 'bike', 'truck'])\n",
      "Invalid Class van at bike (395).jpg. Must be one from  dict_keys(['bicycle', 'bus', 'car', 'cng', 'bike', 'truck'])\n",
      "Invalid Class easybike at bike (435).jpg. Must be one from  dict_keys(['bicycle', 'bus', 'car', 'cng', 'bike', 'truck'])\n"
     ]
    },
    {
     "name": "stderr",
     "output_type": "stream",
     "text": [
      " 28%|█████████████████████▌                                                       | 1116/3994 [00:03<00:09, 288.32it/s]"
     ]
    },
    {
     "name": "stdout",
     "output_type": "stream",
     "text": [
      "Invalid Class boat at bike (444).jpg. Must be one from  dict_keys(['bicycle', 'bus', 'car', 'cng', 'bike', 'truck'])\n"
     ]
    },
    {
     "name": "stderr",
     "output_type": "stream",
     "text": [
      " 30%|███████████████████████▍                                                     | 1213/3994 [00:03<00:09, 303.62it/s]"
     ]
    },
    {
     "name": "stdout",
     "output_type": "stream",
     "text": [
      "Invalid Class leguna at bike (506).jpg. Must be one from  dict_keys(['bicycle', 'bus', 'car', 'cng', 'bike', 'truck'])\n",
      "Invalid Class rickshaw at bike (540).jpg. Must be one from  dict_keys(['bicycle', 'bus', 'car', 'cng', 'bike', 'truck'])\n"
     ]
    },
    {
     "name": "stderr",
     "output_type": "stream",
     "text": [
      " 32%|████████████████████████▋                                                    | 1282/3994 [00:04<00:08, 303.01it/s]"
     ]
    },
    {
     "name": "stdout",
     "output_type": "stream",
     "text": [
      "Invalid Class van at bike (584).jpg. Must be one from  dict_keys(['bicycle', 'bus', 'car', 'cng', 'bike', 'truck'])\n",
      "Invalid Class van at bike (591).jpg. Must be one from  dict_keys(['bicycle', 'bus', 'car', 'cng', 'bike', 'truck'])\n"
     ]
    },
    {
     "name": "stderr",
     "output_type": "stream",
     "text": [
      " 35%|███████████████████████████▎                                                 | 1417/3994 [00:04<00:07, 322.50it/s]"
     ]
    },
    {
     "name": "stdout",
     "output_type": "stream",
     "text": [
      "Invalid Class boat at bike (680).jpg. Must be one from  dict_keys(['bicycle', 'bus', 'car', 'cng', 'bike', 'truck'])\n",
      "Invalid Class boat at bike (681).jpg. Must be one from  dict_keys(['bicycle', 'bus', 'car', 'cng', 'bike', 'truck'])\n",
      "Invalid Class boat at bike (681).jpg. Must be one from  dict_keys(['bicycle', 'bus', 'car', 'cng', 'bike', 'truck'])\n",
      "Invalid Class boat at bike (681).jpg. Must be one from  dict_keys(['bicycle', 'bus', 'car', 'cng', 'bike', 'truck'])\n",
      "Invalid Class boat at bike (690).jpg. Must be one from  dict_keys(['bicycle', 'bus', 'car', 'cng', 'bike', 'truck'])\n",
      "Invalid Class boat at bike (690).jpg. Must be one from  dict_keys(['bicycle', 'bus', 'car', 'cng', 'bike', 'truck'])\n",
      "Invalid Class boat at bike (690).jpg. Must be one from  dict_keys(['bicycle', 'bus', 'car', 'cng', 'bike', 'truck'])\n",
      "Invalid Class boat at bike (690).jpg. Must be one from  dict_keys(['bicycle', 'bus', 'car', 'cng', 'bike', 'truck'])\n",
      "Invalid Class boat at bike (697).jpg. Must be one from  dict_keys(['bicycle', 'bus', 'car', 'cng', 'bike', 'truck'])\n",
      "Invalid Class leguna at bike (701).jpg. Must be one from  dict_keys(['bicycle', 'bus', 'car', 'cng', 'bike', 'truck'])\n",
      "Invalid Class rickshaw at bike (701).jpg. Must be one from  dict_keys(['bicycle', 'bus', 'car', 'cng', 'bike', 'truck'])\n",
      "Invalid Class rickshaw at bike (701).jpg. Must be one from  dict_keys(['bicycle', 'bus', 'car', 'cng', 'bike', 'truck'])\n",
      "Invalid Class rickshaw at bike (701).jpg. Must be one from  dict_keys(['bicycle', 'bus', 'car', 'cng', 'bike', 'truck'])\n",
      "Invalid Class rickshaw at bike (716).jpg. Must be one from  dict_keys(['bicycle', 'bus', 'car', 'cng', 'bike', 'truck'])\n"
     ]
    },
    {
     "name": "stderr",
     "output_type": "stream",
     "text": [
      " 37%|████████████████████████████▌                                                | 1484/3994 [00:04<00:07, 326.34it/s]"
     ]
    },
    {
     "name": "stdout",
     "output_type": "stream",
     "text": [
      "Invalid Class leguna at bike (744).jpg. Must be one from  dict_keys(['bicycle', 'bus', 'car', 'cng', 'bike', 'truck'])\n",
      "Invalid Class van at bike (754).jpg. Must be one from  dict_keys(['bicycle', 'bus', 'car', 'cng', 'bike', 'truck'])\n",
      "Invalid Class rickshaw at bike (774).jpg. Must be one from  dict_keys(['bicycle', 'bus', 'car', 'cng', 'bike', 'truck'])\n",
      "Invalid Class easybike at bike (779).jpg. Must be one from  dict_keys(['bicycle', 'bus', 'car', 'cng', 'bike', 'truck'])\n",
      "Invalid Class rickshaw at bike (779).jpg. Must be one from  dict_keys(['bicycle', 'bus', 'car', 'cng', 'bike', 'truck'])\n",
      "Invalid Class van at bike (780).jpg. Must be one from  dict_keys(['bicycle', 'bus', 'car', 'cng', 'bike', 'truck'])\n",
      "Invalid Class boat at bike (781).jpg. Must be one from  dict_keys(['bicycle', 'bus', 'car', 'cng', 'bike', 'truck'])\n",
      "Invalid Class boat at bike (791).jpg. Must be one from  dict_keys(['bicycle', 'bus', 'car', 'cng', 'bike', 'truck'])\n",
      "Invalid Class boat at bike (791).jpg. Must be one from  dict_keys(['bicycle', 'bus', 'car', 'cng', 'bike', 'truck'])\n",
      "Invalid Class boat at bike (791).jpg. Must be one from  dict_keys(['bicycle', 'bus', 'car', 'cng', 'bike', 'truck'])\n",
      "Invalid Class boat at bike (791).jpg. Must be one from  dict_keys(['bicycle', 'bus', 'car', 'cng', 'bike', 'truck'])\n",
      "Invalid Class boat at bike (791).jpg. Must be one from  dict_keys(['bicycle', 'bus', 'car', 'cng', 'bike', 'truck'])\n",
      "Invalid Class boat at bike (791).jpg. Must be one from  dict_keys(['bicycle', 'bus', 'car', 'cng', 'bike', 'truck'])\n",
      "Invalid Class rickshaw at bike (795).jpg. Must be one from  dict_keys(['bicycle', 'bus', 'car', 'cng', 'bike', 'truck'])\n"
     ]
    },
    {
     "name": "stderr",
     "output_type": "stream",
     "text": [
      " 39%|█████████████████████████████▉                                               | 1551/3994 [00:04<00:07, 327.90it/s]"
     ]
    },
    {
     "name": "stdout",
     "output_type": "stream",
     "text": [
      "Invalid Class van at bike (81).jpg. Must be one from  dict_keys(['bicycle', 'bus', 'car', 'cng', 'bike', 'truck'])\n"
     ]
    },
    {
     "name": "stderr",
     "output_type": "stream",
     "text": [
      "\r",
      " 40%|██████████████████████████████▌                                              | 1584/3994 [00:05<00:07, 319.39it/s]"
     ]
    },
    {
     "name": "stdout",
     "output_type": "stream",
     "text": [
      "Invalid Class rickshaw at bike (98).jpg. Must be one from  dict_keys(['bicycle', 'bus', 'car', 'cng', 'bike', 'truck'])\n",
      "Invalid Class rickshaw at bike (98).jpg. Must be one from  dict_keys(['bicycle', 'bus', 'car', 'cng', 'bike', 'truck'])\n",
      "Invalid Class rickshaw at bike (98).jpg. Must be one from  dict_keys(['bicycle', 'bus', 'car', 'cng', 'bike', 'truck'])\n",
      "Invalid Class easybike at bus 106.jpg. Must be one from  dict_keys(['bicycle', 'bus', 'car', 'cng', 'bike', 'truck'])\n",
      "Invalid Class easybike at bus 121.jpg. Must be one from  dict_keys(['bicycle', 'bus', 'car', 'cng', 'bike', 'truck'])\n",
      "Invalid Class van at bus 122.jpg. Must be one from  dict_keys(['bicycle', 'bus', 'car', 'cng', 'bike', 'truck'])\n",
      "Invalid Class easybike at bus 126.jpg. Must be one from  dict_keys(['bicycle', 'bus', 'car', 'cng', 'bike', 'truck'])\n",
      "Invalid Class rickshaw at bus 138.jpg. Must be one from  dict_keys(['bicycle', 'bus', 'car', 'cng', 'bike', 'truck'])\n"
     ]
    },
    {
     "name": "stderr",
     "output_type": "stream",
     "text": [
      " 42%|████████████████████████████████▌                                            | 1690/3994 [00:05<00:07, 326.98it/s]"
     ]
    },
    {
     "name": "stdout",
     "output_type": "stream",
     "text": [
      "Invalid Class tractor at bus 174.jpg. Must be one from  dict_keys(['bicycle', 'bus', 'car', 'cng', 'bike', 'truck'])\n",
      "Invalid Class easybike at bus 177.jpg. Must be one from  dict_keys(['bicycle', 'bus', 'car', 'cng', 'bike', 'truck'])\n",
      "Invalid Class van at bus 193.jpg. Must be one from  dict_keys(['bicycle', 'bus', 'car', 'cng', 'bike', 'truck'])\n",
      "Invalid Class van at bus 21.jpg. Must be one from  dict_keys(['bicycle', 'bus', 'car', 'cng', 'bike', 'truck'])\n",
      "Invalid Class van at bus 227.jpg. Must be one from  dict_keys(['bicycle', 'bus', 'car', 'cng', 'bike', 'truck'])\n",
      "Invalid Class rickshaw at bus 239.jpg. Must be one from "
     ]
    },
    {
     "name": "stderr",
     "output_type": "stream",
     "text": [
      " 44%|█████████████████████████████████▉                                           | 1761/3994 [00:05<00:06, 335.96it/s]"
     ]
    },
    {
     "name": "stdout",
     "output_type": "stream",
     "text": [
      " dict_keys(['bicycle', 'bus', 'car', 'cng', 'bike', 'truck'])\n",
      "Invalid Class van at bus 239.jpg. Must be one from  dict_keys(['bicycle', 'bus', 'car', 'cng', 'bike', 'truck'])\n",
      "Invalid Class rickshaw at bus 243.jpg. Must be one from  dict_keys(['bicycle', 'bus', 'car', 'cng', 'bike', 'truck'])\n",
      "Invalid Class rickshaw at bus 245.jpg. Must be one from  dict_keys(['bicycle', 'bus', 'car', 'cng', 'bike', 'truck'])\n",
      "Invalid Class rickshaw at bus 245.jpg. Must be one from  dict_keys(['bicycle', 'bus', 'car', 'cng', 'bike', 'truck'])\n",
      "Invalid Class easybike at bus 25.jpg. Must be one from  dict_keys(['bicycle', 'bus', 'car', 'cng', 'bike', 'truck'])\n",
      "Invalid Class rickshaw at bus 252.jpg. Must be one from  dict_keys(['bicycle', 'bus', 'car', 'cng', 'bike', 'truck'])\n",
      "Invalid Class rickshaw at bus 255.jpg. Must be one from  dict_keys(['bicycle', 'bus', 'car', 'cng', 'bike', 'truck'])\n",
      "Invalid Class rickshaw at bus 256.jpg. Must be one from  dict_keys(['bicycle', 'bus', 'car', 'cng', 'bike', 'truck'])\n",
      "Invalid Class rickshaw at bus 262.jpg. Must be one from  dict_keys(['bicycle', 'bus', 'car', 'cng', 'bike', 'truck'])\n",
      "Invalid Class van at bus 272.jpg. Must be one from  dict_keys(['bicycle', 'bus', 'car', 'cng', 'bike', 'truck'])\n",
      "Invalid Class van at bus 272.jpg. Must be one from  dict_keys(['bicycle', 'bus', 'car', 'cng', 'bike', 'truck'])\n",
      "Invalid Class wheelbarrow at bus 272.jpg. Must be one from  dict_keys(['bicycle', 'bus', 'car', 'cng', 'bike', 'truck'])\n",
      "Invalid Class rickshaw at bus 272.jpg. Must be one from  dict_keys(['bicycle', 'bus', 'car', 'cng', 'bike', 'truck'])\n",
      "Invalid Class rickshaw at bus 274.jpg. Must be one from  dict_keys(['bicycle', 'bus', 'car', 'cng', 'bike', 'truck'])\n",
      "Invalid Class rickshaw at bus 276.jpg. Must be one from  dict_keys(['bicycle', 'bus', 'car', 'cng', 'bike', 'truck'])\n",
      "Invalid Class leguna at bus 278.jpg. Must be one from  dict_keys(['bicycle', 'bus', 'car', 'cng', 'bike', 'truck'])\n",
      "Invalid Class rickshaw at bus 280.jpg. Must be one from  dict_keys(['bicycle', 'bus', 'car', 'cng', 'bike', 'truck'])\n",
      "Invalid Class rickshaw at bus 283.jpg. Must be one from  dict_keys(['bicycle', 'bus', 'car', 'cng', 'bike', 'truck'])\n",
      "Invalid Class leguna at bus 285.jpg. Must be one from  dict_keys(['bicycle', 'bus', 'car', 'cng', 'bike', 'truck'])\n"
     ]
    },
    {
     "name": "stderr",
     "output_type": "stream",
     "text": [
      " 46%|███████████████████████████████████▍                                         | 1836/3994 [00:05<00:06, 351.57it/s]"
     ]
    },
    {
     "name": "stdout",
     "output_type": "stream",
     "text": [
      "Invalid Class rickshaw at bus 304.jpg. Must be one from  dict_keys(['bicycle', 'bus', 'car', 'cng', 'bike', 'truck'])\n",
      "Invalid Class rickshaw at bus 304.jpg. Must be one from  dict_keys(['bicycle', 'bus', 'car', 'cng', 'bike', 'truck'])\n",
      "Invalid Class rickshaw at bus 304.jpg. Must be one from  dict_keys(['bicycle', 'bus', 'car', 'cng', 'bike', 'truck'])\n",
      "Invalid Class rickshaw at bus 325.jpg. Must be one from  dict_keys(['bicycle', 'bus', 'car', 'cng', 'bike', 'truck'])\n",
      "Invalid Class easybike at bus 33.jpg. Must be one from  dict_keys(['bicycle', 'bus', 'car', 'cng', 'bike', 'truck'])\n",
      "Invalid Class easybike at bus 33.jpg. Must be one from  dict_keys(['bicycle', 'bus', 'car', 'cng', 'bike', 'truck'])\n",
      "Invalid Class easybike at bus 33.jpg. Must be one from  dict_keys(['bicycle', 'bus', 'car', 'cng', 'bike', 'truck'])\n",
      "Invalid Class rickshaw at bus 342.jpg. Must be one from  dict_keys(['bicycle', 'bus', 'car', 'cng', 'bike', 'truck'])\n",
      "Invalid Class rickshaw at bus 342.jpg. Must be one from  dict_keys(['bicycle', 'bus', 'car', 'cng', 'bike', 'truck'])\n",
      "Invalid Class rickshaw at bus 342.jpg. Must be one from  dict_keys(['bicycle', 'bus', 'car', 'cng', 'bike', 'truck'])\n",
      "Invalid Class rickshaw at bus 35.jpg. Must be one from  dict_keys(['bicycle', 'bus', 'car', 'cng', 'bike', 'truck'])\n",
      "Invalid Class rickshaw at bus 35.jpg. Must be one from  dict_keys(['bicycle', 'bus', 'car', 'cng', 'bike', 'truck'])\n",
      "Invalid Class easybike at bus 36.jpg. Must be one from  dict_keys(['bicycle', 'bus', 'car', 'cng', 'bike', 'truck'])\n",
      "Invalid Class rickshaw at bus 362.jpg. Must be one from  dict_keys(['bicycle', 'bus', 'car', 'cng', 'bike', 'truck'])\n",
      "Invalid Class leguna at bus 364.jpg. Must be one from  dict_keys(['bicycle', 'bus', 'car', 'cng', 'bike', 'truck'])\n",
      "Invalid Class rickshaw at bus 366.jpg. Must be one from  dict_keys(['bicycle', 'bus', 'car', 'cng', 'bike', 'truck'])\n",
      "Invalid Class rickshaw at bus 367.jpg. Must be one from  dict_keys(['bicycle', 'bus', 'car', 'cng', 'bike', 'truck'])\n"
     ]
    },
    {
     "name": "stderr",
     "output_type": "stream",
     "text": [
      " 48%|████████████████████████████████████▊                                        | 1908/3994 [00:05<00:05, 350.39it/s]"
     ]
    },
    {
     "name": "stdout",
     "output_type": "stream",
     "text": [
      "Invalid Class rickshaw at bus 371.jpg. Must be one from  dict_keys(['bicycle', 'bus', 'car', 'cng', 'bike', 'truck'])\n",
      "Invalid Class rickshaw at bus 371.jpg. Must be one from  dict_keys(['bicycle', 'bus', 'car', 'cng', 'bike', 'truck'])\n",
      "Invalid Class rickshaw at bus 374.jpg. Must be one from  dict_keys(['bicycle', 'bus', 'car', 'cng', 'bike', 'truck'])\n",
      "Invalid Class easybike at bus 38.jpg. Must be one from  dict_keys(['bicycle', 'bus', 'car', 'cng', 'bike', 'truck'])\n",
      "Invalid Class rickshaw at bus 387.jpg. Must be one from  dict_keys(['bicycle', 'bus', 'car', 'cng', 'bike', 'truck'])\n",
      "Invalid Class rickshaw at bus 387.jpg. Must be one from  dict_keys(['bicycle', 'bus', 'car', 'cng', 'bike', 'truck'])\n",
      "Invalid Class rickshaw at bus 387.jpg. Must be one from  dict_keys(['bicycle', 'bus', 'car', 'cng', 'bike', 'truck'])\n",
      "Invalid Class rickshaw at bus 388.jpg. Must be one from  dict_keys(['bicycle', 'bus', 'car', 'cng', 'bike', 'truck'])\n",
      "Invalid Class rickshaw at bus 388.jpg. Must be one from  dict_keys(['bicycle', 'bus', 'car', 'cng', 'bike', 'truck'])\n",
      "Invalid Class van at bus 391.jpg. Must be one from  dict_keys(['bicycle', 'bus', 'car', 'cng', 'bike', 'truck'])\n",
      "Invalid Class rickshaw at bus 394.jpg. Must be one from  dict_keys(['bicycle', 'bus', 'car', 'cng', 'bike', 'truck'])\n",
      "Invalid Class rickshaw at bus 394.jpg. Must be one from  dict_keys(['bicycle', 'bus', 'car', 'cng', 'bike', 'truck'])\n",
      "Invalid Class rickshaw at bus 394.jpg. Must be one from  dict_keys(['bicycle', 'bus', 'car', 'cng', 'bike', 'truck'])\n",
      "Invalid Class rickshaw at bus 398.jpg. Must be one from  dict_keys(['bicycle', 'bus', 'car', 'cng', 'bike', 'truck'])\n",
      "Invalid Class rickshaw at bus 398.jpg. Must be one from  dict_keys(['bicycle', 'bus', 'car', 'cng', 'bike', 'truck'])\n",
      "Invalid Class rickshaw at bus 398.jpg. Must be one from  dict_keys(['bicycle', 'bus', 'car', 'cng', 'bike', 'truck'])\n",
      "Invalid Class rickshaw at bus 400.jpg. Must be one from  dict_keys(['bicycle', 'bus', 'car', 'cng', 'bike', 'truck'])\n",
      "Invalid Class rickshaw at bus 400.jpg. Must be one from  dict_keys(['bicycle', 'bus', 'car', 'cng', 'bike', 'truck'])\n",
      "Invalid Class rickshaw at bus 400.jpg. Must be one from  dict_keys(['bicycle', 'bus', 'car', 'cng', 'bike', 'truck'])\n",
      "Invalid Class rickshaw at bus 401.jpg. Must be one from  dict_keys(['bicycle', 'bus', 'car', 'cng', 'bike', 'truck'])\n",
      "Invalid Class rickshaw at bus 401.jpg. Must be one from  dict_keys(['bicycle', 'bus', 'car', 'cng', 'bike', 'truck'])\n",
      "Invalid Class rickshaw at bus 401.jpg. Must be one from  dict_keys(['bicycle', 'bus', 'car', 'cng', 'bike', 'truck'])\n",
      "Invalid Class rickshaw at bus 401.jpg. Must be one from  dict_keys(['bicycle', 'bus', 'car', 'cng', 'bike', 'truck'])\n",
      "Invalid Class rickshaw at bus 402.jpg. Must be one from  dict_keys(['bicycle', 'bus', 'car', 'cng', 'bike', 'truck'])\n",
      "Invalid Class rickshaw at bus 403.jpg. Must be one from  dict_keys(['bicycle', 'bus', 'car', 'cng', 'bike', 'truck'])\n",
      "Invalid Class rickshaw at bus 405.jpg. Must be one from  dict_keys(['bicycle', 'bus', 'car', 'cng', 'bike', 'truck'])\n",
      "Invalid Class rickshaw at bus 406.jpg. Must be one from  dict_keys(['bicycle', 'bus', 'car', 'cng', 'bike', 'truck'])\n",
      "Invalid Class rickshaw at bus 407.jpg. Must be one from  dict_keys(['bicycle', 'bus', 'car', 'cng', 'bike', 'truck'])\n",
      "Invalid Class rickshaw at bus 408.jpg. Must be one from  dict_keys(['bicycle', 'bus', 'car', 'cng', 'bike', 'truck'])\n",
      "Invalid Class rickshaw at bus 408.jpg. Must be one from  dict_keys(['bicycle', 'bus', 'car', 'cng', 'bike', 'truck'])\n",
      "Invalid Class rickshaw at bus 411.jpg. Must be one from  dict_keys(['bicycle', 'bus', 'car', 'cng', 'bike', 'truck'])\n",
      "Invalid Class van at bus 412.jpg. Must be one from  dict_keys(['bicycle', 'bus', 'car', 'cng', 'bike', 'truck'])\n",
      "Invalid Class rickshaw at bus 413.jpg. Must be one from  dict_keys(['bicycle', 'bus', 'car', 'cng', 'bike', 'truck'])\n",
      "Invalid Class rickshaw at bus 420.jpg. Must be one from  dict_keys(['bicycle', 'bus', 'car', 'cng', 'bike', 'truck'])\n",
      "Invalid Class rickshaw at bus 427.jpg. Must be one from  dict_keys(['bicycle', 'bus', 'car', 'cng', 'bike', 'truck'])\n",
      "Invalid Class van at bus 427.jpg. Must be one from  dict_keys(['bicycle', 'bus', 'car', 'cng', 'bike', 'truck'])\n",
      "Invalid Class rickshaw at bus 428.jpg. Must be one from  dict_keys(['bicycle', 'bus', 'car', 'cng', 'bike', 'truck'])\n",
      "Invalid Class rickshaw at bus 428.jpg. Must be one from  dict_keys(['bicycle', 'bus', 'car', 'cng', 'bike', 'truck'])\n",
      "Invalid Class van at bus 43.jpg. Must be one from  dict_keys(['bicycle', 'bus', 'car', 'cng', 'bike', 'truck'])\n",
      "Invalid Class easybike at bus 43.jpg. Must be one from  dict_keys(['bicycle', 'bus', 'car', 'cng', 'bike', 'truck'])\n"
     ]
    },
    {
     "name": "stderr",
     "output_type": "stream",
     "text": [
      " 50%|██████████████████████████████████████▏                                      | 1981/3994 [00:06<00:05, 350.48it/s]"
     ]
    },
    {
     "name": "stdout",
     "output_type": "stream",
     "text": [
      "Invalid Class rickshaw at bus 430.jpg. Must be one from  dict_keys(['bicycle', 'bus', 'car', 'cng', 'bike', 'truck'])\n",
      "Invalid Class rickshaw at bus 430.jpg. Must be one from  dict_keys(['bicycle', 'bus', 'car', 'cng', 'bike', 'truck'])\n",
      "Invalid Class rickshaw at bus 431.jpg. Must be one from  dict_keys(['bicycle', 'bus', 'car', 'cng', 'bike', 'truck'])\n",
      "Invalid Class rickshaw at bus 433.jpg. Must be one from  dict_keys(['bicycle', 'bus', 'car', 'cng', 'bike', 'truck'])\n",
      "Invalid Class rickshaw at bus 433.jpg. Must be one from  dict_keys(['bicycle', 'bus', 'car', 'cng', 'bike', 'truck'])\n",
      "Invalid Class rickshaw at bus 433.jpg. Must be one from  dict_keys(['bicycle', 'bus', 'car', 'cng', 'bike', 'truck'])\n",
      "Invalid Class horsecart at bus 434.jpg. Must be one from  dict_keys(['bicycle', 'bus', 'car', 'cng', 'bike', 'truck'])\n",
      "Invalid Class rickshaw at bus 434.jpg. Must be one from  dict_keys(['bicycle', 'bus', 'car', 'cng', 'bike', 'truck'])\n",
      "Invalid Class rickshaw at bus 434.jpg. Must be one from  dict_keys(['bicycle', 'bus', 'car', 'cng', 'bike', 'truck'])\n",
      "Invalid Class rickshaw at bus 435.jpg. Must be one from  dict_keys(['bicycle', 'bus', 'car', 'cng', 'bike', 'truck'])\n",
      "Invalid Class rickshaw at bus 443.jpg. Must be one from  dict_keys(['bicycle', 'bus', 'car', 'cng', 'bike', 'truck'])\n",
      "Invalid Class rickshaw at bus 444.jpg. Must be one from  dict_keys(['bicycle', 'bus', 'car', 'cng', 'bike', 'truck'])\n",
      "Invalid Class rickshaw at bus 445.jpg. Must be one from  dict_keys(['bicycle', 'bus', 'car', 'cng', 'bike', 'truck'])\n",
      "Invalid Class rickshaw at bus 445.jpg. Must be one from  dict_keys(['bicycle', 'bus', 'car', 'cng', 'bike', 'truck'])\n",
      "Invalid Class van at bus 447.jpg. Must be one from  dict_keys(['bicycle', 'bus', 'car', 'cng', 'bike', 'truck'])\n",
      "Invalid Class rickshaw at bus 447.jpg. Must be one from  dict_keys(['bicycle', 'bus', 'car', 'cng', 'bike', 'truck'])\n",
      "Invalid Class leguna at bus 47.jpg. Must be one from  dict_keys(['bicycle', 'bus', 'car', 'cng', 'bike', 'truck'])\n",
      "Invalid Class rickshaw at bus 60.jpg. Must be one from  dict_keys(['bicycle', 'bus', 'car', 'cng', 'bike', 'truck'])\n",
      "Invalid Class rickshaw at bus 67.jpg. Must be one from  dict_keys(['bicycle', 'bus', 'car', 'cng', 'bike', 'truck'])\n",
      "Invalid Class rickshaw at bus 72.jpg. Must be one from  dict_keys(['bicycle', 'bus', 'car', 'cng', 'bike', 'truck'])\n",
      "Invalid Class easybike at bus 79.jpg. Must be one from  dict_keys(['bicycle', 'bus', 'car', 'cng', 'bike', 'truck'])\n"
     ]
    },
    {
     "name": "stderr",
     "output_type": "stream",
     "text": [
      " 51%|███████████████████████████████████████▋                                     | 2056/3994 [00:06<00:05, 362.02it/s]"
     ]
    },
    {
     "name": "stdout",
     "output_type": "stream",
     "text": [
      "Invalid Class easybike at bus 92.jpg. Must be one from  dict_keys(['bicycle', 'bus', 'car', 'cng', 'bike', 'truck'])\n",
      "Invalid Class easybike at bus 92.jpg. Must be one from  dict_keys(['bicycle', 'bus', 'car', 'cng', 'bike', 'truck'])\n",
      "Invalid Class rickshaw at bus 92.jpg. Must be one from  dict_keys(['bicycle', 'bus', 'car', 'cng', 'bike', 'truck'])\n",
      "Invalid Class rickshaw at bus 92.jpg. Must be one from  dict_keys(['bicycle', 'bus', 'car', 'cng', 'bike', 'truck'])\n",
      "Invalid Class rickshaw at bus 92.jpg. Must be one from  dict_keys(['bicycle', 'bus', 'car', 'cng', 'bike', 'truck'])\n"
     ]
    },
    {
     "name": "stderr",
     "output_type": "stream",
     "text": [
      " 55%|██████████████████████████████████████████▋                                  | 2212/3994 [00:06<00:04, 369.11it/s]"
     ]
    },
    {
     "name": "stdout",
     "output_type": "stream",
     "text": [
      "Invalid Class tractor at car (226).jpg. Must be one from  dict_keys(['bicycle', 'bus', 'car', 'cng', 'bike', 'truck'])\n",
      "Invalid Class tractor at car (226).jpg. Must be one from  dict_keys(['bicycle', 'bus', 'car', 'cng', 'bike', 'truck'])\n"
     ]
    },
    {
     "name": "stderr",
     "output_type": "stream",
     "text": [
      " 61%|██████████████████████████████████████████████▉                              | 2434/3994 [00:07<00:04, 361.63it/s]"
     ]
    },
    {
     "name": "stdout",
     "output_type": "stream",
     "text": [
      "Invalid Class rickshaw at car (437).jpg. Must be one from  dict_keys(['bicycle', 'bus', 'car', 'cng', 'bike', 'truck'])\n",
      "Invalid Class rickshaw at car (457).jpg. Must be one from  dict_keys(['bicycle', 'bus', 'car', 'cng', 'bike', 'truck'])\n"
     ]
    },
    {
     "name": "stderr",
     "output_type": "stream",
     "text": [
      " 68%|████████████████████████████████████████████████████▍                        | 2722/3994 [00:08<00:03, 341.35it/s]"
     ]
    },
    {
     "name": "stdout",
     "output_type": "stream",
     "text": [
      "Invalid Class rickshaw at car (672).jpg. Must be one from  dict_keys(['bicycle', 'bus', 'car', 'cng', 'bike', 'truck'])\n",
      "Invalid Class easybike at car (679).jpg. Must be one from  dict_keys(['bicycle', 'bus', 'car', 'cng', 'bike', 'truck'])\n",
      "Invalid Class van at car (689).jpg. Must be one from  dict_keys(['bicycle', 'bus', 'car', 'cng', 'bike', 'truck'])\n",
      "Invalid Class van at car (689).jpg. Must be one from  dict_keys(['bicycle', 'bus', 'car', 'cng', 'bike', 'truck'])\n",
      "Invalid Class rickshaw at car (694).jpg. Must be one from  dict_keys(['bicycle', 'bus', 'car', 'cng', 'bike', 'truck'])\n",
      "Invalid Class van at cng (1).jpg. Must be one from "
     ]
    },
    {
     "name": "stderr",
     "output_type": "stream",
     "text": [
      " 70%|█████████████████████████████████████████████████████▊                       | 2792/3994 [00:08<00:03, 336.76it/s]"
     ]
    },
    {
     "name": "stdout",
     "output_type": "stream",
     "text": [
      " dict_keys(['bicycle', 'bus', 'car', 'cng', 'bike', 'truck'])\n",
      "Invalid Class rickshaw at cng (122).jpg. Must be one from  dict_keys(['bicycle', 'bus', 'car', 'cng', 'bike', 'truck'])\n",
      "Invalid Class rickshaw at cng (122).jpg. Must be one from  dict_keys(['bicycle', 'bus', 'car', 'cng', 'bike', 'truck'])\n",
      "Invalid Class rickshaw at cng (122).jpg. Must be one from  dict_keys(['bicycle', 'bus', 'car', 'cng', 'bike', 'truck'])\n",
      "Invalid Class rickshaw at cng (122).jpg. Must be one from  dict_keys(['bicycle', 'bus', 'car', 'cng', 'bike', 'truck'])\n",
      "Invalid Class rickshaw at cng (123).jpg. Must be one from  dict_keys(['bicycle', 'bus', 'car', 'cng', 'bike', 'truck'])\n",
      "Invalid Class rickshaw at cng (123).jpg. Must be one from  dict_keys(['bicycle', 'bus', 'car', 'cng', 'bike', 'truck'])\n",
      "Invalid Class rickshaw at cng (123).jpg. Must be one from  dict_keys(['bicycle', 'bus', 'car', 'cng', 'bike', 'truck'])\n",
      "Invalid Class rickshaw at cng (123).jpg. Must be one from  dict_keys(['bicycle', 'bus', 'car', 'cng', 'bike', 'truck'])\n",
      "Invalid Class rickshaw at cng (130).jpg. Must be one from  dict_keys(['bicycle', 'bus', 'car', 'cng', 'bike', 'truck'])\n",
      "Invalid Class rickshaw at cng (131).jpg. Must be one from  dict_keys(['bicycle', 'bus', 'car', 'cng', 'bike', 'truck'])\n",
      "Invalid Class rickshaw at cng (144).jpg. Must be one from  dict_keys(['bicycle', 'bus', 'car', 'cng', 'bike', 'truck'])\n",
      "Invalid Class rickshaw at cng (145).jpg. Must be one from  dict_keys(['bicycle', 'bus', 'car', 'cng', 'bike', 'truck'])\n",
      "Invalid Class rickshaw at cng (156).jpg. Must be one from "
     ]
    },
    {
     "name": "stderr",
     "output_type": "stream",
     "text": [
      "\r",
      " 71%|██████████████████████████████████████████████████████▍                      | 2826/3994 [00:08<00:03, 325.73it/s]"
     ]
    },
    {
     "name": "stdout",
     "output_type": "stream",
     "text": [
      " dict_keys(['bicycle', 'bus', 'car', 'cng', 'bike', 'truck'])\n",
      "Invalid Class rickshaw at cng (157).jpg. Must be one from  dict_keys(['bicycle', 'bus', 'car', 'cng', 'bike', 'truck'])\n",
      "Invalid Class van at cng (172).jpg. Must be one from  dict_keys(['bicycle', 'bus', 'car', 'cng', 'bike', 'truck'])\n",
      "Invalid Class van at cng (173).jpg. Must be one from  dict_keys(['bicycle', 'bus', 'car', 'cng', 'bike', 'truck'])\n",
      "Invalid Class van at cng (176).jpg. Must be one from  dict_keys(['bicycle', 'bus', 'car', 'cng', 'bike', 'truck'])\n",
      "Invalid Class van at cng (177).jpg. Must be one from  dict_keys(['bicycle', 'bus', 'car', 'cng', 'bike', 'truck'])\n",
      "Invalid Class easybike at cng (196).jpg. Must be one from  dict_keys(['bicycle', 'bus', 'car', 'cng', 'bike', 'truck'])\n",
      "Invalid Class easybike at cng (196).jpg. Must be one from  dict_keys(['bicycle', 'bus', 'car', 'cng', 'bike', 'truck'])\n",
      "Invalid Class easybike at cng (196).jpg. Must be one from  dict_keys(['bicycle', 'bus', 'car', 'cng', 'bike', 'truck'])\n",
      "Invalid Class easybike at cng (196).jpg. Must be one from  dict_keys(['bicycle', 'bus', 'car', 'cng', 'bike', 'truck'])\n",
      "Invalid Class easybike at cng (197).jpg. Must be one from  dict_keys(['bicycle', 'bus', 'car', 'cng', 'bike', 'truck'])\n",
      "Invalid Class easybike at cng (197).jpg. Must be one from  dict_keys(['bicycle', 'bus', 'car', 'cng', 'bike', 'truck'])\n",
      "Invalid Class easybike at cng (197).jpg. Must be one from  dict_keys(['bicycle', 'bus', 'car', 'cng', 'bike', 'truck'])\n",
      "Invalid Class easybike at cng (197).jpg. Must be one from  dict_keys(['bicycle', 'bus', 'car', 'cng', 'bike', 'truck'])\n",
      "Invalid Class easybike at cng (2).jpg. Must be one from  dict_keys(['bicycle', 'bus', 'car', 'cng', 'bike', 'truck'])\n",
      "Invalid Class easybike at cng (200).jpg. Must be one from  dict_keys(['bicycle', 'bus', 'car', 'cng', 'bike', 'truck'])\n",
      "Invalid Class easybike at cng (200).jpg. Must be one from  dict_keys(['bicycle', 'bus', 'car', 'cng', 'bike', 'truck'])\n",
      "Invalid Class easybike at cng (200).jpg. Must be one from  dict_keys(['bicycle', 'bus', 'car', 'cng', 'bike', 'truck'])\n",
      "Invalid Class leguna at cng (200).jpg. Must be one from  dict_keys(['bicycle', 'bus', 'car', 'cng', 'bike', 'truck'])\n",
      "Invalid Class easybike at cng (201).jpg. Must be one from  dict_keys(['bicycle', 'bus', 'car', 'cng', 'bike', 'truck'])\n",
      "Invalid Class easybike at cng (201).jpg. Must be one from  dict_keys(['bicycle', 'bus', 'car', 'cng', 'bike', 'truck'])\n",
      "Invalid Class easybike at cng (201).jpg. Must be one from  dict_keys(['bicycle', 'bus', 'car', 'cng', 'bike', 'truck'])\n",
      "Invalid Class easybike at cng (201).jpg. Must be one from  dict_keys(['bicycle', 'bus', 'car', 'cng', 'bike', 'truck'])\n",
      "Invalid Class leguna at cng (201).jpg. Must be one from  dict_keys(['bicycle', 'bus', 'car', 'cng', 'bike', 'truck'])\n",
      "Invalid Class rickshaw at cng (210).jpg. Must be one from "
     ]
    },
    {
     "name": "stderr",
     "output_type": "stream",
     "text": [
      " 72%|███████████████████████████████████████████████████████▊                     | 2894/3994 [00:08<00:03, 321.52it/s]"
     ]
    },
    {
     "name": "stdout",
     "output_type": "stream",
     "text": [
      " dict_keys(['bicycle', 'bus', 'car', 'cng', 'bike', 'truck'])\n",
      "Invalid Class rickshaw at cng (210).jpg. Must be one from  dict_keys(['bicycle', 'bus', 'car', 'cng', 'bike', 'truck'])\n",
      "Invalid Class rickshaw at cng (210).jpg. Must be one from  dict_keys(['bicycle', 'bus', 'car', 'cng', 'bike', 'truck'])\n",
      "Invalid Class rickshaw at cng (210).jpg. Must be one from  dict_keys(['bicycle', 'bus', 'car', 'cng', 'bike', 'truck'])\n",
      "Invalid Class rickshaw at cng (211).jpg. Must be one from  dict_keys(['bicycle', 'bus', 'car', 'cng', 'bike', 'truck'])\n",
      "Invalid Class rickshaw at cng (211).jpg. Must be one from  dict_keys(['bicycle', 'bus', 'car', 'cng', 'bike', 'truck'])\n",
      "Invalid Class rickshaw at cng (211).jpg. Must be one from  dict_keys(['bicycle', 'bus', 'car', 'cng', 'bike', 'truck'])\n",
      "Invalid Class rickshaw at cng (211).jpg. Must be one from  dict_keys(['bicycle', 'bus', 'car', 'cng', 'bike', 'truck'])\n",
      "Invalid Class van at cng (220).jpg. Must be one from  dict_keys(['bicycle', 'bus', 'car', 'cng', 'bike', 'truck'])\n",
      "Invalid Class rickshaw at cng (220).jpg. Must be one from  dict_keys(['bicycle', 'bus', 'car', 'cng', 'bike', 'truck'])\n",
      "Invalid Class rickshaw at cng (221).jpg. Must be one from  dict_keys(['bicycle', 'bus', 'car', 'cng', 'bike', 'truck'])\n",
      "Invalid Class van at cng (221).jpg. Must be one from  dict_keys(['bicycle', 'bus', 'car', 'cng', 'bike', 'truck'])\n",
      "Invalid Class rickshaw at cng (222).jpg. Must be one from  dict_keys(['bicycle', 'bus', 'car', 'cng', 'bike', 'truck'])\n",
      "Invalid Class rickshaw at cng (223).jpg. Must be one from  dict_keys(['bicycle', 'bus', 'car', 'cng', 'bike', 'truck'])\n",
      "Invalid Class rickshaw at cng (224).jpg. Must be one from  dict_keys(['bicycle', 'bus', 'car', 'cng', 'bike', 'truck'])\n",
      "Invalid Class rickshaw at cng (225).jpg. Must be one from  dict_keys(['bicycle', 'bus', 'car', 'cng', 'bike', 'truck'])\n",
      "Invalid Class rickshaw at cng (234).jpg. Must be one from  dict_keys(['bicycle', 'bus', 'car', 'cng', 'bike', 'truck'])\n",
      "Invalid Class rickshaw at cng (235).jpg. Must be one from  dict_keys(['bicycle', 'bus', 'car', 'cng', 'bike', 'truck'])\n",
      "Invalid Class rickshaw at cng (235).jpg. Must be one from  dict_keys(['bicycle', 'bus', 'car', 'cng', 'bike', 'truck'])\n",
      "Invalid Class van at cng (235).jpg. Must be one from  dict_keys(['bicycle', 'bus', 'car', 'cng', 'bike', 'truck'])\n",
      "Invalid Class rickshaw at cng (236).jpg. Must be one from  dict_keys(['bicycle', 'bus', 'car', 'cng', 'bike', 'truck'])\n",
      "Invalid Class rickshaw at cng (236).jpg. Must be one from  dict_keys(['bicycle', 'bus', 'car', 'cng', 'bike', 'truck'])\n",
      "Invalid Class van at cng (236).jpg. Must be one from  dict_keys(['bicycle', 'bus', 'car', 'cng', 'bike', 'truck'])\n",
      "Invalid Class van at cng (237).jpg. Must be one from  dict_keys(['bicycle', 'bus', 'car', 'cng', 'bike', 'truck'])\n",
      "Invalid Class rickshaw at cng (237).jpg. Must be one from  dict_keys(['bicycle', 'bus', 'car', 'cng', 'bike', 'truck'])\n",
      "Invalid Class rickshaw at cng (240).jpg. Must be one from  dict_keys(['bicycle', 'bus', 'car', 'cng', 'bike', 'truck'])\n",
      "Invalid Class rickshaw at cng (240).jpg. Must be one from  dict_keys(['bicycle', 'bus', 'car', 'cng', 'bike', 'truck'])\n",
      "Invalid Class rickshaw at cng (240).jpg. Must be one from  dict_keys(['bicycle', 'bus', 'car', 'cng', 'bike', 'truck'])\n",
      "Invalid Class rickshaw at cng (241).jpg. Must be one from  dict_keys(['bicycle', 'bus', 'car', 'cng', 'bike', 'truck'])\n",
      "Invalid Class rickshaw at cng (241).jpg. Must be one from  dict_keys(['bicycle', 'bus', 'car', 'cng', 'bike', 'truck'])\n",
      "Invalid Class rickshaw at cng (241).jpg. Must be one from  dict_keys(['bicycle', 'bus', 'car', 'cng', 'bike', 'truck'])\n",
      "Invalid Class rickshaw at cng (244).jpg. Must be one from  dict_keys(['bicycle', 'bus', 'car', 'cng', 'bike', 'truck'])\n",
      "Invalid Class rickshaw at cng (245).jpg. Must be one from  dict_keys(['bicycle', 'bus', 'car', 'cng', 'bike', 'truck'])\n",
      "Invalid Class rickshaw at cng (248).jpg. Must be one from  dict_keys(['bicycle', 'bus', 'car', 'cng', 'bike', 'truck'])\n",
      "Invalid Class rickshaw at cng (249).jpg. Must be one from  dict_keys(['bicycle', 'bus', 'car', 'cng', 'bike', 'truck'])\n",
      "Invalid Class rickshaw at cng (249).jpg. Must be one from  dict_keys(['bicycle', 'bus', 'car', 'cng', 'bike', 'truck'])\n",
      "Invalid Class van at cng (252).jpg. Must be one from  dict_keys(['bicycle', 'bus', 'car', 'cng', 'bike', 'truck'])\n",
      "Invalid Class van at cng (252).jpg. Must be one from  dict_keys(['bicycle', 'bus', 'car', 'cng', 'bike', 'truck'])\n",
      "Invalid Class rickshaw at cng (252).jpg. Must be one from  dict_keys(['bicycle', 'bus', 'car', 'cng', 'bike', 'truck'])\n",
      "Invalid Class rickshaw at cng (253).jpg. Must be one from  dict_keys(['bicycle', 'bus', 'car', 'cng', 'bike', 'truck'])\n",
      "Invalid Class van at cng (253).jpg. Must be one from  dict_keys(['bicycle', 'bus', 'car', 'cng', 'bike', 'truck'])\n",
      "Invalid Class van at cng (253).jpg. Must be one from  dict_keys(['bicycle', 'bus', 'car', 'cng', 'bike', 'truck'])\n",
      "Invalid Class rickshaw at cng (254).jpg. Must be one from  dict_keys(['bicycle', 'bus', 'car', 'cng', 'bike', 'truck'])\n",
      "Invalid Class rickshaw at cng (254).jpg. Must be one from  dict_keys(['bicycle', 'bus', 'car', 'cng', 'bike', 'truck'])\n",
      "Invalid Class rickshaw at cng (254).jpg. Must be one from  dict_keys(['bicycle', 'bus', 'car', 'cng', 'bike', 'truck'])\n",
      "Invalid Class rickshaw at cng (255).jpg. Must be one from  dict_keys(['bicycle', 'bus', 'car', 'cng', 'bike', 'truck'])\n",
      "Invalid Class rickshaw at cng (255).jpg. Must be one from  dict_keys(['bicycle', 'bus', 'car', 'cng', 'bike', 'truck'])\n",
      "Invalid Class rickshaw at cng (255).jpg. Must be one from  dict_keys(['bicycle', 'bus', 'car', 'cng', 'bike', 'truck'])\n",
      "Invalid Class van at cng (260).jpg. Must be one from  dict_keys(['bicycle', 'bus', 'car', 'cng', 'bike', 'truck'])\n",
      "Invalid Class van at cng (260).jpg. Must be one from  dict_keys(['bicycle', 'bus', 'car', 'cng', 'bike', 'truck'])\n",
      "Invalid Class van at cng (260).jpg. Must be one from  dict_keys(['bicycle', 'bus', 'car', 'cng', 'bike', 'truck'])\n",
      "Invalid Class van at cng (261).jpg. Must be one from  dict_keys(['bicycle', 'bus', 'car', 'cng', 'bike', 'truck'])\n",
      "Invalid Class van at cng (261).jpg. Must be one from  dict_keys(['bicycle', 'bus', 'car', 'cng', 'bike', 'truck'])\n",
      "Invalid Class van at cng (261).jpg. Must be one from  dict_keys(['bicycle', 'bus', 'car', 'cng', 'bike', 'truck'])\n",
      "Invalid Class van at cng (262).jpg. Must be one from  dict_keys(['bicycle', 'bus', 'car', 'cng', 'bike', 'truck'])\n",
      "Invalid Class van at cng (262).jpg. Must be one from  dict_keys(['bicycle', 'bus', 'car', 'cng', 'bike', 'truck'])\n",
      "Invalid Class van at cng (263).jpg. Must be one from  dict_keys(['bicycle', 'bus', 'car', 'cng', 'bike', 'truck'])\n",
      "Invalid Class van at cng (263).jpg. Must be one from  dict_keys(['bicycle', 'bus', 'car', 'cng', 'bike', 'truck'])\n",
      "Invalid Class rickshaw at cng (264).jpg. Must be one from  dict_keys(['bicycle', 'bus', 'car', 'cng', 'bike', 'truck'])\n",
      "Invalid Class rickshaw at cng (269).jpg. Must be one from  dict_keys(['bicycle', 'bus', 'car', 'cng', 'bike', 'truck'])\n"
     ]
    },
    {
     "name": "stderr",
     "output_type": "stream",
     "text": [
      " 74%|█████████████████████████████████████████████████████████                    | 2963/3994 [00:09<00:03, 328.23it/s]"
     ]
    },
    {
     "name": "stdout",
     "output_type": "stream",
     "text": [
      "Invalid Class van at cng (272).jpg. Must be one from  dict_keys(['bicycle', 'bus', 'car', 'cng', 'bike', 'truck'])\n",
      "Invalid Class van at cng (272).jpg. Must be one from  dict_keys(['bicycle', 'bus', 'car', 'cng', 'bike', 'truck'])\n",
      "Invalid Class van at cng (273).jpg. Must be one from  dict_keys(['bicycle', 'bus', 'car', 'cng', 'bike', 'truck'])\n",
      "Invalid Class van at cng (273).jpg. Must be one from  dict_keys(['bicycle', 'bus', 'car', 'cng', 'bike', 'truck'])\n",
      "Invalid Class rickshaw at cng (274).jpg. Must be one from  dict_keys(['bicycle', 'bus', 'car', 'cng', 'bike', 'truck'])\n",
      "Invalid Class rickshaw at cng (275).jpg. Must be one from  dict_keys(['bicycle', 'bus', 'car', 'cng', 'bike', 'truck'])\n",
      "Invalid Class rickshaw at cng (276).jpg. Must be one from  dict_keys(['bicycle', 'bus', 'car', 'cng', 'bike', 'truck'])\n",
      "Invalid Class leguna at cng (276).jpg. Must be one from  dict_keys(['bicycle', 'bus', 'car', 'cng', 'bike', 'truck'])\n",
      "Invalid Class leguna at cng (277).jpg. Must be one from  dict_keys(['bicycle', 'bus', 'car', 'cng', 'bike', 'truck'])\n",
      "Invalid Class rickshaw at cng (277).jpg. Must be one from  dict_keys(['bicycle', 'bus', 'car', 'cng', 'bike', 'truck'])\n",
      "Invalid Class rickshaw at cng (278).jpg. Must be one from  dict_keys(['bicycle', 'bus', 'car', 'cng', 'bike', 'truck'])\n",
      "Invalid Class rickshaw at cng (279).jpg. Must be one from  dict_keys(['bicycle', 'bus', 'car', 'cng', 'bike', 'truck'])\n",
      "Invalid Class van at cng (280).jpg. Must be one from  dict_keys(['bicycle', 'bus', 'car', 'cng', 'bike', 'truck'])\n",
      "Invalid Class van at cng (281).jpg. Must be one from  dict_keys(['bicycle', 'bus', 'car', 'cng', 'bike', 'truck'])\n",
      "Invalid Class van at cng (290).jpg. Must be one from  dict_keys(['bicycle', 'bus', 'car', 'cng', 'bike', 'truck'])\n",
      "Invalid Class van at cng (291).jpg. Must be one from  dict_keys(['bicycle', 'bus', 'car', 'cng', 'bike', 'truck'])\n",
      "Invalid Class van at cng (298).jpg. Must be one from  dict_keys(['bicycle', 'bus', 'car', 'cng', 'bike', 'truck'])\n",
      "Invalid Class van at cng (298).jpg. Must be one from  dict_keys(['bicycle', 'bus', 'car', 'cng', 'bike', 'truck'])\n",
      "Invalid Class van at cng (299).jpg. Must be one from  dict_keys(['bicycle', 'bus', 'car', 'cng', 'bike', 'truck'])\n",
      "Invalid Class van at cng (299).jpg. Must be one from  dict_keys(['bicycle', 'bus', 'car', 'cng', 'bike', 'truck'])\n",
      "Invalid Class van at cng (3).jpg. Must be one from  dict_keys(['bicycle', 'bus', 'car', 'cng', 'bike', 'truck'])\n",
      "Invalid Class rickshaw at cng (302).jpg. Must be one from  dict_keys(['bicycle', 'bus', 'car', 'cng', 'bike', 'truck'])\n",
      "Invalid Class rickshaw at cng (303).jpg. Must be one from  dict_keys(['bicycle', 'bus', 'car', 'cng', 'bike', 'truck'])\n",
      "Invalid Class van at cng (304).jpg. Must be one from  dict_keys(['bicycle', 'bus', 'car', 'cng', 'bike', 'truck'])\n",
      "Invalid Class van at cng (305).jpg. Must be one from  dict_keys(['bicycle', 'bus', 'car', 'cng', 'bike', 'truck'])\n",
      "Invalid Class rickshaw at cng (306).jpg. Must be one from  dict_keys(['bicycle', 'bus', 'car', 'cng', 'bike', 'truck'])\n",
      "Invalid Class rickshaw at cng (306).jpg. Must be one from  dict_keys(['bicycle', 'bus', 'car', 'cng', 'bike', 'truck'])\n",
      "Invalid Class rickshaw at cng (307).jpg. Must be one from  dict_keys(['bicycle', 'bus', 'car', 'cng', 'bike', 'truck'])\n",
      "Invalid Class rickshaw at cng (307).jpg. Must be one from  dict_keys(['bicycle', 'bus', 'car', 'cng', 'bike', 'truck'])\n",
      "Invalid Class rickshaw at cng (318).jpg. Must be one from  dict_keys(['bicycle', 'bus', 'car', 'cng', 'bike', 'truck'])\n",
      "Invalid Class rickshaw at cng (318).jpg. Must be one from  dict_keys(['bicycle', 'bus', 'car', 'cng', 'bike', 'truck'])\n",
      "Invalid Class rickshaw at cng (318).jpg. Must be one from  dict_keys(['bicycle', 'bus', 'car', 'cng', 'bike', 'truck'])\n",
      "Invalid Class rickshaw at cng (318).jpg. Must be one from  dict_keys(['bicycle', 'bus', 'car', 'cng', 'bike', 'truck'])\n",
      "Invalid Class rickshaw at cng (318).jpg. Must be one from  dict_keys(['bicycle', 'bus', 'car', 'cng', 'bike', 'truck'])\n",
      "Invalid Class rickshaw at cng (319).jpg. Must be one from  dict_keys(['bicycle', 'bus', 'car', 'cng', 'bike', 'truck'])\n",
      "Invalid Class rickshaw at cng (319).jpg. Must be one from  dict_keys(['bicycle', 'bus', 'car', 'cng', 'bike', 'truck'])\n",
      "Invalid Class rickshaw at cng (319).jpg. Must be one from  dict_keys(['bicycle', 'bus', 'car', 'cng', 'bike', 'truck'])\n",
      "Invalid Class rickshaw at cng (319).jpg. Must be one from  dict_keys(['bicycle', 'bus', 'car', 'cng', 'bike', 'truck'])\n",
      "Invalid Class van at cng (319).jpg. Must be one from  dict_keys(['bicycle', 'bus', 'car', 'cng', 'bike', 'truck'])\n",
      "Invalid Class van at cng (319).jpg. Must be one from  dict_keys(['bicycle', 'bus', 'car', 'cng', 'bike', 'truck'])\n",
      "Invalid Class rickshaw at cng (319).jpg. Must be one from  dict_keys(['bicycle', 'bus', 'car', 'cng', 'bike', 'truck'])\n",
      "Invalid Class rickshaw at cng (320).jpg. Must be one from  dict_keys(['bicycle', 'bus', 'car', 'cng', 'bike', 'truck'])\n",
      "Invalid Class rickshaw at cng (320).jpg. Must be one from  dict_keys(['bicycle', 'bus', 'car', 'cng', 'bike', 'truck'])\n",
      "Invalid Class rickshaw at cng (320).jpg. Must be one from  dict_keys(['bicycle', 'bus', 'car', 'cng', 'bike', 'truck'])\n",
      "Invalid Class rickshaw at cng (320).jpg. Must be one from  dict_keys(['bicycle', 'bus', 'car', 'cng', 'bike', 'truck'])\n",
      "Invalid Class rickshaw at cng (321).jpg. Must be one from  dict_keys(['bicycle', 'bus', 'car', 'cng', 'bike', 'truck'])\n",
      "Invalid Class rickshaw at cng (321).jpg. Must be one from  dict_keys(['bicycle', 'bus', 'car', 'cng', 'bike', 'truck'])\n",
      "Invalid Class rickshaw at cng (321).jpg. Must be one from  dict_keys(['bicycle', 'bus', 'car', 'cng', 'bike', 'truck'])\n",
      "Invalid Class rickshaw at cng (321).jpg. Must be one from  dict_keys(['bicycle', 'bus', 'car', 'cng', 'bike', 'truck'])\n",
      "Invalid Class leguna at cng (322).jpg. Must be one from  dict_keys(['bicycle', 'bus', 'car', 'cng', 'bike', 'truck'])\n",
      "Invalid Class rickshaw at cng (322).jpg. Must be one from  dict_keys(['bicycle', 'bus', 'car', 'cng', 'bike', 'truck'])\n",
      "Invalid Class rickshaw at cng (322).jpg. Must be one from  dict_keys(['bicycle', 'bus', 'car', 'cng', 'bike', 'truck'])\n",
      "Invalid Class rickshaw at cng (323).jpg. Must be one from  dict_keys(['bicycle', 'bus', 'car', 'cng', 'bike', 'truck'])\n",
      "Invalid Class rickshaw at cng (323).jpg. Must be one from  dict_keys(['bicycle', 'bus', 'car', 'cng', 'bike', 'truck'])\n",
      "Invalid Class leguna at cng (323).jpg. Must be one from  dict_keys(['bicycle', 'bus', 'car', 'cng', 'bike', 'truck'])\n",
      "Invalid Class rickshaw at cng (324).jpg. Must be one from  dict_keys(['bicycle', 'bus', 'car', 'cng', 'bike', 'truck'])\n",
      "Invalid Class rickshaw at cng (324).jpg. Must be one from  "
     ]
    },
    {
     "name": "stderr",
     "output_type": "stream",
     "text": [
      " 76%|██████████████████████████████████████████████████████████▎                  | 3027/3994 [00:09<00:03, 300.09it/s]"
     ]
    },
    {
     "name": "stdout",
     "output_type": "stream",
     "text": [
      "dict_keys(['bicycle', 'bus', 'car', 'cng', 'bike', 'truck'])\n",
      "Invalid Class rickshaw at cng (324).jpg. Must be one from  dict_keys(['bicycle', 'bus', 'car', 'cng', 'bike', 'truck'])\n",
      "Invalid Class rickshaw at cng (325).jpg. Must be one from  dict_keys(['bicycle', 'bus', 'car', 'cng', 'bike', 'truck'])\n",
      "Invalid Class rickshaw at cng (325).jpg. Must be one from  dict_keys(['bicycle', 'bus', 'car', 'cng', 'bike', 'truck'])\n",
      "Invalid Class rickshaw at cng (325).jpg. Must be one from  dict_keys(['bicycle', 'bus', 'car', 'cng', 'bike', 'truck'])\n",
      "Invalid Class van at cng (326).jpg. Must be one from  dict_keys(['bicycle', 'bus', 'car', 'cng', 'bike', 'truck'])\n",
      "Invalid Class easybike at cng (326).jpg. Must be one from  dict_keys(['bicycle', 'bus', 'car', 'cng', 'bike', 'truck'])\n",
      "Invalid Class easybike at cng (327).jpg. Must be one from  dict_keys(['bicycle', 'bus', 'car', 'cng', 'bike', 'truck'])\n",
      "Invalid Class van at cng (327).jpg. Must be one from  dict_keys(['bicycle', 'bus', 'car', 'cng', 'bike', 'truck'])\n",
      "Invalid Class rickshaw at cng (328).jpg. Must be one from  dict_keys(['bicycle', 'bus', 'car', 'cng', 'bike', 'truck'])\n",
      "Invalid Class easybike at cng (328).jpg. Must be one from  dict_keys(['bicycle', 'bus', 'car', 'cng', 'bike', 'truck'])\n",
      "Invalid Class wheelbarrow at cng (328).jpg. Must be one from  dict_keys(['bicycle', 'bus', 'car', 'cng', 'bike', 'truck'])\n",
      "Invalid Class wheelbarrow at cng (329).jpg. Must be one from  dict_keys(['bicycle', 'bus', 'car', 'cng', 'bike', 'truck'])\n",
      "Invalid Class easybike at cng (329).jpg. Must be one from  dict_keys(['bicycle', 'bus', 'car', 'cng', 'bike', 'truck'])\n",
      "Invalid Class rickshaw at cng (329).jpg. Must be one from  dict_keys(['bicycle', 'bus', 'car', 'cng', 'bike', 'truck'])\n",
      "Invalid Class rickshaw at cng (330).jpg. Must be one from  dict_keys(['bicycle', 'bus', 'car', 'cng', 'bike', 'truck'])\n",
      "Invalid Class wheelbarrow at cng (330).jpg. Must be one from  dict_keys(['bicycle', 'bus', 'car', 'cng', 'bike', 'truck'])\n",
      "Invalid Class easybike at cng (330).jpg. Must be one from  dict_keys(['bicycle', 'bus', 'car', 'cng', 'bike', 'truck'])\n",
      "Invalid Class easybike at cng (331).jpg. Must be one from  dict_keys(['bicycle', 'bus', 'car', 'cng', 'bike', 'truck'])\n",
      "Invalid Class easybike at cng (331).jpg. Must be one from  dict_keys(['bicycle', 'bus', 'car', 'cng', 'bike', 'truck'])\n",
      "Invalid Class rickshaw at cng (331).jpg. Must be one from  dict_keys(['bicycle', 'bus', 'car', 'cng', 'bike', 'truck'])\n",
      "Invalid Class easybike at cng (332).jpg. Must be one from  dict_keys(['bicycle', 'bus', 'car', 'cng', 'bike', 'truck'])\n",
      "Invalid Class easybike at cng (333).jpg. Must be one from  dict_keys(['bicycle', 'bus', 'car', 'cng', 'bike', 'truck'])\n",
      "Invalid Class easybike at cng (334).jpg. Must be one from  dict_keys(['bicycle', 'bus', 'car', 'cng', 'bike', 'truck'])\n",
      "Invalid Class easybike at cng (334).jpg. Must be one from  dict_keys(['bicycle', 'bus', 'car', 'cng', 'bike', 'truck'])\n",
      "Invalid Class easybike at cng (334).jpg. Must be one from  dict_keys(['bicycle', 'bus', 'car', 'cng', 'bike', 'truck'])\n",
      "Invalid Class easybike at cng (335).jpg. Must be one from  dict_keys(['bicycle', 'bus', 'car', 'cng', 'bike', 'truck'])\n",
      "Invalid Class easybike at cng (335).jpg. Must be one from  dict_keys(['bicycle', 'bus', 'car', 'cng', 'bike', 'truck'])\n",
      "Invalid Class easybike at cng (335).jpg. Must be one from  dict_keys(['bicycle', 'bus', 'car', 'cng', 'bike', 'truck'])\n",
      "Invalid Class easybike at cng (336).jpg. Must be one from  dict_keys(['bicycle', 'bus', 'car', 'cng', 'bike', 'truck'])\n",
      "Invalid Class easybike at cng (336).jpg. Must be one from  dict_keys(['bicycle', 'bus', 'car', 'cng', 'bike', 'truck'])\n",
      "Invalid Class easybike at cng (337).jpg. Must be one from  dict_keys(['bicycle', 'bus', 'car', 'cng', 'bike', 'truck'])\n",
      "Invalid Class easybike at cng (337).jpg. Must be one from  dict_keys(['bicycle', 'bus', 'car', 'cng', 'bike', 'truck'])\n",
      "Invalid Class rickshaw at cng (338).jpg. Must be one from  dict_keys(['bicycle', 'bus', 'car', 'cng', 'bike', 'truck'])\n",
      "Invalid Class rickshaw at cng (339).jpg. Must be one from  dict_keys(['bicycle', 'bus', 'car', 'cng', 'bike', 'truck'])\n",
      "Invalid Class rickshaw at cng (340).jpg. Must be one from  dict_keys(['bicycle', 'bus', 'car', 'cng', 'bike', 'truck'])\n",
      "Invalid Class easybike at cng (340).jpg. Must be one from  dict_keys(['bicycle', 'bus', 'car', 'cng', 'bike', 'truck'])\n",
      "Invalid Class easybike at cng (340).jpg. Must be one from  dict_keys(['bicycle', 'bus', 'car', 'cng', 'bike', 'truck'])\n",
      "Invalid Class easybike at cng (341).jpg. Must be one from  dict_keys(['bicycle', 'bus', 'car', 'cng', 'bike', 'truck'])\n",
      "Invalid Class easybike at cng (341).jpg. Must be one from  dict_keys(['bicycle', 'bus', 'car', 'cng', 'bike', 'truck'])\n",
      "Invalid Class rickshaw at cng (342).jpg. Must be one from  dict_keys(['bicycle', 'bus', 'car', 'cng', 'bike', 'truck'])\n",
      "Invalid Class rickshaw at cng (342).jpg. Must be one from  dict_keys(['bicycle', 'bus', 'car', 'cng', 'bike', 'truck'])\n",
      "Invalid Class rickshaw at cng (343).jpg. Must be one from  dict_keys(['bicycle', 'bus', 'car', 'cng', 'bike', 'truck'])\n",
      "Invalid Class rickshaw at cng (343).jpg. Must be one from  dict_keys(['bicycle', 'bus', 'car', 'cng', 'bike', 'truck'])\n",
      "Invalid Class rickshaw at cng (344).jpg. Must be one from  dict_keys(['bicycle', 'bus', 'car', 'cng', 'bike', 'truck'])\n",
      "Invalid Class rickshaw at cng (345).jpg. Must be one from  dict_keys(['bicycle', 'bus', 'car', 'cng', 'bike', 'truck'])\n",
      "Invalid Class easybike at cng (350).jpg. Must be one from  dict_keys(['bicycle', 'bus', 'car', 'cng', 'bike', 'truck'])\n",
      "Invalid Class easybike at cng (351).jpg. Must be one from  dict_keys(['bicycle', 'bus', 'car', 'cng', 'bike', 'truck'])\n",
      "Invalid Class rickshaw at cng (352).jpg. Must be one from  dict_keys(['bicycle', 'bus', 'car', 'cng', 'bike', 'truck'])\n",
      "Invalid Class rickshaw at cng (353).jpg. Must be one from  dict_keys(['bicycle', 'bus', 'car', 'cng', 'bike', 'truck'])\n",
      "Invalid Class easybike at cng (354).jpg. Must be one from  dict_keys(['bicycle', 'bus', 'car', 'cng', 'bike', 'truck'])\n",
      "Invalid Class easybike at cng (355).jpg. Must be one from  dict_keys(['bicycle', 'bus', 'car', 'cng', 'bike', 'truck'])\n",
      "Invalid Class rickshaw at cng (356).jpg. Must be one from  dict_keys(['bicycle', 'bus', 'car', 'cng', 'bike', 'truck'])\n",
      "Invalid Class easybike at cng (356).jpg. Must be one from  dict_keys(['bicycle', 'bus', 'car', 'cng', 'bike', 'truck'])\n",
      "Invalid Class easybike at cng (357).jpg. Must be one from  dict_keys(['bicycle', 'bus', 'car', 'cng', 'bike', 'truck'])\n",
      "Invalid Class rickshaw at cng (357).jpg. Must be one from  dict_keys(['bicycle', 'bus', 'car', 'cng', 'bike', 'truck'])\n",
      "Invalid Class easybike at cng (358).jpg. Must be one from  dict_keys(['bicycle', 'bus', 'car', 'cng', 'bike', 'truck'])\n",
      "Invalid Class easybike at cng (359).jpg. Must be one from  dict_keys(['bicycle', 'bus', 'car', 'cng', 'bike', 'truck'])\n",
      "Invalid Class van at cng (362).jpg. Must be one from  dict_keys(['bicycle', 'bus', 'car', 'cng', 'bike', 'truck'])\n",
      "Invalid Class van at cng (363).jpg. Must be one from  dict_keys(['bicycle', 'bus', 'car', 'cng', 'bike', 'truck'])\n",
      "Invalid Class rickshaw at cng (366).jpg. Must be one from  dict_keys(['bicycle', 'bus', 'car', 'cng', 'bike', 'truck'])\n",
      "Invalid Class rickshaw at cng (367).jpg. Must be one from  dict_keys(['bicycle', 'bus', 'car', 'cng', 'bike', 'truck'])\n"
     ]
    },
    {
     "name": "stderr",
     "output_type": "stream",
     "text": [
      " 77%|███████████████████████████████████████████████████████████▋                 | 3095/3994 [00:09<00:02, 318.33it/s]"
     ]
    },
    {
     "name": "stdout",
     "output_type": "stream",
     "text": [
      "Invalid Class rickshaw at cng (386).jpg. Must be one from  dict_keys(['bicycle', 'bus', 'car', 'cng', 'bike', 'truck'])\n",
      "Invalid Class rickshaw at cng (398).jpg. Must be one from  dict_keys(['bicycle', 'bus', 'car', 'cng', 'bike', 'truck'])\n",
      "Invalid Class rickshaw at cng (398).jpg. Must be one from  dict_keys(['bicycle', 'bus', 'car', 'cng', 'bike', 'truck'])\n",
      "Invalid Class rickshaw at cng (399).jpg. Must be one from  dict_keys(['bicycle', 'bus', 'car', 'cng', 'bike', 'truck'])\n",
      "Invalid Class rickshaw at cng (399).jpg. Must be one from  dict_keys(['bicycle', 'bus', 'car', 'cng', 'bike', 'truck'])\n",
      "Invalid Class rickshaw at cng (4).jpg. Must be one from  dict_keys(['bicycle', 'bus', 'car', 'cng', 'bike', 'truck'])\n",
      "Invalid Class rickshaw at cng (400).jpg. Must be one from  dict_keys(['bicycle', 'bus', 'car', 'cng', 'bike', 'truck'])\n",
      "Invalid Class rickshaw at cng (401).jpg. Must be one from  dict_keys(['bicycle', 'bus', 'car', 'cng', 'bike', 'truck'])\n",
      "Invalid Class rickshaw at cng (414).jpg. Must be one from  dict_keys(['bicycle', 'bus', 'car', 'cng', 'bike', 'truck'])\n",
      "Invalid Class rickshaw at cng (414).jpg. Must be one from  dict_keys(['bicycle', 'bus', 'car', 'cng', 'bike', 'truck'])\n",
      "Invalid Class rickshaw at cng (414).jpg. Must be one from  dict_keys(['bicycle', 'bus', 'car', 'cng', 'bike', 'truck'])\n",
      "Invalid Class rickshaw at cng (415).jpg. Must be one from  dict_keys(['bicycle', 'bus', 'car', 'cng', 'bike', 'truck'])\n",
      "Invalid Class rickshaw at cng (415).jpg. Must be one from  dict_keys(['bicycle', 'bus', 'car', 'cng', 'bike', 'truck'])\n",
      "Invalid Class rickshaw at cng (415).jpg. Must be one from  dict_keys(['bicycle', 'bus', 'car', 'cng', 'bike', 'truck'])\n",
      "Invalid Class rickshaw at cng (452).jpg. Must be one from "
     ]
    },
    {
     "name": "stderr",
     "output_type": "stream",
     "text": [
      " 79%|█████████████████████████████████████████████████████████████                | 3166/3994 [00:09<00:02, 325.79it/s]"
     ]
    },
    {
     "name": "stdout",
     "output_type": "stream",
     "text": [
      " dict_keys(['bicycle', 'bus', 'car', 'cng', 'bike', 'truck'])\n",
      "Invalid Class rickshaw at cng (452).jpg. Must be one from  dict_keys(['bicycle', 'bus', 'car', 'cng', 'bike', 'truck'])\n",
      "Invalid Class rickshaw at cng (453).jpg. Must be one from  dict_keys(['bicycle', 'bus', 'car', 'cng', 'bike', 'truck'])\n",
      "Invalid Class rickshaw at cng (453).jpg. Must be one from  dict_keys(['bicycle', 'bus', 'car', 'cng', 'bike', 'truck'])\n",
      "Invalid Class easybike at cng (458).jpg. Must be one from  dict_keys(['bicycle', 'bus', 'car', 'cng', 'bike', 'truck'])\n",
      "Invalid Class rickshaw at cng (460).jpg. Must be one from  dict_keys(['bicycle', 'bus', 'car', 'cng', 'bike', 'truck'])\n",
      "Invalid Class easybike at cng (460).jpg. Must be one from  dict_keys(['bicycle', 'bus', 'car', 'cng', 'bike', 'truck'])\n",
      "Invalid Class easybike at cng (461).jpg. Must be one from  dict_keys(['bicycle', 'bus', 'car', 'cng', 'bike', 'truck'])\n",
      "Invalid Class rickshaw at cng (461).jpg. Must be one from  dict_keys(['bicycle', 'bus', 'car', 'cng', 'bike', 'truck'])\n",
      "Invalid Class rickshaw at cng (464).jpg. Must be one from  dict_keys(['bicycle', 'bus', 'car', 'cng', 'bike', 'truck'])\n",
      "Invalid Class rickshaw at cng (465).jpg. Must be one from  dict_keys(['bicycle', 'bus', 'car', 'cng', 'bike', 'truck'])\n",
      "Invalid Class easybike at cng (466).jpg. Must be one from  dict_keys(['bicycle', 'bus', 'car', 'cng', 'bike', 'truck'])\n",
      "Invalid Class easybike at cng (467).jpg. Must be one from  dict_keys(['bicycle', 'bus', 'car', 'cng', 'bike', 'truck'])\n",
      "Invalid Class rickshaw at cng (480).jpg. Must be one from  dict_keys(['bicycle', 'bus', 'car', 'cng', 'bike', 'truck'])\n",
      "Invalid Class rickshaw at cng (480).jpg. Must be one from  dict_keys(['bicycle', 'bus', 'car', 'cng', 'bike', 'truck'])\n",
      "Invalid Class rickshaw at cng (485).jpg. Must be one from  dict_keys(['bicycle', 'bus', 'car', 'cng', 'bike', 'truck'])\n",
      "Invalid Class easybike at cng (485).jpg. Must be one from  dict_keys(['bicycle', 'bus', 'car', 'cng', 'bike', 'truck'])\n",
      "Invalid Class rickshaw at cng (485).jpg. Must be one from  dict_keys(['bicycle', 'bus', 'car', 'cng', 'bike', 'truck'])\n",
      "Invalid Class rickshaw at cng (486).jpg. Must be one from  dict_keys(['bicycle', 'bus', 'car', 'cng', 'bike', 'truck'])\n",
      "Invalid Class rickshaw at cng (486).jpg. Must be one from  dict_keys(['bicycle', 'bus', 'car', 'cng', 'bike', 'truck'])\n",
      "Invalid Class easybike at cng (486).jpg. Must be one from  dict_keys(['bicycle', 'bus', 'car', 'cng', 'bike', 'truck'])\n",
      "Invalid Class rickshaw at cng (487).jpg. Must be one from  dict_keys(['bicycle', 'bus', 'car', 'cng', 'bike', 'truck'])\n",
      "Invalid Class rickshaw at cng (487).jpg. Must be one from  dict_keys(['bicycle', 'bus', 'car', 'cng', 'bike', 'truck'])\n",
      "Invalid Class rickshaw at cng (488).jpg. Must be one from  dict_keys(['bicycle', 'bus', 'car', 'cng', 'bike', 'truck'])\n",
      "Invalid Class rickshaw at cng (488).jpg. Must be one from  dict_keys(['bicycle', 'bus', 'car', 'cng', 'bike', 'truck'])\n",
      "Invalid Class van at cng (491).jpg. Must be one from  dict_keys(['bicycle', 'bus', 'car', 'cng', 'bike', 'truck'])\n",
      "Invalid Class van at cng (491).jpg. Must be one from  dict_keys(['bicycle', 'bus', 'car', 'cng', 'bike', 'truck'])\n",
      "Invalid Class rickshaw at cng (492).jpg. Must be one from  dict_keys(['bicycle', 'bus', 'car', 'cng', 'bike', 'truck'])\n",
      "Invalid Class van at cng (492).jpg. Must be one from  dict_keys(['bicycle', 'bus', 'car', 'cng', 'bike', 'truck'])\n",
      "Invalid Class rickshaw at cng (493).jpg. Must be one from  dict_keys(['bicycle', 'bus', 'car', 'cng', 'bike', 'truck'])\n",
      "Invalid Class rickshaw at cng (494).jpg. Must be one from  dict_keys(['bicycle', 'bus', 'car', 'cng', 'bike', 'truck'])\n",
      "Invalid Class rickshaw at cng (495).jpg. Must be one from  dict_keys(['bicycle', 'bus', 'car', 'cng', 'bike', 'truck'])\n",
      "Invalid Class rickshaw at cng (496).jpg. Must be one from  dict_keys(['bicycle', 'bus', 'car', 'cng', 'bike', 'truck'])\n",
      "Invalid Class easybike at cng (497).jpg. Must be one from  dict_keys(['bicycle', 'bus', 'car', 'cng', 'bike', 'truck'])\n",
      "Invalid Class easybike at cng (498).jpg. Must be one from  dict_keys(['bicycle', 'bus', 'car', 'cng', 'bike', 'truck'])\n",
      "Invalid Class rickshaw at cng (499).jpg. Must be one from  dict_keys(['bicycle', 'bus', 'car', 'cng', 'bike', 'truck'])\n",
      "Invalid Class van at cng (499).jpg. Must be one from  dict_keys(['bicycle', 'bus', 'car', 'cng', 'bike', 'truck'])\n",
      "Invalid Class rickshaw at cng (5).jpg. Must be one from  dict_keys(['bicycle', 'bus', 'car', 'cng', 'bike', 'truck'])\n",
      "Invalid Class rickshaw at cng (500).jpg. Must be one from "
     ]
    },
    {
     "name": "stderr",
     "output_type": "stream",
     "text": [
      " 81%|██████████████████████████████████████████████████████████████▎              | 3231/3994 [00:09<00:02, 309.34it/s]"
     ]
    },
    {
     "name": "stdout",
     "output_type": "stream",
     "text": [
      " dict_keys(['bicycle', 'bus', 'car', 'cng', 'bike', 'truck'])\n",
      "Invalid Class van at cng (500).jpg. Must be one from  dict_keys(['bicycle', 'bus', 'car', 'cng', 'bike', 'truck'])\n",
      "Invalid Class van at cng (501).jpg. Must be one from  dict_keys(['bicycle', 'bus', 'car', 'cng', 'bike', 'truck'])\n",
      "Invalid Class rickshaw at cng (501).jpg. Must be one from  dict_keys(['bicycle', 'bus', 'car', 'cng', 'bike', 'truck'])\n",
      "Invalid Class rickshaw at cng (502).jpg. Must be one from  dict_keys(['bicycle', 'bus', 'car', 'cng', 'bike', 'truck'])\n",
      "Invalid Class van at cng (502).jpg. Must be one from  dict_keys(['bicycle', 'bus', 'car', 'cng', 'bike', 'truck'])\n",
      "Invalid Class rickshaw at cng (511).jpg. Must be one from  dict_keys(['bicycle', 'bus', 'car', 'cng', 'bike', 'truck'])\n",
      "Invalid Class rickshaw at cng (514).jpg. Must be one from  dict_keys(['bicycle', 'bus', 'car', 'cng', 'bike', 'truck'])\n",
      "Invalid Class rickshaw at cng (515).jpg. Must be one from  dict_keys(['bicycle', 'bus', 'car', 'cng', 'bike', 'truck'])\n",
      "Invalid Class rickshaw at cng (516).jpg. Must be one from  dict_keys(['bicycle', 'bus', 'car', 'cng', 'bike', 'truck'])\n",
      "Invalid Class easybike at cng (516).jpg. Must be one from  dict_keys(['bicycle', 'bus', 'car', 'cng', 'bike', 'truck'])\n",
      "Invalid Class easybike at cng (517).jpg. Must be one from  dict_keys(['bicycle', 'bus', 'car', 'cng', 'bike', 'truck'])\n",
      "Invalid Class rickshaw at cng (517).jpg. Must be one from  dict_keys(['bicycle', 'bus', 'car', 'cng', 'bike', 'truck'])\n",
      "Invalid Class van at cng (518).jpg. Must be one from  dict_keys(['bicycle', 'bus', 'car', 'cng', 'bike', 'truck'])\n",
      "Invalid Class rickshaw at cng (518).jpg. Must be one from  dict_keys(['bicycle', 'bus', 'car', 'cng', 'bike', 'truck'])\n",
      "Invalid Class rickshaw at cng (519).jpg. Must be one from  dict_keys(['bicycle', 'bus', 'car', 'cng', 'bike', 'truck'])\n",
      "Invalid Class van at cng (519).jpg. Must be one from  dict_keys(['bicycle', 'bus', 'car', 'cng', 'bike', 'truck'])\n",
      "Invalid Class rickshaw at cng (70).jpg. Must be one from "
     ]
    },
    {
     "name": "stderr",
     "output_type": "stream",
     "text": [
      "\r",
      " 82%|██████████████████████████████████████████████████████████████▉              | 3263/3994 [00:09<00:02, 305.67it/s]"
     ]
    },
    {
     "name": "stdout",
     "output_type": "stream",
     "text": [
      " dict_keys(['bicycle', 'bus', 'car', 'cng', 'bike', 'truck'])\n",
      "Invalid Class rickshaw at cng (71).jpg. Must be one from  dict_keys(['bicycle', 'bus', 'car', 'cng', 'bike', 'truck'])\n",
      "Invalid Class rickshaw at cng (82).jpg. Must be one from  dict_keys(['bicycle', 'bus', 'car', 'cng', 'bike', 'truck'])\n",
      "Invalid Class rickshaw at cng (83).jpg. Must be one from  dict_keys(['bicycle', 'bus', 'car', 'cng', 'bike', 'truck'])\n",
      "Invalid Class van at cng (96).jpg. Must be one from  dict_keys(['bicycle', 'bus', 'car', 'cng', 'bike', 'truck'])\n",
      "Invalid Class van at cng (96).jpg. Must be one from  dict_keys(['bicycle', 'bus', 'car', 'cng', 'bike', 'truck'])\n",
      "Invalid Class van at cng (97).jpg. Must be one from  dict_keys(['bicycle', 'bus', 'car', 'cng', 'bike', 'truck'])\n",
      "Invalid Class van at cng (97).jpg. Must be one from  dict_keys(['bicycle', 'bus', 'car', 'cng', 'bike', 'truck'])\n",
      "Invalid Class van at truck (10).jpg. Must be one from  dict_keys(['bicycle', 'bus', 'car', 'cng', 'bike', 'truck'])\n",
      "Invalid Class van at truck (11).jpg. Must be one from  dict_keys(['bicycle', 'bus', 'car', 'cng', 'bike', 'truck'])\n",
      "Invalid Class leguna at truck (12).jpg. Must be one from  dict_keys(['bicycle', 'bus', 'car', 'cng', 'bike', 'truck'])\n"
     ]
    },
    {
     "name": "stderr",
     "output_type": "stream",
     "text": [
      " 84%|████████████████████████████████████████████████████████████████▊            | 3364/3994 [00:10<00:01, 320.20it/s]"
     ]
    },
    {
     "name": "stdout",
     "output_type": "stream",
     "text": [
      "Invalid Class leguna at truck (15).jpg. Must be one from  dict_keys(['bicycle', 'bus', 'car', 'cng', 'bike', 'truck'])\n",
      "Invalid Class van at truck (15).jpg. Must be one from  dict_keys(['bicycle', 'bus', 'car', 'cng', 'bike', 'truck'])\n",
      "Invalid Class leguna at truck (16).jpg. Must be one from  dict_keys(['bicycle', 'bus', 'car', 'cng', 'bike', 'truck'])\n",
      "Invalid Class van at truck (16).jpg. Must be one from  dict_keys(['bicycle', 'bus', 'car', 'cng', 'bike', 'truck'])\n",
      "Invalid Class van at truck (17).jpg. Must be one from  dict_keys(['bicycle', 'bus', 'car', 'cng', 'bike', 'truck'])\n",
      "Invalid Class leguna at truck (17).jpg. Must be one from  dict_keys(['bicycle', 'bus', 'car', 'cng', 'bike', 'truck'])\n",
      "Invalid Class boat at truck (184).jpg. Must be one from  dict_keys(['bicycle', 'bus', 'car', 'cng', 'bike', 'truck'])\n",
      "Invalid Class van at truck (184).jpg. Must be one from  dict_keys(['bicycle', 'bus', 'car', 'cng', 'bike', 'truck'])\n",
      "Invalid Class van at truck (185).jpg. Must be one from  dict_keys(['bicycle', 'bus', 'car', 'cng', 'bike', 'truck'])\n",
      "Invalid Class boat at truck (185).jpg. Must be one from  dict_keys(['bicycle', 'bus', 'car', 'cng', 'bike', 'truck'])\n",
      "Invalid Class easybike at truck (2).jpg. Must be one from  dict_keys(['bicycle', 'bus', 'car', 'cng', 'bike', 'truck'])\n"
     ]
    },
    {
     "name": "stderr",
     "output_type": "stream",
     "text": [
      " 87%|██████████████████████████████████████████████████████████████████▊          | 3464/3994 [00:10<00:01, 325.39it/s]"
     ]
    },
    {
     "name": "stdout",
     "output_type": "stream",
     "text": [
      "Invalid Class van at truck (228).jpg. Must be one from  dict_keys(['bicycle', 'bus', 'car', 'cng', 'bike', 'truck'])\n",
      "Invalid Class van at truck (229).jpg. Must be one from  dict_keys(['bicycle', 'bus', 'car', 'cng', 'bike', 'truck'])\n",
      "Invalid Class van at truck (236).jpg. Must be one from  dict_keys(['bicycle', 'bus', 'car', 'cng', 'bike', 'truck'])\n",
      "Invalid Class van at truck (237).jpg. Must be one from  dict_keys(['bicycle', 'bus', 'car', 'cng', 'bike', 'truck'])\n",
      "Invalid Class van at truck (254).jpg. Must be one from  dict_keys(['bicycle', 'bus', 'car', 'cng', 'bike', 'truck'])\n",
      "Invalid Class van at truck (255).jpg. Must be one from  dict_keys(['bicycle', 'bus', 'car', 'cng', 'bike', 'truck'])\n",
      "Invalid Class rickshaw at truck (256).jpg. Must be one from  dict_keys(['bicycle', 'bus', 'car', 'cng', 'bike', 'truck'])\n",
      "Invalid Class rickshaw at truck (256).jpg. Must be one from  dict_keys(['bicycle', 'bus', 'car', 'cng', 'bike', 'truck'])\n",
      "Invalid Class rickshaw at truck (257).jpg. Must be one from  dict_keys(['bicycle', 'bus', 'car', 'cng', 'bike', 'truck'])\n",
      "Invalid Class rickshaw at truck (257).jpg. Must be one from  dict_keys(['bicycle', 'bus', 'car', 'cng', 'bike', 'truck'])\n",
      "Invalid Class rickshaw at truck (270).jpg. Must be one from  dict_keys(['bicycle', 'bus', 'car', 'cng', 'bike', 'truck'])\n",
      "Invalid Class rickshaw at truck (270).jpg. Must be one from  dict_keys(['bicycle', 'bus', 'car', 'cng', 'bike', 'truck'])\n",
      "Invalid Class rickshaw at truck (271).jpg. Must be one from  dict_keys(['bicycle', 'bus', 'car', 'cng', 'bike', 'truck'])\n",
      "Invalid Class rickshaw at truck (271).jpg. Must be one from  dict_keys(['bicycle', 'bus', 'car', 'cng', 'bike', 'truck'])\n",
      "Invalid Class rickshaw at truck (280).jpg. Must be one from  dict_keys(['bicycle', 'bus', 'car', 'cng', 'bike', 'truck'])\n",
      "Invalid Class rickshaw at truck (281).jpg. Must be one from  dict_keys(['bicycle', 'bus', 'car', 'cng', 'bike', 'truck'])\n",
      "Invalid Class rickshaw at truck (282).jpg. Must be one from  dict_keys(['bicycle', 'bus', 'car', 'cng', 'bike', 'truck'])\n",
      "Invalid Class rickshaw at truck (282).jpg. Must be one from  dict_keys(['bicycle', 'bus', 'car', 'cng', 'bike', 'truck'])\n",
      "Invalid Class rickshaw at truck (282).jpg. Must be one from  dict_keys(['bicycle', 'bus', 'car', 'cng', 'bike', 'truck'])\n",
      "Invalid Class rickshaw at truck (282).jpg. Must be one from  dict_keys(['bicycle', 'bus', 'car', 'cng', 'bike', 'truck'])\n"
     ]
    },
    {
     "name": "stderr",
     "output_type": "stream",
     "text": [
      "\r",
      " 88%|███████████████████████████████████████████████████████████████████▍         | 3497/3994 [00:10<00:01, 312.33it/s]"
     ]
    },
    {
     "name": "stdout",
     "output_type": "stream",
     "text": [
      "Invalid Class rickshaw at truck (283).jpg. Must be one from  dict_keys(['bicycle', 'bus', 'car', 'cng', 'bike', 'truck'])\n",
      "Invalid Class rickshaw at truck (283).jpg. Must be one from  dict_keys(['bicycle', 'bus', 'car', 'cng', 'bike', 'truck'])\n",
      "Invalid Class rickshaw at truck (283).jpg. Must be one from  dict_keys(['bicycle', 'bus', 'car', 'cng', 'bike', 'truck'])\n",
      "Invalid Class rickshaw at truck (283).jpg. Must be one from  dict_keys(['bicycle', 'bus', 'car', 'cng', 'bike', 'truck'])\n",
      "Invalid Class rickshaw at truck (290).jpg. Must be one from  dict_keys(['bicycle', 'bus', 'car', 'cng', 'bike', 'truck'])\n",
      "Invalid Class rickshaw at truck (291).jpg. Must be one from  dict_keys(['bicycle', 'bus', 'car', 'cng', 'bike', 'truck'])\n",
      "Invalid Class rickshaw at truck (294).jpg. Must be one from  dict_keys(['bicycle', 'bus', 'car', 'cng', 'bike', 'truck'])\n",
      "Invalid Class rickshaw at truck (295).jpg. Must be one from  dict_keys(['bicycle', 'bus', 'car', 'cng', 'bike', 'truck'])\n",
      "Invalid Class van at truck (30).jpg. Must be one from  dict_keys(['bicycle', 'bus', 'car', 'cng', 'bike', 'truck'])\n",
      "Invalid Class rickshaw at truck (300).jpg. Must be one from  dict_keys(['bicycle', 'bus', 'car', 'cng', 'bike', 'truck'])\n",
      "Invalid Class rickshaw at truck (300).jpg. Must be one from  dict_keys(['bicycle', 'bus', 'car', 'cng', 'bike', 'truck'])\n",
      "Invalid Class rickshaw at truck (300).jpg. Must be one from  dict_keys(['bicycle', 'bus', 'car', 'cng', 'bike', 'truck'])\n",
      "Invalid Class rickshaw at truck (301).jpg. Must be one from  dict_keys(['bicycle', 'bus', 'car', 'cng', 'bike', 'truck'])\n",
      "Invalid Class rickshaw at truck (301).jpg. Must be one from  dict_keys(['bicycle', 'bus', 'car', 'cng', 'bike', 'truck'])\n",
      "Invalid Class rickshaw at truck (301).jpg. Must be one from  dict_keys(['bicycle', 'bus', 'car', 'cng', 'bike', 'truck'])\n",
      "Invalid Class rickshaw at truck (302).jpg. Must be one from  dict_keys(['bicycle', 'bus', 'car', 'cng', 'bike', 'truck'])\n",
      "Invalid Class rickshaw at truck (302).jpg. Must be one from  dict_keys(['bicycle', 'bus', 'car', 'cng', 'bike', 'truck'])\n",
      "Invalid Class rickshaw at truck (303).jpg. Must be one from  dict_keys(['bicycle', 'bus', 'car', 'cng', 'bike', 'truck'])\n",
      "Invalid Class rickshaw at truck (303).jpg. Must be one from  dict_keys(['bicycle', 'bus', 'car', 'cng', 'bike', 'truck'])\n",
      "Invalid Class rickshaw at truck (304).jpg. Must be one from  dict_keys(['bicycle', 'bus', 'car', 'cng', 'bike', 'truck'])\n",
      "Invalid Class rickshaw at truck (305).jpg. Must be one from  dict_keys(['bicycle', 'bus', 'car', 'cng', 'bike', 'truck'])\n",
      "Invalid Class van at truck (31).jpg. Must be one from  dict_keys(['bicycle', 'bus', 'car', 'cng', 'bike', 'truck'])\n",
      "Invalid Class rickshaw at truck (310).jpg. Must be one from  dict_keys(['bicycle', 'bus', 'car', 'cng', 'bike', 'truck'])\n",
      "Invalid Class rickshaw at truck (311).jpg. Must be one from  dict_keys(['bicycle', 'bus', 'car', 'cng', 'bike', 'truck'])\n",
      "Invalid Class rickshaw at truck (312).jpg. Must be one from  dict_keys(['bicycle', 'bus', 'car', 'cng', 'bike', 'truck'])\n",
      "Invalid Class rickshaw at truck (313).jpg. Must be one from  dict_keys(['bicycle', 'bus', 'car', 'cng', 'bike', 'truck'])\n",
      "Invalid Class rickshaw at truck (316).jpg. Must be one from  dict_keys(['bicycle', 'bus', 'car', 'cng', 'bike', 'truck'])\n",
      "Invalid Class rickshaw at truck (316).jpg. Must be one from  dict_keys(['bicycle', 'bus', 'car', 'cng', 'bike', 'truck'])\n",
      "Invalid Class rickshaw at truck (317).jpg. Must be one from  dict_keys(['bicycle', 'bus', 'car', 'cng', 'bike', 'truck'])\n",
      "Invalid Class rickshaw at truck (317).jpg. Must be one from  dict_keys(['bicycle', 'bus', 'car', 'cng', 'bike', 'truck'])\n",
      "Invalid Class van at truck (318).jpg. Must be one from  dict_keys(['bicycle', 'bus', 'car', 'cng', 'bike', 'truck'])\n",
      "Invalid Class rickshaw at truck (318).jpg. Must be one from  dict_keys(['bicycle', 'bus', 'car', 'cng', 'bike', 'truck'])\n",
      "Invalid Class rickshaw at truck (319).jpg. Must be one from  dict_keys(['bicycle', 'bus', 'car', 'cng', 'bike', 'truck'])\n",
      "Invalid Class van at truck (319).jpg. Must be one from  dict_keys(['bicycle', 'bus', 'car', 'cng', 'bike', 'truck'])\n",
      "Invalid Class rickshaw at truck (326).jpg. Must be one from  dict_keys(['bicycle', 'bus', 'car', 'cng', 'bike', 'truck'])\n",
      "Invalid Class rickshaw at truck (326).jpg. Must be one from  dict_keys(['bicycle', 'bus', 'car', 'cng', 'bike', 'truck'])\n",
      "Invalid Class rickshaw at truck (327).jpg. Must be one from  dict_keys(['bicycle', 'bus', 'car', 'cng', 'bike', 'truck'])\n",
      "Invalid Class rickshaw at truck (327).jpg. Must be one from  dict_keys(['bicycle', 'bus', 'car', 'cng', 'bike', 'truck'])\n"
     ]
    },
    {
     "name": "stderr",
     "output_type": "stream",
     "text": [
      " 89%|████████████████████████████████████████████████████████████████████▋        | 3560/3994 [00:10<00:01, 298.97it/s]"
     ]
    },
    {
     "name": "stdout",
     "output_type": "stream",
     "text": [
      "Invalid Class rickshaw at truck (338).jpg. Must be one from  dict_keys(['bicycle', 'bus', 'car', 'cng', 'bike', 'truck'])\n",
      "Invalid Class rickshaw at truck (339).jpg. Must be one from  dict_keys(['bicycle', 'bus', 'car', 'cng', 'bike', 'truck'])\n",
      "Invalid Class rickshaw at truck (340).jpg. Must be one from  dict_keys(['bicycle', 'bus', 'car', 'cng', 'bike', 'truck'])\n",
      "Invalid Class rickshaw at truck (340).jpg. Must be one from  dict_keys(['bicycle', 'bus', 'car', 'cng', 'bike', 'truck'])\n",
      "Invalid Class rickshaw at truck (340).jpg. Must be one from  dict_keys(['bicycle', 'bus', 'car', 'cng', 'bike', 'truck'])\n",
      "Invalid Class rickshaw at truck (341).jpg. Must be one from  dict_keys(['bicycle', 'bus', 'car', 'cng', 'bike', 'truck'])\n",
      "Invalid Class rickshaw at truck (341).jpg. Must be one from  dict_keys(['bicycle', 'bus', 'car', 'cng', 'bike', 'truck'])\n",
      "Invalid Class rickshaw at truck (341).jpg. Must be one from  dict_keys(['bicycle', 'bus', 'car', 'cng', 'bike', 'truck'])\n",
      "Invalid Class rickshaw at truck (352).jpg. Must be one from  dict_keys(['bicycle', 'bus', 'car', 'cng', 'bike', 'truck'])\n",
      "Invalid Class rickshaw at truck (352).jpg. Must be one from  dict_keys(['bicycle', 'bus', 'car', 'cng', 'bike', 'truck'])\n",
      "Invalid Class rickshaw at truck (353).jpg. Must be one from  dict_keys(['bicycle', 'bus', 'car', 'cng', 'bike', 'truck'])\n",
      "Invalid Class rickshaw at truck (353).jpg. Must be one from  dict_keys(['bicycle', 'bus', 'car', 'cng', 'bike', 'truck'])\n",
      "Invalid Class easybike at truck (353).jpg. Must be one from  dict_keys(['bicycle', 'bus', 'car', 'cng', 'bike', 'truck'])\n",
      "Invalid Class van at truck (364).jpg. Must be one from  dict_keys(['bicycle', 'bus', 'car', 'cng', 'bike', 'truck'])\n",
      "Invalid Class van at truck (365).jpg. Must be one from  dict_keys(['bicycle', 'bus', 'car', 'cng', 'bike', 'truck'])\n",
      "Invalid Class rickshaw at truck (366).jpg. Must be one from  dict_keys(['bicycle', 'bus', 'car', 'cng', 'bike', 'truck'])\n",
      "Invalid Class rickshaw at truck (366).jpg. Must be one from  dict_keys(['bicycle', 'bus', 'car', 'cng', 'bike', 'truck'])\n",
      "Invalid Class rickshaw at truck (366).jpg. Must be one from  dict_keys(['bicycle', 'bus', 'car', 'cng', 'bike', 'truck'])\n",
      "Invalid Class rickshaw at truck (367).jpg. Must be one from  dict_keys(['bicycle', 'bus', 'car', 'cng', 'bike', 'truck'])\n",
      "Invalid Class rickshaw at truck (367).jpg. Must be one from  dict_keys(['bicycle', 'bus', 'car', 'cng', 'bike', 'truck'])\n",
      "Invalid Class rickshaw at truck (367).jpg. Must be one from  dict_keys(['bicycle', 'bus', 'car', 'cng', 'bike', 'truck'])\n",
      "Invalid Class van at truck (370).jpg. Must be one from  dict_keys(['bicycle', 'bus', 'car', 'cng', 'bike', 'truck'])\n",
      "Invalid Class van at truck (370).jpg. Must be one from  dict_keys(['bicycle', 'bus', 'car', 'cng', 'bike', 'truck'])\n",
      "Invalid Class van at truck (370).jpg. Must be one from  dict_keys(['bicycle', 'bus', 'car', 'cng', 'bike', 'truck'])\n",
      "Invalid Class van at truck (371).jpg. Must be one from  dict_keys(['bicycle', 'bus', 'car', 'cng', 'bike', 'truck'])\n",
      "Invalid Class van at truck (371).jpg. Must be one from  dict_keys(['bicycle', 'bus', 'car', 'cng', 'bike', 'truck'])\n",
      "Invalid Class van at truck (371).jpg. Must be one from  dict_keys(['bicycle', 'bus', 'car', 'cng', 'bike', 'truck'])\n",
      "Invalid Class rickshaw at truck (372).jpg. Must be one from  dict_keys(['bicycle', 'bus', 'car', 'cng', 'bike', 'truck'])\n",
      "Invalid Class rickshaw at truck (372).jpg. Must be one from  dict_keys(['bicycle', 'bus', 'car', 'cng', 'bike', 'truck'])\n",
      "Invalid Class rickshaw at truck (372).jpg. Must be one from  dict_keys(['bicycle', 'bus', 'car', 'cng', 'bike', 'truck'])\n",
      "Invalid Class van at truck (372).jpg. Must be one from  dict_keys(['bicycle', 'bus', 'car', 'cng', 'bike', 'truck'])\n",
      "Invalid Class van at truck (373).jpg. Must be one from  dict_keys(['bicycle', 'bus', 'car', 'cng', 'bike', 'truck'])\n",
      "Invalid Class rickshaw at truck (373).jpg. Must be one from  dict_keys(['bicycle', 'bus', 'car', 'cng', 'bike', 'truck'])\n",
      "Invalid Class rickshaw at truck (373).jpg. Must be one from  dict_keys(['bicycle', 'bus', 'car', 'cng', 'bike', 'truck'])\n",
      "Invalid Class rickshaw at truck (373).jpg. Must be one from  dict_keys(['bicycle', 'bus', 'car', 'cng', 'bike', 'truck'])\n",
      "Invalid Class rickshaw at truck (374).jpg. Must be one from  dict_keys(['bicycle', 'bus', 'car', 'cng', 'bike', 'truck'])\n",
      "Invalid Class rickshaw at truck (374).jpg. Must be one from  dict_keys(['bicycle', 'bus', 'car', 'cng', 'bike', 'truck'])\n",
      "Invalid Class van at truck (374).jpg. Must be one from  dict_keys(['bicycle', 'bus', 'car', 'cng', 'bike', 'truck'])\n",
      "Invalid Class rickshaw at truck (375).jpg. Must be one from  dict_keys(['bicycle', 'bus', 'car', 'cng', 'bike', 'truck'])\n",
      "Invalid Class rickshaw at truck (375).jpg. Must be one from  dict_keys(['bicycle', 'bus', 'car', 'cng', 'bike', 'truck'])\n",
      "Invalid Class van at truck (375).jpg. Must be one from  dict_keys(['bicycle', 'bus', 'car', 'cng', 'bike', 'truck'])\n",
      "Invalid Class van at truck (376).jpg. Must be one from  dict_keys(['bicycle', 'bus', 'car', 'cng', 'bike', 'truck'])\n",
      "Invalid Class van at truck (377).jpg. Must be one from  dict_keys(['bicycle', 'bus', 'car', 'cng', 'bike', 'truck'])\n",
      "Invalid Class van at truck (377).jpg. Must be one from  dict_keys(['bicycle', 'bus', 'car', 'cng', 'bike', 'truck'])\n",
      "Invalid Class rickshaw at truck (378).jpg. Must be one from  dict_keys(['bicycle', 'bus', 'car', 'cng', 'bike', 'truck'])\n",
      "Invalid Class rickshaw at truck (379).jpg. Must be one from  dict_keys(['bicycle', 'bus', 'car', 'cng', 'bike', 'truck'])\n",
      "Invalid Class wheelbarrow at truck (383).jpg. Must be one from "
     ]
    },
    {
     "name": "stderr",
     "output_type": "stream",
     "text": [
      " 91%|█████████████████████████████████████████████████████████████████████▊       | 3624/3994 [00:11<00:01, 304.40it/s]"
     ]
    },
    {
     "name": "stdout",
     "output_type": "stream",
     "text": [
      " dict_keys(['bicycle', 'bus', 'car', 'cng', 'bike', 'truck'])\n",
      "Invalid Class van at truck (384).jpg. Must be one from  dict_keys(['bicycle', 'bus', 'car', 'cng', 'bike', 'truck'])\n",
      "Invalid Class van at truck (385).jpg. Must be one from  dict_keys(['bicycle', 'bus', 'car', 'cng', 'bike', 'truck'])\n",
      "Invalid Class rickshaw at truck (385).jpg. Must be one from  dict_keys(['bicycle', 'bus', 'car', 'cng', 'bike', 'truck'])\n",
      "Invalid Class easybike at truck (4).jpg. Must be one from  dict_keys(['bicycle', 'bus', 'car', 'cng', 'bike', 'truck'])\n",
      "Invalid Class easybike at truck (4).jpg. Must be one from  dict_keys(['bicycle', 'bus', 'car', 'cng', 'bike', 'truck'])\n",
      "Invalid Class rickshaw at truck (410).jpg. Must be one from  dict_keys(['bicycle', 'bus', 'car', 'cng', 'bike', 'truck'])\n",
      "Invalid Class rickshaw at truck (411).jpg. Must be one from  dict_keys(['bicycle', 'bus', 'car', 'cng', 'bike', 'truck'])\n",
      "Invalid Class rickshaw at truck (430).jpg. Must be one from  dict_keys(['bicycle', 'bus', 'car', 'cng', 'bike', 'truck'])\n",
      "Invalid Class rickshaw at truck (433).jpg. Must be one from  dict_keys(['bicycle', 'bus', 'car', 'cng', 'bike', 'truck'])\n"
     ]
    },
    {
     "name": "stderr",
     "output_type": "stream",
     "text": [
      " 92%|███████████████████████████████████████████████████████████████████████      | 3687/3994 [00:11<00:01, 303.96it/s]"
     ]
    },
    {
     "name": "stdout",
     "output_type": "stream",
     "text": [
      "Invalid Class van at truck (448).jpg. Must be one from  dict_keys(['bicycle', 'bus', 'car', 'cng', 'bike', 'truck'])\n",
      "Invalid Class van at truck (448).jpg. Must be one from  dict_keys(['bicycle', 'bus', 'car', 'cng', 'bike', 'truck'])\n",
      "Invalid Class van at truck (449).jpg. Must be one from  dict_keys(['bicycle', 'bus', 'car', 'cng', 'bike', 'truck'])\n",
      "Invalid Class van at truck (449).jpg. Must be one from  dict_keys(['bicycle', 'bus', 'car', 'cng', 'bike', 'truck'])\n",
      "Invalid Class leguna at truck (464).jpg. Must be one from  dict_keys(['bicycle', 'bus', 'car', 'cng', 'bike', 'truck'])\n",
      "Invalid Class leguna at truck (465).jpg. Must be one from  dict_keys(['bicycle', 'bus', 'car', 'cng', 'bike', 'truck'])\n",
      "Invalid Class rickshaw at truck (466).jpg. Must be one from  dict_keys(['bicycle', 'bus', 'car', 'cng', 'bike', 'truck'])\n",
      "Invalid Class rickshaw at truck (467).jpg. Must be one from  dict_keys(['bicycle', 'bus', 'car', 'cng', 'bike', 'truck'])\n",
      "Invalid Class rickshaw at truck (472).jpg. Must be one from  dict_keys(['bicycle', 'bus', 'car', 'cng', 'bike', 'truck'])\n",
      "Invalid Class rickshaw at truck (473).jpg. Must be one from  dict_keys(['bicycle', 'bus', 'car', 'cng', 'bike', 'truck'])\n",
      "Invalid Class rickshaw at truck (476).jpg. Must be one from  dict_keys(['bicycle', 'bus', 'car', 'cng', 'bike', 'truck'])\n",
      "Invalid Class rickshaw at truck (479).jpg. Must be one from  dict_keys(['bicycle', 'bus', 'car', 'cng', 'bike', 'truck'])\n",
      "Invalid Class easybike at truck (5).jpg. Must be one from "
     ]
    },
    {
     "name": "stderr",
     "output_type": "stream",
     "text": [
      " 94%|████████████████████████████████████████████████████████████████████████▎    | 3753/3994 [00:11<00:00, 313.36it/s]"
     ]
    },
    {
     "name": "stdout",
     "output_type": "stream",
     "text": [
      " dict_keys(['bicycle', 'bus', 'car', 'cng', 'bike', 'truck'])\n",
      "Invalid Class easybike at truck (5).jpg. Must be one from  dict_keys(['bicycle', 'bus', 'car', 'cng', 'bike', 'truck'])\n",
      "Invalid Class van at truck (500).jpg. Must be one from  dict_keys(['bicycle', 'bus', 'car', 'cng', 'bike', 'truck'])\n",
      "Invalid Class van at truck (501).jpg. Must be one from  dict_keys(['bicycle', 'bus', 'car', 'cng', 'bike', 'truck'])\n",
      "Invalid Class tractor at truck (512).jpg. Must be one from  dict_keys(['bicycle', 'bus', 'car', 'cng', 'bike', 'truck'])\n",
      "Invalid Class tractor at truck (513).jpg. Must be one from  dict_keys(['bicycle', 'bus', 'car', 'cng', 'bike', 'truck'])\n",
      "Invalid Class tractor at truck (513).jpg. Must be one from  dict_keys(['bicycle', 'bus', 'car', 'cng', 'bike', 'truck'])\n",
      "Invalid Class tractor at truck (514).jpg. Must be one from  dict_keys(['bicycle', 'bus', 'car', 'cng', 'bike', 'truck'])\n",
      "Invalid Class tractor at truck (515).jpg. Must be one from  dict_keys(['bicycle', 'bus', 'car', 'cng', 'bike', 'truck'])\n",
      "Invalid Class tractor at truck (522).jpg. Must be one from  dict_keys(['bicycle', 'bus', 'car', 'cng', 'bike', 'truck'])\n",
      "Invalid Class tractor at truck (523).jpg. Must be one from  dict_keys(['bicycle', 'bus', 'car', 'cng', 'bike', 'truck'])\n",
      "Invalid Class tractor at truck (525).jpg. Must be one from  dict_keys(['bicycle', 'bus', 'car', 'cng', 'bike', 'truck'])\n",
      "Invalid Class tractor at truck (525).jpg. Must be one from  dict_keys(['bicycle', 'bus', 'car', 'cng', 'bike', 'truck'])\n",
      "Invalid Class tractor at truck (526).jpg. Must be one from  dict_keys(['bicycle', 'bus', 'car', 'cng', 'bike', 'truck'])\n",
      "Invalid Class tractor at truck (527).jpg. Must be one from  dict_keys(['bicycle', 'bus', 'car', 'cng', 'bike', 'truck'])\n",
      "Invalid Class tractor at truck (528).jpg. Must be one from  dict_keys(['bicycle', 'bus', 'car', 'cng', 'bike', 'truck'])\n",
      "Invalid Class tractor at truck (529).jpg. Must be one from  dict_keys(['bicycle', 'bus', 'car', 'cng', 'bike', 'truck'])\n",
      "Invalid Class leguna at truck (556).jpg. Must be one from "
     ]
    },
    {
     "name": "stderr",
     "output_type": "stream",
     "text": [
      " 96%|█████████████████████████████████████████████████████████████████████████▊   | 3829/3994 [00:11<00:00, 346.43it/s]"
     ]
    },
    {
     "name": "stdout",
     "output_type": "stream",
     "text": [
      " dict_keys(['bicycle', 'bus', 'car', 'cng', 'bike', 'truck'])\n",
      "Invalid Class rickshaw at truck (556).jpg. Must be one from  dict_keys(['bicycle', 'bus', 'car', 'cng', 'bike', 'truck'])\n",
      "Invalid Class rickshaw at truck (557).jpg. Must be one from  dict_keys(['bicycle', 'bus', 'car', 'cng', 'bike', 'truck'])\n",
      "Invalid Class leguna at truck (557).jpg. Must be one from  dict_keys(['bicycle', 'bus', 'car', 'cng', 'bike', 'truck'])\n",
      "Invalid Class rickshaw at truck (564).jpg. Must be one from  dict_keys(['bicycle', 'bus', 'car', 'cng', 'bike', 'truck'])\n",
      "Invalid Class easybike at truck (564).jpg. Must be one from  dict_keys(['bicycle', 'bus', 'car', 'cng', 'bike', 'truck'])\n",
      "Invalid Class rickshaw at truck (565).jpg. Must be one from  dict_keys(['bicycle', 'bus', 'car', 'cng', 'bike', 'truck'])\n",
      "Invalid Class easybike at truck (565).jpg. Must be one from  dict_keys(['bicycle', 'bus', 'car', 'cng', 'bike', 'truck'])\n",
      "Invalid Class easybike at truck (578).jpg. Must be one from  dict_keys(['bicycle', 'bus', 'car', 'cng', 'bike', 'truck'])\n",
      "Invalid Class easybike at truck (578).jpg. Must be one from  dict_keys(['bicycle', 'bus', 'car', 'cng', 'bike', 'truck'])\n",
      "Invalid Class van at truck (586).jpg. Must be one from  dict_keys(['bicycle', 'bus', 'car', 'cng', 'bike', 'truck'])\n",
      "Invalid Class van at truck (587).jpg. Must be one from  dict_keys(['bicycle', 'bus', 'car', 'cng', 'bike', 'truck'])\n",
      "Invalid Class easybike at truck (6).jpg. Must be one from  dict_keys(['bicycle', 'bus', 'car', 'cng', 'bike', 'truck'])\n",
      "Invalid Class easybike at truck (6).jpg. Must be one from  dict_keys(['bicycle', 'bus', 'car', 'cng', 'bike', 'truck'])\n"
     ]
    },
    {
     "name": "stderr",
     "output_type": "stream",
     "text": [
      " 99%|███████████████████████████████████████████████████████████████████████████▉ | 3940/3994 [00:12<00:00, 357.12it/s]"
     ]
    },
    {
     "name": "stdout",
     "output_type": "stream",
     "text": [
      "Invalid Class rickshaw at truck (652).jpg. Must be one from  dict_keys(['bicycle', 'bus', 'car', 'cng', 'bike', 'truck'])\n",
      "Invalid Class rickshaw at truck (652).jpg. Must be one from  dict_keys(['bicycle', 'bus', 'car', 'cng', 'bike', 'truck'])\n",
      "Invalid Class rickshaw at truck (652).jpg. Must be one from  dict_keys(['bicycle', 'bus', 'car', 'cng', 'bike', 'truck'])\n",
      "Invalid Class rickshaw at truck (652).jpg. Must be one from  dict_keys(['bicycle', 'bus', 'car', 'cng', 'bike', 'truck'])\n",
      "Invalid Class rickshaw at truck (653).jpg. Must be one from  dict_keys(['bicycle', 'bus', 'car', 'cng', 'bike', 'truck'])\n",
      "Invalid Class rickshaw at truck (653).jpg. Must be one from  dict_keys(['bicycle', 'bus', 'car', 'cng', 'bike', 'truck'])\n",
      "Invalid Class rickshaw at truck (653).jpg. Must be one from  dict_keys(['bicycle', 'bus', 'car', 'cng', 'bike', 'truck'])\n",
      "Invalid Class rickshaw at truck (653).jpg. Must be one from  dict_keys(['bicycle', 'bus', 'car', 'cng', 'bike', 'truck'])\n",
      "Invalid Class rickshaw at truck (658).jpg. Must be one from  dict_keys(['bicycle', 'bus', 'car', 'cng', 'bike', 'truck'])\n",
      "Invalid Class rickshaw at truck (659).jpg. Must be one from  dict_keys(['bicycle', 'bus', 'car', 'cng', 'bike', 'truck'])\n",
      "Invalid Class rickshaw at truck (666).jpg. Must be one from  dict_keys(['bicycle', 'bus', 'car', 'cng', 'bike', 'truck'])\n",
      "Invalid Class rickshaw at truck (666).jpg. Must be one from  dict_keys(['bicycle', 'bus', 'car', 'cng', 'bike', 'truck'])\n",
      "Invalid Class rickshaw at truck (667).jpg. Must be one from  dict_keys(['bicycle', 'bus', 'car', 'cng', 'bike', 'truck'])\n",
      "Invalid Class rickshaw at truck (667).jpg. Must be one from  dict_keys(['bicycle', 'bus', 'car', 'cng', 'bike', 'truck'])\n",
      "Invalid Class rickshaw at truck (668).jpg. Must be one from  dict_keys(['bicycle', 'bus', 'car', 'cng', 'bike', 'truck'])\n",
      "Invalid Class rickshaw at truck (669).jpg. Must be one from  dict_keys(['bicycle', 'bus', 'car', 'cng', 'bike', 'truck'])\n",
      "Invalid Class van at truck (670).jpg. Must be one from  dict_keys(['bicycle', 'bus', 'car', 'cng', 'bike', 'truck'])\n",
      "Invalid Class van at truck (671).jpg. Must be one from  dict_keys(['bicycle', 'bus', 'car', 'cng', 'bike', 'truck'])\n",
      "Invalid Class van at truck (686).jpg. Must be one from  dict_keys(['bicycle', 'bus', 'car', 'cng', 'bike', 'truck'])\n",
      "Invalid Class van at truck (695).jpg. Must be one from  dict_keys(['bicycle', 'bus', 'car', 'cng', 'bike', 'truck'])\n",
      "Invalid Class van at truck (695).jpg. Must be one from  dict_keys(['bicycle', 'bus', 'car', 'cng', 'bike', 'truck'])\n",
      "Invalid Class van at truck (696).jpg. Must be one from  dict_keys(['bicycle', 'bus', 'car', 'cng', 'bike', 'truck'])\n",
      "Invalid Class van at truck (696).jpg. Must be one from  dict_keys(['bicycle', 'bus', 'car', 'cng', 'bike', 'truck'])\n",
      "Invalid Class van at truck (699).jpg. Must be one from  dict_keys(['bicycle', 'bus', 'car', 'cng', 'bike', 'truck'])\n",
      "Invalid Class van at truck (699).jpg. Must be one from  dict_keys(['bicycle', 'bus', 'car', 'cng', 'bike', 'truck'])\n",
      "Invalid Class easybike at truck (699).jpg. Must be one from  dict_keys(['bicycle', 'bus', 'car', 'cng', 'bike', 'truck'])\n",
      "Invalid Class easybike at truck (700).jpg. Must be one from  dict_keys(['bicycle', 'bus', 'car', 'cng', 'bike', 'truck'])\n",
      "Invalid Class van at truck (700).jpg. Must be one from  dict_keys(['bicycle', 'bus', 'car', 'cng', 'bike', 'truck'])\n",
      "Invalid Class van at truck (700).jpg. Must be one from  dict_keys(['bicycle', 'bus', 'car', 'cng', 'bike', 'truck'])\n",
      "Invalid Class easybike at truck (703).jpg. Must be one from  dict_keys(['bicycle', 'bus', 'car', 'cng', 'bike', 'truck'])\n",
      "Invalid Class easybike at truck (704).jpg. Must be one from  dict_keys(['bicycle', 'bus', 'car', 'cng', 'bike', 'truck'])\n",
      "Invalid Class easybike at truck (709).jpg. Must be one from  dict_keys(['bicycle', 'bus', 'car', 'cng', 'bike', 'truck'])\n",
      "Invalid Class easybike at truck (710).jpg. Must be one from  dict_keys(['bicycle', 'bus', 'car', 'cng', 'bike', 'truck'])\n",
      "Invalid Class leguna at truck (713).jpg. Must be one from  dict_keys(['bicycle', 'bus', 'car', 'cng', 'bike', 'truck'])\n",
      "Invalid Class easybike at truck (713).jpg. Must be one from  dict_keys(['bicycle', 'bus', 'car', 'cng', 'bike', 'truck'])\n",
      "Invalid Class leguna at truck (714).jpg. Must be one from  dict_keys(['bicycle', 'bus', 'car', 'cng', 'bike', 'truck'])\n",
      "Invalid Class van at truck (714).jpg. Must be one from  dict_keys(['bicycle', 'bus', 'car', 'cng', 'bike', 'truck'])\n",
      "Invalid Class rickshaw at truck (719).jpg. Must be one from  dict_keys(['bicycle', 'bus', 'car', 'cng', 'bike', 'truck'])\n",
      "Invalid Class rickshaw at truck (719).jpg. Must be one from  dict_keys(['bicycle', 'bus', 'car', 'cng', 'bike', 'truck'])\n"
     ]
    },
    {
     "name": "stderr",
     "output_type": "stream",
     "text": [
      "100%|█████████████████████████████████████████████████████████████████████████████| 3994/3994 [00:12<00:00, 326.89it/s]"
     ]
    },
    {
     "name": "stdout",
     "output_type": "stream",
     "text": [
      "Invalid Class rickshaw at truck (720).jpg. Must be one from  dict_keys(['bicycle', 'bus', 'car', 'cng', 'bike', 'truck'])\n",
      "Invalid Class rickshaw at truck (720).jpg. Must be one from  dict_keys(['bicycle', 'bus', 'car', 'cng', 'bike', 'truck'])\n",
      "Invalid Class van at truck (722).jpg. Must be one from  dict_keys(['bicycle', 'bus', 'car', 'cng', 'bike', 'truck'])\n",
      "ZeroDivisionError at truck (722).jpg\n",
      "Invalid Class van at truck (736).jpg. Must be one from  dict_keys(['bicycle', 'bus', 'car', 'cng', 'bike', 'truck'])\n",
      "ZeroDivisionError at truck (736).jpg\n",
      "Invalid Class leguna at truck (8).jpg. Must be one from  dict_keys(['bicycle', 'bus', 'car', 'cng', 'bike', 'truck'])\n",
      "Invalid Class leguna at truck (9).jpg. Must be one from  dict_keys(['bicycle', 'bus', 'car', 'cng', 'bike', 'truck'])\n"
     ]
    },
    {
     "name": "stderr",
     "output_type": "stream",
     "text": [
      "\n"
     ]
    }
   ],
   "source": [
    "# Get the annotations\n",
    "annotations = [os.path.join('labels', x) for x in os.listdir('labels') if x[-3:] == \"xml\"]\n",
    "annotations.sort()\n",
    "\n",
    "# Convert and save the annotations\n",
    "for ann in tqdm(annotations):\n",
    "    info_dict = extract_info_from_xml(ann)\n",
    "    convert_to_yolov5(info_dict)"
   ]
  },
  {
   "cell_type": "code",
   "execution_count": 18,
   "metadata": {},
   "outputs": [],
   "source": [
    "annotations = [os.path.join('labels', x) for x in os.listdir('labels') if x[-3:] == \"txt\"]"
   ]
  },
  {
   "cell_type": "code",
   "execution_count": 19,
   "metadata": {},
   "outputs": [
    {
     "data": {
      "image/png": "[encoded data removed]",
      "text/plain": [
       "<Figure size 432x288 with 1 Axes>"
      ]
     },
     "metadata": {
      "needs_background": "light"
     },
     "output_type": "display_data"
    }
   ],
   "source": [
    "class_id_to_name_mapping = dict(zip(class_name_to_id_mapping.values(), class_name_to_id_mapping.keys()))\n",
    "\n",
    "def plot_bounding_box(image, annotation_list):\n",
    "    annotations = np.array(annotation_list)\n",
    "    w, h = image.size\n",
    "    \n",
    "    plotted_image = ImageDraw.Draw(image)\n",
    "\n",
    "    transformed_annotations = np.copy(annotations)\n",
    "    transformed_annotations[:,[1,3]] = annotations[:,[1,3]] * w\n",
    "    transformed_annotations[:,[2,4]] = annotations[:,[2,4]] * h \n",
    "    \n",
    "    transformed_annotations[:,1] = transformed_annotations[:,1] - (transformed_annotations[:,3] / 2)\n",
    "    transformed_annotations[:,2] = transformed_annotations[:,2] - (transformed_annotations[:,4] / 2)\n",
    "    transformed_annotations[:,3] = transformed_annotations[:,1] + transformed_annotations[:,3]\n",
    "    transformed_annotations[:,4] = transformed_annotations[:,2] + transformed_annotations[:,4]\n",
    "    \n",
    "    for ann in transformed_annotations:\n",
    "        obj_cls, x0, y0, x1, y1 = ann\n",
    "        plotted_image.rectangle(((x0,y0), (x1,y1)))\n",
    "        \n",
    "        plotted_image.text((x0, y0 - 10), class_id_to_name_mapping[(int(obj_cls))])\n",
    "    \n",
    "    plt.imshow(np.array(image))\n",
    "    plt.show()\n",
    "\n",
    "# Get any random annotation file \n",
    "annotation_file = random.choice(annotations)\n",
    "with open(annotation_file, \"r\") as file:\n",
    "    annotation_list = file.read().split(\"\\n\")[:-1]\n",
    "    annotation_list = [x.split(\" \") for x in annotation_list]\n",
    "    annotation_list = [[float(y) for y in x ] for x in annotation_list]\n",
    "\n",
    "#Get the corresponding image file\n",
    "image_file = annotation_file.replace(\"labels\", \"images\").replace(\"txt\", \"jpg\")\n",
    "assert os.path.exists(image_file)\n",
    "\n",
    "#Load the image\n",
    "image = Image.open(image_file)\n",
    "\n",
    "#Plot the Bounding Box\n",
    "plot_bounding_box(image, annotation_list)"
   ]
  },
  {
   "cell_type": "code",
   "execution_count": 20,
   "metadata": {},
   "outputs": [],
   "source": [
    "# Read images and annotations\n",
    "images = [os.path.join('images', x) for x in os.listdir('images')]\n",
    "annotations = [os.path.join('labels', x) for x in os.listdir('labels') if x[-3:] == \"txt\"]\n",
    "\n",
    "images.sort()\n",
    "annotations.sort()\n",
    "\n",
    "# Split the dataset into train-valid-test splits \n",
    "train_images, val_images, train_annotations, val_annotations = train_test_split(images, annotations, test_size = 0.2, random_state = 1)\n",
    "val_images, test_images, val_annotations, test_annotations = train_test_split(val_images, val_annotations, test_size = 0.5, random_state = 1)"
   ]
  },
  {
   "cell_type": "code",
   "execution_count": 21,
   "metadata": {},
   "outputs": [],
   "source": [
    "#Utility function to move images \n",
    "def move_files_to_folder(list_of_files, destination_folder):\n",
    "    for f in list_of_files:\n",
    "        try:\n",
    "            shutil.move(f, destination_folder)\n",
    "        except:\n",
    "            print(f)\n",
    "            assert False\n",
    "\n",
    "# Move the splits into their folders\n",
    "move_files_to_folder(train_images, 'images/train')\n",
    "move_files_to_folder(val_images, 'images/val/')\n",
    "move_files_to_folder(test_images, 'images/test/')\n",
    "move_files_to_folder(train_annotations, 'labels/train/')\n",
    "move_files_to_folder(val_annotations, 'labels/val/')\n",
    "move_files_to_folder(test_annotations, 'labels/test/')"
   ]
  }
 ],
 "metadata": {
  "kernelspec": {
   "display_name": "Python 3",
   "language": "python",
   "name": "python3"
  },
  "language_info": {
   "codemirror_mode": {
    "name": "ipython",
    "version": 3
   },
   "file_extension": ".py",
   "mimetype": "text/x-python",
   "name": "python",
   "nbconvert_exporter": "python",
   "pygments_lexer": "ipython3",
   "version": "3.8.3"
  },
  "toc": {
   "base_numbering": 1,
   "nav_menu": {},
   "number_sections": true,
   "sideBar": true,
   "skip_h1_title": false,
   "title_cell": "Table of Contents",
   "title_sidebar": "Contents",
   "toc_cell": false,
   "toc_position": {},
   "toc_section_display": true,
   "toc_window_display": false
  }
 },
 "nbformat": 4,
 "nbformat_minor": 4
}
