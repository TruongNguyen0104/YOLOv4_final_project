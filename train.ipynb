{
  "cells": [
    {
      "cell_type": "code",
      "execution_count": 1,
      "metadata": {
        "id": "83pu6_z_UUlv"
      },
      "outputs": [],
      "source": [
        "import torch\n",
        "from IPython.display import Image  # for displaying images\n",
        "import os \n",
        "import random\n",
        "import shutil\n",
        "from sklearn.model_selection import train_test_split\n",
        "import xml.etree.ElementTree as ET\n",
        "from xml.dom import minidom\n",
        "from tqdm import tqdm\n",
        "from PIL import Image, ImageDraw\n",
        "import numpy as np\n",
        "import matplotlib.pyplot as plt\n",
        "\n",
        "random.seed(108)"
      ]
    },
    {
      "cell_type": "code",
      "execution_count": 2,
      "metadata": {
        "colab": {
          "base_uri": "https://localhost:8080/"
        },
        "id": "IM993dGpMxlX",
        "outputId": "630e5aac-f84a-41a4-cef6-30c12cf1e926"
      },
      "outputs": [
        {
          "output_type": "stream",
          "name": "stdout",
          "text": [
            "Mounted at /content/drive\n"
          ]
        }
      ],
      "source": [
        "from google.colab import drive\n",
        "drive.mount('/content/drive')"
      ]
    },
    {
      "cell_type": "code",
      "execution_count": 3,
      "metadata": {
        "colab": {
          "base_uri": "https://localhost:8080/"
        },
        "id": "2R3FDXKFS8NL",
        "outputId": "c8ed6312-4f57-4f0f-cbfe-e3d0375fce0d"
      },
      "outputs": [
        {
          "output_type": "stream",
          "name": "stdout",
          "text": [
            "0 0.977 0.569 0.044 0.180\n",
            "0 0.707 0.524 0.053 0.136\n",
            "0 0.622 0.561 0.076 0.162\n",
            "0 0.455 0.670 0.284 0.353\n",
            "0 0.829 0.715 0.158 0.382\n",
            "\n"
          ]
        }
      ],
      "source": [
        "with open('/content/drive/MyDrive/data/labels/train/bicycle (1).txt', 'r') as f:\n",
        "  a = f.read()\n",
        "  print(a)"
      ]
    },
    {
      "cell_type": "code",
      "execution_count": 4,
      "metadata": {
        "colab": {
          "base_uri": "https://localhost:8080/"
        },
        "id": "b488mP6DZLPe",
        "outputId": "fed216d8-b31c-489d-f569-afdfe0faf329"
      },
      "outputs": [
        {
          "output_type": "stream",
          "name": "stdout",
          "text": [
            "Cloning into 'yolov5'...\n",
            "remote: Enumerating objects: 11983, done.\u001b[K\n",
            "remote: Counting objects: 100% (30/30), done.\u001b[K\n",
            "remote: Compressing objects: 100% (13/13), done.\u001b[K\n",
            "remote: Total 11983 (delta 17), reused 25 (delta 17), pack-reused 11953\u001b[K\n",
            "Receiving objects: 100% (11983/11983), 12.49 MiB | 17.15 MiB/s, done.\n",
            "Resolving deltas: 100% (8236/8236), done.\n"
          ]
        }
      ],
      "source": [
        "!git clone https://github.com/ultralytics/yolov5"
      ]
    },
    {
      "cell_type": "code",
      "execution_count": 5,
      "metadata": {
        "colab": {
          "base_uri": "https://localhost:8080/"
        },
        "id": "slJkAHPO4MH0",
        "outputId": "24b785f7-e653-41b4-fd99-b7246eb3a816"
      },
      "outputs": [
        {
          "output_type": "stream",
          "name": "stdout",
          "text": [
            "Looking in indexes: https://pypi.org/simple, https://us-python.pkg.dev/colab-wheels/public/simple/\n",
            "Requirement already satisfied: matplotlib>=3.2.2 in /usr/local/lib/python3.7/dist-packages (from -r /content/yolov5/requirements.txt (line 5)) (3.2.2)\n",
            "Requirement already satisfied: numpy>=1.18.5 in /usr/local/lib/python3.7/dist-packages (from -r /content/yolov5/requirements.txt (line 6)) (1.21.6)\n",
            "Requirement already satisfied: opencv-python>=4.1.1 in /usr/local/lib/python3.7/dist-packages (from -r /content/yolov5/requirements.txt (line 7)) (4.6.0.66)\n",
            "Requirement already satisfied: Pillow>=7.1.2 in /usr/local/lib/python3.7/dist-packages (from -r /content/yolov5/requirements.txt (line 8)) (7.1.2)\n",
            "Requirement already satisfied: PyYAML>=5.3.1 in /usr/local/lib/python3.7/dist-packages (from -r /content/yolov5/requirements.txt (line 9)) (6.0)\n",
            "Requirement already satisfied: requests>=2.23.0 in /usr/local/lib/python3.7/dist-packages (from -r /content/yolov5/requirements.txt (line 10)) (2.23.0)\n",
            "Requirement already satisfied: scipy>=1.4.1 in /usr/local/lib/python3.7/dist-packages (from -r /content/yolov5/requirements.txt (line 11)) (1.7.3)\n",
            "Requirement already satisfied: torch>=1.7.0 in /usr/local/lib/python3.7/dist-packages (from -r /content/yolov5/requirements.txt (line 12)) (1.12.1+cu113)\n",
            "Requirement already satisfied: torchvision>=0.8.1 in /usr/local/lib/python3.7/dist-packages (from -r /content/yolov5/requirements.txt (line 13)) (0.13.1+cu113)\n",
            "Requirement already satisfied: tqdm>=4.64.0 in /usr/local/lib/python3.7/dist-packages (from -r /content/yolov5/requirements.txt (line 14)) (4.64.0)\n",
            "Requirement already satisfied: protobuf<=3.20.1 in /usr/local/lib/python3.7/dist-packages (from -r /content/yolov5/requirements.txt (line 15)) (3.17.3)\n",
            "Requirement already satisfied: tensorboard>=2.4.1 in /usr/local/lib/python3.7/dist-packages (from -r /content/yolov5/requirements.txt (line 18)) (2.8.0)\n",
            "Requirement already satisfied: pandas>=1.1.4 in /usr/local/lib/python3.7/dist-packages (from -r /content/yolov5/requirements.txt (line 23)) (1.3.5)\n",
            "Requirement already satisfied: seaborn>=0.11.0 in /usr/local/lib/python3.7/dist-packages (from -r /content/yolov5/requirements.txt (line 24)) (0.11.2)\n",
            "Requirement already satisfied: ipython in /usr/local/lib/python3.7/dist-packages (from -r /content/yolov5/requirements.txt (line 38)) (7.9.0)\n",
            "Requirement already satisfied: psutil in /usr/local/lib/python3.7/dist-packages (from -r /content/yolov5/requirements.txt (line 39)) (5.4.8)\n",
            "Collecting thop>=0.1.1\n",
            "  Downloading thop-0.1.1.post2207130030-py3-none-any.whl (15 kB)\n",
            "Requirement already satisfied: kiwisolver>=1.0.1 in /usr/local/lib/python3.7/dist-packages (from matplotlib>=3.2.2->-r /content/yolov5/requirements.txt (line 5)) (1.4.4)\n",
            "Requirement already satisfied: pyparsing!=2.0.4,!=2.1.2,!=2.1.6,>=2.0.1 in /usr/local/lib/python3.7/dist-packages (from matplotlib>=3.2.2->-r /content/yolov5/requirements.txt (line 5)) (3.0.9)\n",
            "Requirement already satisfied: cycler>=0.10 in /usr/local/lib/python3.7/dist-packages (from matplotlib>=3.2.2->-r /content/yolov5/requirements.txt (line 5)) (0.11.0)\n",
            "Requirement already satisfied: python-dateutil>=2.1 in /usr/local/lib/python3.7/dist-packages (from matplotlib>=3.2.2->-r /content/yolov5/requirements.txt (line 5)) (2.8.2)\n",
            "Requirement already satisfied: urllib3!=1.25.0,!=1.25.1,<1.26,>=1.21.1 in /usr/local/lib/python3.7/dist-packages (from requests>=2.23.0->-r /content/yolov5/requirements.txt (line 10)) (1.24.3)\n",
            "Requirement already satisfied: certifi>=2017.4.17 in /usr/local/lib/python3.7/dist-packages (from requests>=2.23.0->-r /content/yolov5/requirements.txt (line 10)) (2022.6.15)\n",
            "Requirement already satisfied: idna<3,>=2.5 in /usr/local/lib/python3.7/dist-packages (from requests>=2.23.0->-r /content/yolov5/requirements.txt (line 10)) (2.10)\n",
            "Requirement already satisfied: chardet<4,>=3.0.2 in /usr/local/lib/python3.7/dist-packages (from requests>=2.23.0->-r /content/yolov5/requirements.txt (line 10)) (3.0.4)\n",
            "Requirement already satisfied: typing-extensions in /usr/local/lib/python3.7/dist-packages (from torch>=1.7.0->-r /content/yolov5/requirements.txt (line 12)) (4.1.1)\n",
            "Requirement already satisfied: six>=1.9 in /usr/local/lib/python3.7/dist-packages (from protobuf<=3.20.1->-r /content/yolov5/requirements.txt (line 15)) (1.15.0)\n",
            "Requirement already satisfied: google-auth-oauthlib<0.5,>=0.4.1 in /usr/local/lib/python3.7/dist-packages (from tensorboard>=2.4.1->-r /content/yolov5/requirements.txt (line 18)) (0.4.6)\n",
            "Requirement already satisfied: grpcio>=1.24.3 in /usr/local/lib/python3.7/dist-packages (from tensorboard>=2.4.1->-r /content/yolov5/requirements.txt (line 18)) (1.47.0)\n",
            "Requirement already satisfied: tensorboard-plugin-wit>=1.6.0 in /usr/local/lib/python3.7/dist-packages (from tensorboard>=2.4.1->-r /content/yolov5/requirements.txt (line 18)) (1.8.1)\n",
            "Requirement already satisfied: setuptools>=41.0.0 in /usr/local/lib/python3.7/dist-packages (from tensorboard>=2.4.1->-r /content/yolov5/requirements.txt (line 18)) (57.4.0)\n",
            "Requirement already satisfied: markdown>=2.6.8 in /usr/local/lib/python3.7/dist-packages (from tensorboard>=2.4.1->-r /content/yolov5/requirements.txt (line 18)) (3.4.1)\n",
            "Requirement already satisfied: absl-py>=0.4 in /usr/local/lib/python3.7/dist-packages (from tensorboard>=2.4.1->-r /content/yolov5/requirements.txt (line 18)) (1.2.0)\n",
            "Requirement already satisfied: google-auth<3,>=1.6.3 in /usr/local/lib/python3.7/dist-packages (from tensorboard>=2.4.1->-r /content/yolov5/requirements.txt (line 18)) (1.35.0)\n",
            "Requirement already satisfied: wheel>=0.26 in /usr/local/lib/python3.7/dist-packages (from tensorboard>=2.4.1->-r /content/yolov5/requirements.txt (line 18)) (0.37.1)\n",
            "Requirement already satisfied: werkzeug>=0.11.15 in /usr/local/lib/python3.7/dist-packages (from tensorboard>=2.4.1->-r /content/yolov5/requirements.txt (line 18)) (1.0.1)\n",
            "Requirement already satisfied: tensorboard-data-server<0.7.0,>=0.6.0 in /usr/local/lib/python3.7/dist-packages (from tensorboard>=2.4.1->-r /content/yolov5/requirements.txt (line 18)) (0.6.1)\n",
            "Requirement already satisfied: pytz>=2017.3 in /usr/local/lib/python3.7/dist-packages (from pandas>=1.1.4->-r /content/yolov5/requirements.txt (line 23)) (2022.2.1)\n",
            "Requirement already satisfied: pyasn1-modules>=0.2.1 in /usr/local/lib/python3.7/dist-packages (from google-auth<3,>=1.6.3->tensorboard>=2.4.1->-r /content/yolov5/requirements.txt (line 18)) (0.2.8)\n",
            "Requirement already satisfied: rsa<5,>=3.1.4 in /usr/local/lib/python3.7/dist-packages (from google-auth<3,>=1.6.3->tensorboard>=2.4.1->-r /content/yolov5/requirements.txt (line 18)) (4.9)\n",
            "Requirement already satisfied: cachetools<5.0,>=2.0.0 in /usr/local/lib/python3.7/dist-packages (from google-auth<3,>=1.6.3->tensorboard>=2.4.1->-r /content/yolov5/requirements.txt (line 18)) (4.2.4)\n",
            "Requirement already satisfied: requests-oauthlib>=0.7.0 in /usr/local/lib/python3.7/dist-packages (from google-auth-oauthlib<0.5,>=0.4.1->tensorboard>=2.4.1->-r /content/yolov5/requirements.txt (line 18)) (1.3.1)\n",
            "Requirement already satisfied: importlib-metadata>=4.4 in /usr/local/lib/python3.7/dist-packages (from markdown>=2.6.8->tensorboard>=2.4.1->-r /content/yolov5/requirements.txt (line 18)) (4.12.0)\n",
            "Requirement already satisfied: zipp>=0.5 in /usr/local/lib/python3.7/dist-packages (from importlib-metadata>=4.4->markdown>=2.6.8->tensorboard>=2.4.1->-r /content/yolov5/requirements.txt (line 18)) (3.8.1)\n",
            "Requirement already satisfied: pyasn1<0.5.0,>=0.4.6 in /usr/local/lib/python3.7/dist-packages (from pyasn1-modules>=0.2.1->google-auth<3,>=1.6.3->tensorboard>=2.4.1->-r /content/yolov5/requirements.txt (line 18)) (0.4.8)\n",
            "Requirement already satisfied: oauthlib>=3.0.0 in /usr/local/lib/python3.7/dist-packages (from requests-oauthlib>=0.7.0->google-auth-oauthlib<0.5,>=0.4.1->tensorboard>=2.4.1->-r /content/yolov5/requirements.txt (line 18)) (3.2.0)\n",
            "Requirement already satisfied: pygments in /usr/local/lib/python3.7/dist-packages (from ipython->-r /content/yolov5/requirements.txt (line 38)) (2.6.1)\n",
            "Requirement already satisfied: pickleshare in /usr/local/lib/python3.7/dist-packages (from ipython->-r /content/yolov5/requirements.txt (line 38)) (0.7.5)\n",
            "Collecting jedi>=0.10\n",
            "  Downloading jedi-0.18.1-py2.py3-none-any.whl (1.6 MB)\n",
            "\u001b[K     |████████████████████████████████| 1.6 MB 50.4 MB/s \n",
            "\u001b[?25hRequirement already satisfied: decorator in /usr/local/lib/python3.7/dist-packages (from ipython->-r /content/yolov5/requirements.txt (line 38)) (4.4.2)\n",
            "Requirement already satisfied: traitlets>=4.2 in /usr/local/lib/python3.7/dist-packages (from ipython->-r /content/yolov5/requirements.txt (line 38)) (5.1.1)\n",
            "Requirement already satisfied: pexpect in /usr/local/lib/python3.7/dist-packages (from ipython->-r /content/yolov5/requirements.txt (line 38)) (4.8.0)\n",
            "Requirement already satisfied: backcall in /usr/local/lib/python3.7/dist-packages (from ipython->-r /content/yolov5/requirements.txt (line 38)) (0.2.0)\n",
            "Requirement already satisfied: prompt-toolkit<2.1.0,>=2.0.0 in /usr/local/lib/python3.7/dist-packages (from ipython->-r /content/yolov5/requirements.txt (line 38)) (2.0.10)\n",
            "Requirement already satisfied: parso<0.9.0,>=0.8.0 in /usr/local/lib/python3.7/dist-packages (from jedi>=0.10->ipython->-r /content/yolov5/requirements.txt (line 38)) (0.8.3)\n",
            "Requirement already satisfied: wcwidth in /usr/local/lib/python3.7/dist-packages (from prompt-toolkit<2.1.0,>=2.0.0->ipython->-r /content/yolov5/requirements.txt (line 38)) (0.2.5)\n",
            "Requirement already satisfied: ptyprocess>=0.5 in /usr/local/lib/python3.7/dist-packages (from pexpect->ipython->-r /content/yolov5/requirements.txt (line 38)) (0.7.0)\n",
            "Installing collected packages: jedi, thop\n",
            "Successfully installed jedi-0.18.1 thop-0.1.1.post2207130030\n"
          ]
        }
      ],
      "source": [
        "!pip install -r /content/yolov5/requirements.txt"
      ]
    },
    {
      "cell_type": "code",
      "execution_count": 6,
      "metadata": {
        "colab": {
          "base_uri": "https://localhost:8080/"
        },
        "id": "J-YyIWq5auRd",
        "outputId": "82841a06-a8cb-48cb-9e2b-94b8924d2371"
      },
      "outputs": [
        {
          "output_type": "stream",
          "name": "stdout",
          "text": [
            "/content/yolov5\n"
          ]
        }
      ],
      "source": [
        "%cd /content/yolov5"
      ]
    },
    {
      "cell_type": "code",
      "execution_count": 7,
      "metadata": {
        "colab": {
          "base_uri": "https://localhost:8080/"
        },
        "id": "FTxOVLndhUHK",
        "outputId": "728fa646-3eee-48fa-bc07-747614373a29"
      },
      "outputs": [
        {
          "output_type": "stream",
          "name": "stdout",
          "text": [
            "classify\t detect.py   LICENSE\trequirements.txt  tutorial.ipynb\n",
            "CONTRIBUTING.md  export.py   models\tsetup.cfg\t  utils\n",
            "data\t\t hubconf.py  README.md\ttrain.py\t  val.py\n"
          ]
        }
      ],
      "source": [
        "!ls"
      ]
    },
    {
      "cell_type": "code",
      "execution_count": null,
      "metadata": {
        "colab": {
          "background_save": true,
          "base_uri": "https://localhost:8080/"
        },
        "id": "ZKOJf20bZLs_",
        "outputId": "6d9e0c1c-b559-40bf-be75-b6cec4ca1bcc"
      },
      "outputs": [
        {
          "name": "stdout",
          "output_type": "stream",
          "text": [
            "\u001b[34m\u001b[1mtrain: \u001b[0mweights=yolov5s.pt, cfg=yolov5s.yaml, data=vehicles.yaml, hyp=hyp.scratch.yaml, epochs=25, batch_size=32, imgsz=600, rect=False, resume=False, nosave=False, noval=False, noautoanchor=False, noplots=False, evolve=None, bucket=, cache=None, image_weights=False, device=, multi_scale=False, single_cls=False, optimizer=SGD, sync_bn=False, workers=24, project=runs/train, name=yolo_vehicles_det, exist_ok=False, quad=False, cos_lr=False, label_smoothing=0.0, patience=100, freeze=[0], save_period=-1, seed=0, local_rank=-1, entity=None, upload_dataset=False, bbox_interval=-1, artifact_alias=latest\n",
            "\u001b[34m\u001b[1mgithub: \u001b[0mup to date with https://github.com/ultralytics/yolov5 ✅\n",
            "YOLOv5 🚀 v6.2-47-geab35f6 Python-3.7.13 torch-1.12.1+cu113 CUDA:0 (Tesla T4, 15110MiB)\n",
            "\n",
            "\u001b[34m\u001b[1mhyperparameters: \u001b[0mlr0=0.01, lrf=0.2, momentum=0.937, weight_decay=0.0005, warmup_epochs=3.0, warmup_momentum=0.8, warmup_bias_lr=0.1, box=0.05, cls=0.5, cls_pw=1.0, obj=1.0, obj_pw=1.0, iou_t=0.2, anchor_t=4.0, fl_gamma=0.0, hsv_h=0.015, hsv_s=0.7, hsv_v=0.4, degrees=0.0, translate=0.1, scale=0.5, shear=0.0, perspective=0.0, flipud=0.0, fliplr=0.5, mosaic=1.0, mixup=0.0, copy_paste=0.0\n",
            "\u001b[34m\u001b[1mWeights & Biases: \u001b[0mrun 'pip install wandb' to automatically track and visualize YOLOv5 🚀 runs in Weights & Biases\n",
            "\u001b[34m\u001b[1mClearML: \u001b[0mrun 'pip install clearml' to automatically track, visualize and remotely train YOLOv5 🚀 in ClearML\n",
            "\u001b[34m\u001b[1mTensorBoard: \u001b[0mStart with 'tensorboard --logdir runs/train', view at http://localhost:6006/\n",
            "Overriding model.yaml nc=80 with nc=6\n",
            "\n",
            "                 from  n    params  module                                  arguments                     \n",
            "  0                -1  1      3520  models.common.Conv                      [3, 32, 6, 2, 2]              \n",
            "  1                -1  1     18560  models.common.Conv                      [32, 64, 3, 2]                \n",
            "  2                -1  1     18816  models.common.C3                        [64, 64, 1]                   \n",
            "  3                -1  1     73984  models.common.Conv                      [64, 128, 3, 2]               \n",
            "  4                -1  2    115712  models.common.C3                        [128, 128, 2]                 \n",
            "  5                -1  1    295424  models.common.Conv                      [128, 256, 3, 2]              \n",
            "  6                -1  3    625152  models.common.C3                        [256, 256, 3]                 \n",
            "  7                -1  1   1180672  models.common.Conv                      [256, 512, 3, 2]              \n",
            "  8                -1  1   1182720  models.common.C3                        [512, 512, 1]                 \n",
            "  9                -1  1    656896  models.common.SPPF                      [512, 512, 5]                 \n",
            " 10                -1  1    131584  models.common.Conv                      [512, 256, 1, 1]              \n",
            " 11                -1  1         0  torch.nn.modules.upsampling.Upsample    [None, 2, 'nearest']          \n",
            " 12           [-1, 6]  1         0  models.common.Concat                    [1]                           \n",
            " 13                -1  1    361984  models.common.C3                        [512, 256, 1, False]          \n",
            " 14                -1  1     33024  models.common.Conv                      [256, 128, 1, 1]              \n",
            " 15                -1  1         0  torch.nn.modules.upsampling.Upsample    [None, 2, 'nearest']          \n",
            " 16           [-1, 4]  1         0  models.common.Concat                    [1]                           \n",
            " 17                -1  1     90880  models.common.C3                        [256, 128, 1, False]          \n",
            " 18                -1  1    147712  models.common.Conv                      [128, 128, 3, 2]              \n",
            " 19          [-1, 14]  1         0  models.common.Concat                    [1]                           \n",
            " 20                -1  1    296448  models.common.C3                        [256, 256, 1, False]          \n",
            " 21                -1  1    590336  models.common.Conv                      [256, 256, 3, 2]              \n",
            " 22          [-1, 10]  1         0  models.common.Concat                    [1]                           \n",
            " 23                -1  1   1182720  models.common.C3                        [512, 512, 1, False]          \n",
            " 24      [17, 20, 23]  1     29667  models.yolo.Detect                      [6, [[10, 13, 16, 30, 33, 23], [30, 61, 62, 45, 59, 119], [116, 90, 156, 198, 373, 326]], [128, 256, 512]]\n",
            "YOLOv5s summary: 270 layers, 7035811 parameters, 7035811 gradients, 16.0 GFLOPs\n",
            "\n",
            "Transferred 342/349 items from yolov5s.pt\n",
            "\u001b[34m\u001b[1mAMP: \u001b[0mchecks passed ✅\n",
            "WARNING: --img-size 600 must be multiple of max stride 32, updating to 608\n",
            "\u001b[34m\u001b[1moptimizer:\u001b[0m SGD(lr=0.01) with parameter groups 57 weight(decay=0.0), 60 weight(decay=0.0005), 60 bias\n",
            "\u001b[34m\u001b[1malbumentations: \u001b[0mBlur(p=0.01, blur_limit=(3, 7)), MedianBlur(p=0.01, blur_limit=(3, 7)), ToGray(p=0.01), CLAHE(p=0.01, clip_limit=(1, 4.0), tile_grid_size=(8, 8))\n",
            "\u001b[34m\u001b[1mtrain: \u001b[0mScanning '/content/drive/MyDrive/data/labels/train' images and labels...3193 found, 0 missing, 0 empty, 3 corrupt: 100% 3193/3193 [36:24<00:00,  1.46it/s]\n",
            "\u001b[34m\u001b[1mtrain: \u001b[0mWARNING: /content/drive/MyDrive/data/images/train/cng (389).jpg: corrupt JPEG restored and saved\n",
            "\u001b[34m\u001b[1mtrain: \u001b[0mWARNING: /content/drive/MyDrive/data/images/train/truck (453).jpg: 1 duplicate labels removed\n",
            "\u001b[34m\u001b[1mtrain: \u001b[0mWARNING: /content/drive/MyDrive/data/images/train/truck (508).jpg: corrupt JPEG restored and saved\n",
            "\u001b[34m\u001b[1mtrain: \u001b[0mWARNING: /content/drive/MyDrive/data/images/train/truck (643).jpg: ignoring corrupt image/label: non-normalized or out of bounds coordinates [      1.476]\n",
            "\u001b[34m\u001b[1mtrain: \u001b[0mWARNING: /content/drive/MyDrive/data/images/train/truck (722).jpg: ignoring corrupt image/label: non-normalized or out of bounds coordinates [     1176.5       782.5        1645         743]\n",
            "\u001b[34m\u001b[1mtrain: \u001b[0mWARNING: /content/drive/MyDrive/data/images/train/truck (736).jpg: ignoring corrupt image/label: non-normalized or out of bounds coordinates [      811.5       766.5        1603         761]\n",
            "\u001b[34m\u001b[1mtrain: \u001b[0mNew cache created: /content/drive/MyDrive/data/labels/train.cache\n",
            "\u001b[34m\u001b[1mval: \u001b[0mScanning '/content/drive/MyDrive/data/labels/val' images and labels...399 found, 0 missing, 0 empty, 1 corrupt: 100% 399/399 [04:21<00:00,  1.52it/s]\n",
            "\u001b[34m\u001b[1mval: \u001b[0mWARNING: /content/drive/MyDrive/data/images/val/truck (684).jpg: ignoring corrupt image/label: non-normalized or out of bounds coordinates [      3.155       3.547        4.45       3.926]\n",
            "\u001b[34m\u001b[1mval: \u001b[0mNew cache created: /content/drive/MyDrive/data/labels/val.cache\n",
            "\n",
            "\u001b[34m\u001b[1mAutoAnchor: \u001b[0m4.19 anchors/target, 1.000 Best Possible Recall (BPR). Current anchors are a good fit to dataset ✅\n",
            "Plotting labels to runs/train/yolo_vehicles_det2/labels.jpg... \n",
            "Image sizes 608 train, 608 val\n",
            "Using 2 dataloader workers\n",
            "Logging results to \u001b[1mruns/train/yolo_vehicles_det2\u001b[0m\n",
            "Starting training for 25 epochs...\n",
            "\n",
            "      Epoch    GPU_mem   box_loss   obj_loss   cls_loss  Instances       Size\n",
            "       0/24       6.6G     0.1239    0.03631     0.0617        153        608:   0% 0/100 [00:01<?, ?it/s]WARNING: TensorBoard graph visualization failure Sizes of tensors must match except in dimension 1. Expected size 76 but got size 75 for tensor number 1 in the list.\n",
            "       0/24      6.65G    0.07683      0.034    0.04768         99        608: 100% 100/100 [08:29<00:00,  5.10s/it]\n",
            "                 Class     Images  Instances          P          R     mAP@.5 mAP@.5:.95: 100% 7/7 [00:27<00:00,  3.95s/it]\n",
            "                   all        398        733      0.483      0.573      0.559      0.311\n",
            "\n",
            "      Epoch    GPU_mem   box_loss   obj_loss   cls_loss  Instances       Size\n",
            "       1/24      9.19G    0.05507    0.02539    0.02542        107        608: 100% 100/100 [08:34<00:00,  5.15s/it]\n",
            "                 Class     Images  Instances          P          R     mAP@.5 mAP@.5:.95: 100% 7/7 [00:24<00:00,  3.47s/it]\n",
            "                   all        398        733      0.625      0.697      0.728      0.365\n",
            "\n",
            "      Epoch    GPU_mem   box_loss   obj_loss   cls_loss  Instances       Size\n",
            "       2/24      9.19G    0.05356    0.02426    0.01713        100        608: 100% 100/100 [08:41<00:00,  5.22s/it]\n",
            "                 Class     Images  Instances          P          R     mAP@.5 mAP@.5:.95: 100% 7/7 [00:22<00:00,  3.15s/it]\n",
            "                   all        398        733      0.644      0.732      0.722       0.41\n",
            "\n",
            "      Epoch    GPU_mem   box_loss   obj_loss   cls_loss  Instances       Size\n",
            "       3/24      9.19G    0.04706    0.02462    0.01431        102        608: 100% 100/100 [08:37<00:00,  5.17s/it]\n",
            "                 Class     Images  Instances          P          R     mAP@.5 mAP@.5:.95: 100% 7/7 [00:21<00:00,  3.12s/it]\n",
            "                   all        398        733      0.839      0.732      0.824      0.529\n",
            "\n",
            "      Epoch    GPU_mem   box_loss   obj_loss   cls_loss  Instances       Size\n",
            "       4/24      9.19G    0.04326    0.02418    0.01272         64        608: 100% 100/100 [08:46<00:00,  5.26s/it]\n",
            "                 Class     Images  Instances          P          R     mAP@.5 mAP@.5:.95: 100% 7/7 [00:23<00:00,  3.38s/it]\n",
            "                   all        398        733      0.817      0.745      0.818      0.506\n",
            "\n",
            "      Epoch    GPU_mem   box_loss   obj_loss   cls_loss  Instances       Size\n",
            "       5/24      9.19G    0.04104    0.02422    0.01201        109        608: 100% 100/100 [08:37<00:00,  5.18s/it]\n",
            "                 Class     Images  Instances          P          R     mAP@.5 mAP@.5:.95: 100% 7/7 [00:18<00:00,  2.58s/it]\n",
            "                   all        398        733      0.831      0.727      0.824      0.518\n",
            "\n",
            "      Epoch    GPU_mem   box_loss   obj_loss   cls_loss  Instances       Size\n",
            "       6/24      9.19G    0.03992    0.02451    0.01085        123        608: 100% 100/100 [08:22<00:00,  5.02s/it]\n",
            "                 Class     Images  Instances          P          R     mAP@.5 mAP@.5:.95: 100% 7/7 [00:21<00:00,  3.01s/it]\n",
            "                   all        398        733      0.785      0.792      0.841      0.537\n",
            "\n",
            "      Epoch    GPU_mem   box_loss   obj_loss   cls_loss  Instances       Size\n",
            "       7/24      9.19G    0.03859    0.02359    0.01025        102        608: 100% 100/100 [08:37<00:00,  5.17s/it]\n",
            "                 Class     Images  Instances          P          R     mAP@.5 mAP@.5:.95: 100% 7/7 [00:21<00:00,  3.03s/it]\n",
            "                   all        398        733      0.877      0.787      0.865      0.571\n",
            "\n",
            "      Epoch    GPU_mem   box_loss   obj_loss   cls_loss  Instances       Size\n",
            "       8/24      9.19G    0.03769     0.0233   0.009356         94        608: 100% 100/100 [08:37<00:00,  5.17s/it]\n",
            "                 Class     Images  Instances          P          R     mAP@.5 mAP@.5:.95: 100% 7/7 [00:21<00:00,  3.10s/it]\n",
            "                   all        398        733      0.871      0.768      0.867       0.58\n",
            "\n",
            "      Epoch    GPU_mem   box_loss   obj_loss   cls_loss  Instances       Size\n",
            "       9/24      9.19G    0.03711    0.02328   0.008867         83        608: 100% 100/100 [08:32<00:00,  5.13s/it]\n",
            "                 Class     Images  Instances          P          R     mAP@.5 mAP@.5:.95: 100% 7/7 [00:23<00:00,  3.29s/it]\n",
            "                   all        398        733      0.821       0.78      0.862      0.571\n",
            "\n",
            "      Epoch    GPU_mem   box_loss   obj_loss   cls_loss  Instances       Size\n",
            "      10/24      9.19G    0.03594    0.02271   0.007774         94        608: 100% 100/100 [08:36<00:00,  5.17s/it]\n",
            "                 Class     Images  Instances          P          R     mAP@.5 mAP@.5:.95: 100% 7/7 [00:21<00:00,  3.06s/it]\n",
            "                   all        398        733      0.881      0.814      0.897      0.622\n",
            "\n",
            "      Epoch    GPU_mem   box_loss   obj_loss   cls_loss  Instances       Size\n",
            "      11/24      9.19G    0.03505    0.02245   0.007962         92        608: 100% 100/100 [08:40<00:00,  5.20s/it]\n",
            "                 Class     Images  Instances          P          R     mAP@.5 mAP@.5:.95: 100% 7/7 [00:21<00:00,  3.07s/it]\n",
            "                   all        398        733      0.917      0.791      0.879       0.61\n",
            "\n",
            "      Epoch    GPU_mem   box_loss   obj_loss   cls_loss  Instances       Size\n",
            "      12/24      9.19G    0.03427    0.02217   0.007563         92        608: 100% 100/100 [08:37<00:00,  5.17s/it]\n",
            "                 Class     Images  Instances          P          R     mAP@.5 mAP@.5:.95: 100% 7/7 [00:21<00:00,  3.11s/it]\n",
            "                   all        398        733      0.885      0.838      0.903      0.629\n",
            "\n",
            "      Epoch    GPU_mem   box_loss   obj_loss   cls_loss  Instances       Size\n",
            "      13/24      9.19G    0.03344    0.02147   0.006756         84        608: 100% 100/100 [08:31<00:00,  5.12s/it]\n",
            "                 Class     Images  Instances          P          R     mAP@.5 mAP@.5:.95: 100% 7/7 [00:21<00:00,  3.09s/it]\n",
            "                   all        398        733      0.921      0.835      0.923      0.653\n",
            "\n",
            "      Epoch    GPU_mem   box_loss   obj_loss   cls_loss  Instances       Size\n",
            "      14/24      9.19G    0.03305    0.02117   0.006052         82        608: 100% 100/100 [08:42<00:00,  5.23s/it]\n",
            "                 Class     Images  Instances          P          R     mAP@.5 mAP@.5:.95: 100% 7/7 [00:21<00:00,  3.09s/it]\n",
            "                   all        398        733      0.907      0.823      0.903       0.64\n",
            "\n",
            "      Epoch    GPU_mem   box_loss   obj_loss   cls_loss  Instances       Size\n",
            "      15/24      9.19G    0.03245    0.02128   0.005711         98        608: 100% 100/100 [08:30<00:00,  5.11s/it]\n",
            "                 Class     Images  Instances          P          R     mAP@.5 mAP@.5:.95: 100% 7/7 [00:21<00:00,  3.08s/it]\n",
            "                   all        398        733       0.92      0.853      0.924      0.659\n",
            "\n",
            "      Epoch    GPU_mem   box_loss   obj_loss   cls_loss  Instances       Size\n",
            "      16/24      9.19G     0.0325    0.02047   0.005746         90        608: 100% 100/100 [08:44<00:00,  5.24s/it]\n",
            "                 Class     Images  Instances          P          R     mAP@.5 mAP@.5:.95: 100% 7/7 [00:21<00:00,  3.09s/it]\n",
            "                   all        398        733      0.923      0.852      0.934      0.658\n",
            "\n",
            "      Epoch    GPU_mem   box_loss   obj_loss   cls_loss  Instances       Size\n",
            "      17/24      9.19G    0.03152    0.02082   0.004983         94        608: 100% 100/100 [08:36<00:00,  5.17s/it]\n",
            "                 Class     Images  Instances          P          R     mAP@.5 mAP@.5:.95: 100% 7/7 [00:18<00:00,  2.69s/it]\n",
            "                   all        398        733      0.921      0.833      0.915      0.662\n",
            "\n",
            "      Epoch    GPU_mem   box_loss   obj_loss   cls_loss  Instances       Size\n",
            "      18/24      9.19G    0.03074    0.02009   0.004916        105        608: 100% 100/100 [08:38<00:00,  5.18s/it]\n",
            "                 Class     Images  Instances          P          R     mAP@.5 mAP@.5:.95: 100% 7/7 [00:22<00:00,  3.15s/it]\n",
            "                   all        398        733      0.908      0.883      0.936      0.676\n",
            "\n",
            "      Epoch    GPU_mem   box_loss   obj_loss   cls_loss  Instances       Size\n",
            "      19/24      9.19G    0.03025    0.02026   0.004316        117        608: 100% 100/100 [08:34<00:00,  5.15s/it]\n",
            "                 Class     Images  Instances          P          R     mAP@.5 mAP@.5:.95: 100% 7/7 [00:24<00:00,  3.47s/it]\n",
            "                   all        398        733      0.924      0.886      0.942      0.689\n",
            "\n",
            "      Epoch    GPU_mem   box_loss   obj_loss   cls_loss  Instances       Size\n",
            "      20/24      9.19G    0.02968    0.01952   0.004829         84        608: 100% 100/100 [08:42<00:00,  5.23s/it]\n",
            "                 Class     Images  Instances          P          R     mAP@.5 mAP@.5:.95: 100% 7/7 [00:21<00:00,  3.14s/it]\n",
            "                   all        398        733      0.922      0.861      0.936       0.69\n",
            "\n",
            "      Epoch    GPU_mem   box_loss   obj_loss   cls_loss  Instances       Size\n",
            "      21/24      9.19G    0.02933    0.01935    0.00392         88        608: 100% 100/100 [08:33<00:00,  5.13s/it]\n",
            "                 Class     Images  Instances          P          R     mAP@.5 mAP@.5:.95: 100% 7/7 [00:22<00:00,  3.15s/it]\n",
            "                   all        398        733       0.92      0.894      0.944      0.697\n",
            "\n",
            "      Epoch    GPU_mem   box_loss   obj_loss   cls_loss  Instances       Size\n",
            "      22/24      9.19G    0.02848    0.01937   0.004184         78        608: 100% 100/100 [08:37<00:00,  5.18s/it]\n",
            "                 Class     Images  Instances          P          R     mAP@.5 mAP@.5:.95: 100% 7/7 [00:22<00:00,  3.15s/it]\n",
            "                   all        398        733      0.942      0.871      0.946      0.708\n",
            "\n",
            "      Epoch    GPU_mem   box_loss   obj_loss   cls_loss  Instances       Size\n",
            "      23/24      9.19G    0.02867    0.01934   0.003945        114        608: 100% 100/100 [08:35<00:00,  5.15s/it]\n",
            "                 Class     Images  Instances          P          R     mAP@.5 mAP@.5:.95: 100% 7/7 [00:21<00:00,  3.11s/it]\n",
            "                   all        398        733      0.917      0.895      0.946      0.705\n",
            "\n",
            "      Epoch    GPU_mem   box_loss   obj_loss   cls_loss  Instances       Size\n",
            "      24/24      9.19G    0.02741    0.01829   0.003559         90        608: 100% 100/100 [08:25<00:00,  5.05s/it]\n",
            "                 Class     Images  Instances          P          R     mAP@.5 mAP@.5:.95: 100% 7/7 [00:21<00:00,  3.09s/it]\n",
            "                   all        398        733       0.92      0.894      0.946      0.708\n",
            "\n",
            "25 epochs completed in 3.750 hours.\n",
            "Optimizer stripped from runs/train/yolo_vehicles_det2/weights/last.pt, 14.4MB\n",
            "Optimizer stripped from runs/train/yolo_vehicles_det2/weights/best.pt, 14.4MB\n",
            "\n",
            "Validating runs/train/yolo_vehicles_det2/weights/best.pt...\n",
            "Fusing layers... \n",
            "YOLOv5s summary: 213 layers, 7026307 parameters, 0 gradients, 15.8 GFLOPs\n",
            "                 Class     Images  Instances          P          R     mAP@.5 mAP@.5:.95: 100% 7/7 [00:26<00:00,  3.79s/it]\n",
            "                   all        398        733      0.919      0.894      0.946      0.709\n",
            "               bicycle        398        176      0.827      0.812      0.893      0.571\n",
            "                   bus        398         85      0.951       0.91      0.975      0.744\n",
            "                   car        398        161      0.888      0.839      0.905      0.656\n",
            "                   cng        398         77      0.937      0.965      0.984      0.835\n",
            "                  bike        398        129      0.953      0.868       0.93      0.694\n",
            "                 truck        398        105      0.961      0.971      0.988      0.752\n",
            "Results saved to \u001b[1mruns/train/yolo_vehicles_det2\u001b[0m\n"
          ]
        }
      ],
      "source": [
        "!python train.py --img 600 --cfg yolov5s.yaml --hyp hyp.scratch.yaml --batch 32 --epochs 25 --data vehicles.yaml --weights yolov5s.pt --workers 24 --name yolo_vehicles_det"
      ]
    },
    {
      "cell_type": "code",
      "source": [
        "!python train.py --img 600 --cfg yolov5s.yaml --hyp hyp.scratch.yaml --batch 32 --epochs 25 --data vehicles.yaml --weights /content/yolov5/data/best.pt --workers 24 --name yolo_vehicles_det"
      ],
      "metadata": {
        "colab": {
          "base_uri": "https://localhost:8080/"
        },
        "id": "hc8W-TLa_WpV",
        "outputId": "57665d02-40b1-457c-8d3c-45c4948ade3f"
      },
      "execution_count": 8,
      "outputs": [
        {
          "output_type": "stream",
          "name": "stdout",
          "text": [
            "\u001b[34m\u001b[1mtrain: \u001b[0mweights=/content/yolov5/data/best.pt, cfg=yolov5s.yaml, data=vehicles.yaml, hyp=hyp.scratch.yaml, epochs=25, batch_size=32, imgsz=600, rect=False, resume=False, nosave=False, noval=False, noautoanchor=False, noplots=False, evolve=None, bucket=, cache=None, image_weights=False, device=, multi_scale=False, single_cls=False, optimizer=SGD, sync_bn=False, workers=24, project=runs/train, name=yolo_vehicles_det, exist_ok=False, quad=False, cos_lr=False, label_smoothing=0.0, patience=100, freeze=[0], save_period=-1, seed=0, local_rank=-1, entity=None, upload_dataset=False, bbox_interval=-1, artifact_alias=latest\n",
            "\u001b[34m\u001b[1mgithub: \u001b[0mup to date with https://github.com/ultralytics/yolov5 ✅\n",
            "YOLOv5 🚀 v6.2-47-geab35f6 Python-3.7.13 torch-1.12.1+cu113 CUDA:0 (Tesla T4, 15110MiB)\n",
            "\n",
            "\u001b[34m\u001b[1mhyperparameters: \u001b[0mlr0=0.01, lrf=0.2, momentum=0.937, weight_decay=0.0005, warmup_epochs=3.0, warmup_momentum=0.8, warmup_bias_lr=0.1, box=0.05, cls=0.5, cls_pw=1.0, obj=1.0, obj_pw=1.0, iou_t=0.2, anchor_t=4.0, fl_gamma=0.0, hsv_h=0.015, hsv_s=0.7, hsv_v=0.4, degrees=0.0, translate=0.1, scale=0.5, shear=0.0, perspective=0.0, flipud=0.0, fliplr=0.5, mosaic=1.0, mixup=0.0, copy_paste=0.0\n",
            "\u001b[34m\u001b[1mWeights & Biases: \u001b[0mrun 'pip install wandb' to automatically track and visualize YOLOv5 🚀 runs in Weights & Biases\n",
            "\u001b[34m\u001b[1mClearML: \u001b[0mrun 'pip install clearml' to automatically track, visualize and remotely train YOLOv5 🚀 in ClearML\n",
            "\u001b[34m\u001b[1mTensorBoard: \u001b[0mStart with 'tensorboard --logdir runs/train', view at http://localhost:6006/\n",
            "Downloading https://ultralytics.com/assets/Arial.ttf to /root/.config/Ultralytics/Arial.ttf...\n",
            "100% 755k/755k [00:00<00:00, 77.8MB/s]\n",
            "Overriding model.yaml nc=80 with nc=6\n",
            "\n",
            "                 from  n    params  module                                  arguments                     \n",
            "  0                -1  1      3520  models.common.Conv                      [3, 32, 6, 2, 2]              \n",
            "  1                -1  1     18560  models.common.Conv                      [32, 64, 3, 2]                \n",
            "  2                -1  1     18816  models.common.C3                        [64, 64, 1]                   \n",
            "  3                -1  1     73984  models.common.Conv                      [64, 128, 3, 2]               \n",
            "  4                -1  2    115712  models.common.C3                        [128, 128, 2]                 \n",
            "  5                -1  1    295424  models.common.Conv                      [128, 256, 3, 2]              \n",
            "  6                -1  3    625152  models.common.C3                        [256, 256, 3]                 \n",
            "  7                -1  1   1180672  models.common.Conv                      [256, 512, 3, 2]              \n",
            "  8                -1  1   1182720  models.common.C3                        [512, 512, 1]                 \n",
            "  9                -1  1    656896  models.common.SPPF                      [512, 512, 5]                 \n",
            " 10                -1  1    131584  models.common.Conv                      [512, 256, 1, 1]              \n",
            " 11                -1  1         0  torch.nn.modules.upsampling.Upsample    [None, 2, 'nearest']          \n",
            " 12           [-1, 6]  1         0  models.common.Concat                    [1]                           \n",
            " 13                -1  1    361984  models.common.C3                        [512, 256, 1, False]          \n",
            " 14                -1  1     33024  models.common.Conv                      [256, 128, 1, 1]              \n",
            " 15                -1  1         0  torch.nn.modules.upsampling.Upsample    [None, 2, 'nearest']          \n",
            " 16           [-1, 4]  1         0  models.common.Concat                    [1]                           \n",
            " 17                -1  1     90880  models.common.C3                        [256, 128, 1, False]          \n",
            " 18                -1  1    147712  models.common.Conv                      [128, 128, 3, 2]              \n",
            " 19          [-1, 14]  1         0  models.common.Concat                    [1]                           \n",
            " 20                -1  1    296448  models.common.C3                        [256, 256, 1, False]          \n",
            " 21                -1  1    590336  models.common.Conv                      [256, 256, 3, 2]              \n",
            " 22          [-1, 10]  1         0  models.common.Concat                    [1]                           \n",
            " 23                -1  1   1182720  models.common.C3                        [512, 512, 1, False]          \n",
            " 24      [17, 20, 23]  1     29667  models.yolo.Detect                      [6, [[10, 13, 16, 30, 33, 23], [30, 61, 62, 45, 59, 119], [116, 90, 156, 198, 373, 326]], [128, 256, 512]]\n",
            "YOLOv5s summary: 270 layers, 7035811 parameters, 7035811 gradients, 16.0 GFLOPs\n",
            "\n",
            "Transferred 348/349 items from /content/yolov5/data/best.pt\n",
            "\u001b[34m\u001b[1mAMP: \u001b[0mchecks passed ✅\n",
            "WARNING: --img-size 600 must be multiple of max stride 32, updating to 608\n",
            "\u001b[34m\u001b[1moptimizer:\u001b[0m SGD(lr=0.01) with parameter groups 57 weight(decay=0.0), 60 weight(decay=0.0005), 60 bias\n",
            "\u001b[34m\u001b[1malbumentations: \u001b[0mBlur(p=0.01, blur_limit=(3, 7)), MedianBlur(p=0.01, blur_limit=(3, 7)), ToGray(p=0.01), CLAHE(p=0.01, clip_limit=(1, 4.0), tile_grid_size=(8, 8))\n",
            "\u001b[34m\u001b[1mtrain: \u001b[0mScanning '/content/drive/MyDrive/data/labels/train' images and labels...3193 found, 0 missing, 0 empty, 3 corrupt: 100% 3193/3193 [37:20<00:00,  1.43it/s]\n",
            "\u001b[34m\u001b[1mtrain: \u001b[0mWARNING: /content/drive/MyDrive/data/images/train/cng (389).jpg: corrupt JPEG restored and saved\n",
            "\u001b[34m\u001b[1mtrain: \u001b[0mWARNING: /content/drive/MyDrive/data/images/train/truck (453).jpg: 1 duplicate labels removed\n",
            "\u001b[34m\u001b[1mtrain: \u001b[0mWARNING: /content/drive/MyDrive/data/images/train/truck (508).jpg: corrupt JPEG restored and saved\n",
            "\u001b[34m\u001b[1mtrain: \u001b[0mWARNING: /content/drive/MyDrive/data/images/train/truck (643).jpg: ignoring corrupt image/label: non-normalized or out of bounds coordinates [      1.476]\n",
            "\u001b[34m\u001b[1mtrain: \u001b[0mWARNING: /content/drive/MyDrive/data/images/train/truck (722).jpg: ignoring corrupt image/label: non-normalized or out of bounds coordinates [     1176.5       782.5        1645         743]\n",
            "\u001b[34m\u001b[1mtrain: \u001b[0mWARNING: /content/drive/MyDrive/data/images/train/truck (736).jpg: ignoring corrupt image/label: non-normalized or out of bounds coordinates [      811.5       766.5        1603         761]\n",
            "\u001b[34m\u001b[1mtrain: \u001b[0mNew cache created: /content/drive/MyDrive/data/labels/train.cache\n",
            "\u001b[34m\u001b[1mval: \u001b[0mScanning '/content/drive/MyDrive/data/labels/val' images and labels...399 found, 0 missing, 0 empty, 1 corrupt: 100% 399/399 [04:33<00:00,  1.46it/s]\n",
            "\u001b[34m\u001b[1mval: \u001b[0mWARNING: /content/drive/MyDrive/data/images/val/truck (684).jpg: ignoring corrupt image/label: non-normalized or out of bounds coordinates [      3.155       3.547        4.45       3.926]\n",
            "\u001b[34m\u001b[1mval: \u001b[0mNew cache created: /content/drive/MyDrive/data/labels/val.cache\n",
            "\n",
            "\u001b[34m\u001b[1mAutoAnchor: \u001b[0m4.19 anchors/target, 1.000 Best Possible Recall (BPR). Current anchors are a good fit to dataset ✅\n",
            "Plotting labels to runs/train/yolo_vehicles_det/labels.jpg... \n",
            "Image sizes 608 train, 608 val\n",
            "Using 2 dataloader workers\n",
            "Logging results to \u001b[1mruns/train/yolo_vehicles_det\u001b[0m\n",
            "Starting training for 25 epochs...\n",
            "\n",
            "      Epoch    GPU_mem   box_loss   obj_loss   cls_loss  Instances       Size\n",
            "       0/24       6.6G    0.03497    0.02069   0.004549        153        608:   0% 0/100 [00:02<?, ?it/s]WARNING: TensorBoard graph visualization failure Sizes of tensors must match except in dimension 1. Expected size 76 but got size 75 for tensor number 1 in the list.\n",
            "       0/24      6.65G    0.02934     0.0195   0.004241         99        608: 100% 100/100 [08:02<00:00,  4.83s/it]\n",
            "                 Class     Images  Instances          P          R     mAP@.5 mAP@.5:.95: 100% 7/7 [00:26<00:00,  3.76s/it]\n",
            "                   all        398        733      0.921      0.878      0.935       0.69\n",
            "\n",
            "      Epoch    GPU_mem   box_loss   obj_loss   cls_loss  Instances       Size\n",
            "       1/24      9.19G    0.02984    0.01918   0.003934        107        608: 100% 100/100 [08:06<00:00,  4.87s/it]\n",
            "                 Class     Images  Instances          P          R     mAP@.5 mAP@.5:.95: 100% 7/7 [00:24<00:00,  3.50s/it]\n",
            "                   all        398        733      0.926      0.878      0.937      0.677\n",
            "\n",
            "      Epoch    GPU_mem   box_loss   obj_loss   cls_loss  Instances       Size\n",
            "       2/24      9.19G     0.0332     0.0201   0.004399        100        608: 100% 100/100 [08:06<00:00,  4.86s/it]\n",
            "                 Class     Images  Instances          P          R     mAP@.5 mAP@.5:.95: 100% 7/7 [00:22<00:00,  3.22s/it]\n",
            "                   all        398        733      0.897      0.854      0.921      0.638\n",
            "\n",
            "      Epoch    GPU_mem   box_loss   obj_loss   cls_loss  Instances       Size\n",
            "       3/24      9.19G    0.03382    0.02124   0.005742        102        608: 100% 100/100 [08:06<00:00,  4.87s/it]\n",
            "                 Class     Images  Instances          P          R     mAP@.5 mAP@.5:.95: 100% 7/7 [00:21<00:00,  3.14s/it]\n",
            "                   all        398        733      0.863      0.807      0.887      0.619\n",
            "\n",
            "      Epoch    GPU_mem   box_loss   obj_loss   cls_loss  Instances       Size\n",
            "       4/24      9.19G    0.03395    0.02118   0.006175         64        608: 100% 100/100 [08:17<00:00,  4.98s/it]\n",
            "                 Class     Images  Instances          P          R     mAP@.5 mAP@.5:.95: 100% 7/7 [00:22<00:00,  3.20s/it]\n",
            "                   all        398        733      0.857      0.809      0.877      0.589\n",
            "\n",
            "      Epoch    GPU_mem   box_loss   obj_loss   cls_loss  Instances       Size\n",
            "       5/24      9.19G    0.03327    0.02111   0.005749        109        608: 100% 100/100 [08:13<00:00,  4.93s/it]\n",
            "                 Class     Images  Instances          P          R     mAP@.5 mAP@.5:.95: 100% 7/7 [00:19<00:00,  2.72s/it]\n",
            "                   all        398        733      0.885      0.809      0.896      0.608\n",
            "\n",
            "      Epoch    GPU_mem   box_loss   obj_loss   cls_loss  Instances       Size\n",
            "       6/24      9.19G    0.03259    0.02153   0.005808        123        608: 100% 100/100 [07:57<00:00,  4.77s/it]\n",
            "                 Class     Images  Instances          P          R     mAP@.5 mAP@.5:.95: 100% 7/7 [00:21<00:00,  3.13s/it]\n",
            "                   all        398        733      0.908      0.834      0.913       0.65\n",
            "\n",
            "      Epoch    GPU_mem   box_loss   obj_loss   cls_loss  Instances       Size\n",
            "       7/24      9.19G    0.03227    0.02074   0.005498        102        608: 100% 100/100 [08:11<00:00,  4.92s/it]\n",
            "                 Class     Images  Instances          P          R     mAP@.5 mAP@.5:.95: 100% 7/7 [00:22<00:00,  3.19s/it]\n",
            "                   all        398        733      0.926      0.809      0.912      0.642\n",
            "\n",
            "      Epoch    GPU_mem   box_loss   obj_loss   cls_loss  Instances       Size\n",
            "       8/24      9.19G    0.03159    0.02037   0.004649         94        608: 100% 100/100 [08:11<00:00,  4.92s/it]\n",
            "                 Class     Images  Instances          P          R     mAP@.5 mAP@.5:.95: 100% 7/7 [00:22<00:00,  3.23s/it]\n",
            "                   all        398        733      0.906      0.863      0.923      0.649\n",
            "\n",
            "      Epoch    GPU_mem   box_loss   obj_loss   cls_loss  Instances       Size\n",
            "       9/24      9.19G    0.03141    0.02046   0.004371         83        608: 100% 100/100 [08:03<00:00,  4.84s/it]\n",
            "                 Class     Images  Instances          P          R     mAP@.5 mAP@.5:.95: 100% 7/7 [00:19<00:00,  2.85s/it]\n",
            "                   all        398        733       0.89      0.862      0.918      0.659\n",
            "\n",
            "      Epoch    GPU_mem   box_loss   obj_loss   cls_loss  Instances       Size\n",
            "      10/24      9.19G    0.03062       0.02   0.004272         94        608: 100% 100/100 [08:06<00:00,  4.87s/it]\n",
            "                 Class     Images  Instances          P          R     mAP@.5 mAP@.5:.95: 100% 7/7 [00:20<00:00,  2.87s/it]\n",
            "                   all        398        733      0.906      0.864      0.937      0.671\n",
            "\n",
            "      Epoch    GPU_mem   box_loss   obj_loss   cls_loss  Instances       Size\n",
            "      11/24      9.19G    0.03019    0.01971   0.004145         92        608: 100% 100/100 [08:12<00:00,  4.92s/it]\n",
            "                 Class     Images  Instances          P          R     mAP@.5 mAP@.5:.95: 100% 7/7 [00:20<00:00,  2.94s/it]\n",
            "                   all        398        733      0.899      0.856      0.923      0.669\n",
            "\n",
            "      Epoch    GPU_mem   box_loss   obj_loss   cls_loss  Instances       Size\n",
            "      12/24      9.19G    0.02956    0.01965   0.003997         92        608: 100% 100/100 [08:08<00:00,  4.89s/it]\n",
            "                 Class     Images  Instances          P          R     mAP@.5 mAP@.5:.95: 100% 7/7 [00:20<00:00,  2.93s/it]\n",
            "                   all        398        733      0.924      0.859      0.927      0.666\n",
            "\n",
            "      Epoch    GPU_mem   box_loss   obj_loss   cls_loss  Instances       Size\n",
            "      13/24      9.19G    0.02885    0.01886   0.003781         84        608: 100% 100/100 [08:07<00:00,  4.88s/it]\n",
            "                 Class     Images  Instances          P          R     mAP@.5 mAP@.5:.95: 100% 7/7 [00:20<00:00,  2.92s/it]\n",
            "                   all        398        733       0.92      0.871      0.937      0.677\n",
            "\n",
            "      Epoch    GPU_mem   box_loss   obj_loss   cls_loss  Instances       Size\n",
            "      14/24      9.19G    0.02881    0.01891   0.003828         82        608: 100% 100/100 [08:14<00:00,  4.94s/it]\n",
            "                 Class     Images  Instances          P          R     mAP@.5 mAP@.5:.95: 100% 7/7 [00:20<00:00,  2.97s/it]\n",
            "                   all        398        733      0.903      0.888       0.93      0.669\n",
            "\n",
            "      Epoch    GPU_mem   box_loss   obj_loss   cls_loss  Instances       Size\n",
            "      15/24      9.19G    0.02849    0.01896   0.003472         98        608: 100% 100/100 [08:03<00:00,  4.84s/it]\n",
            "                 Class     Images  Instances          P          R     mAP@.5 mAP@.5:.95: 100% 7/7 [00:20<00:00,  2.91s/it]\n",
            "                   all        398        733      0.886      0.893      0.934      0.681\n",
            "\n",
            "      Epoch    GPU_mem   box_loss   obj_loss   cls_loss  Instances       Size\n",
            "      16/24      9.19G    0.02835    0.01826    0.00316         90        608: 100% 100/100 [08:15<00:00,  4.95s/it]\n",
            "                 Class     Images  Instances          P          R     mAP@.5 mAP@.5:.95: 100% 7/7 [00:20<00:00,  2.91s/it]\n",
            "                   all        398        733      0.909       0.88      0.931      0.676\n",
            "\n",
            "      Epoch    GPU_mem   box_loss   obj_loss   cls_loss  Instances       Size\n",
            "      17/24      9.19G    0.02799    0.01876   0.003066         94        608: 100% 100/100 [08:06<00:00,  4.87s/it]\n",
            "                 Class     Images  Instances          P          R     mAP@.5 mAP@.5:.95: 100% 7/7 [00:17<00:00,  2.50s/it]\n",
            "                   all        398        733      0.906      0.859      0.928      0.688\n",
            "\n",
            "      Epoch    GPU_mem   box_loss   obj_loss   cls_loss  Instances       Size\n",
            "      18/24      9.19G    0.02797    0.01872   0.003781        105        608: 100% 100/100 [08:05<00:00,  4.85s/it]\n",
            "                 Class     Images  Instances          P          R     mAP@.5 mAP@.5:.95: 100% 7/7 [00:20<00:00,  2.92s/it]\n",
            "                   all        398        733      0.916      0.895      0.933      0.685\n",
            "\n",
            "      Epoch    GPU_mem   box_loss   obj_loss   cls_loss  Instances       Size\n",
            "      19/24      9.19G    0.02755    0.01898   0.003369        117        608: 100% 100/100 [08:00<00:00,  4.81s/it]\n",
            "                 Class     Images  Instances          P          R     mAP@.5 mAP@.5:.95: 100% 7/7 [00:18<00:00,  2.66s/it]\n",
            "                   all        398        733      0.927      0.885      0.939      0.691\n",
            "\n",
            "      Epoch    GPU_mem   box_loss   obj_loss   cls_loss  Instances       Size\n",
            "      20/24      9.19G    0.02731     0.0183   0.003724         84        608: 100% 100/100 [08:02<00:00,  4.82s/it]\n",
            "                 Class     Images  Instances          P          R     mAP@.5 mAP@.5:.95: 100% 7/7 [00:20<00:00,  2.90s/it]\n",
            "                   all        398        733      0.927      0.874      0.938      0.695\n",
            "\n",
            "      Epoch    GPU_mem   box_loss   obj_loss   cls_loss  Instances       Size\n",
            "      21/24      9.19G    0.02713    0.01812   0.003047         88        608: 100% 100/100 [07:54<00:00,  4.75s/it]\n",
            "                 Class     Images  Instances          P          R     mAP@.5 mAP@.5:.95: 100% 7/7 [00:20<00:00,  2.95s/it]\n",
            "                   all        398        733      0.918      0.876      0.936      0.699\n",
            "\n",
            "      Epoch    GPU_mem   box_loss   obj_loss   cls_loss  Instances       Size\n",
            "      22/24      9.19G    0.02641    0.01821   0.003327         78        608: 100% 100/100 [07:58<00:00,  4.79s/it]\n",
            "                 Class     Images  Instances          P          R     mAP@.5 mAP@.5:.95: 100% 7/7 [00:20<00:00,  2.93s/it]\n",
            "                   all        398        733      0.921      0.878      0.938      0.704\n",
            "\n",
            "      Epoch    GPU_mem   box_loss   obj_loss   cls_loss  Instances       Size\n",
            "      23/24      9.19G    0.02654    0.01829   0.003256        114        608: 100% 100/100 [08:01<00:00,  4.82s/it]\n",
            "                 Class     Images  Instances          P          R     mAP@.5 mAP@.5:.95: 100% 7/7 [00:19<00:00,  2.72s/it]\n",
            "                   all        398        733       0.93      0.883      0.945      0.702\n",
            "\n",
            "      Epoch    GPU_mem   box_loss   obj_loss   cls_loss  Instances       Size\n",
            "      24/24      9.19G    0.02549    0.01729   0.002731         90        608: 100% 100/100 [07:50<00:00,  4.71s/it]\n",
            "                 Class     Images  Instances          P          R     mAP@.5 mAP@.5:.95: 100% 7/7 [00:20<00:00,  2.94s/it]\n",
            "                   all        398        733      0.926      0.886      0.941      0.703\n",
            "\n",
            "25 epochs completed in 3.529 hours.\n",
            "Optimizer stripped from runs/train/yolo_vehicles_det/weights/last.pt, 14.4MB\n",
            "Optimizer stripped from runs/train/yolo_vehicles_det/weights/best.pt, 14.4MB\n",
            "\n",
            "Validating runs/train/yolo_vehicles_det/weights/best.pt...\n",
            "Fusing layers... \n",
            "YOLOv5s summary: 213 layers, 7026307 parameters, 0 gradients, 15.8 GFLOPs\n",
            "                 Class     Images  Instances          P          R     mAP@.5 mAP@.5:.95: 100% 7/7 [00:25<00:00,  3.59s/it]\n",
            "                   all        398        733      0.922      0.879      0.939      0.705\n",
            "               bicycle        398        176      0.862       0.75      0.874      0.549\n",
            "                   bus        398         85      0.938      0.897      0.958      0.739\n",
            "                   car        398        161      0.878      0.807      0.887      0.636\n",
            "                   cng        398         77      0.961      0.953       0.99      0.852\n",
            "                  bike        398        129      0.934      0.876      0.932      0.702\n",
            "                 truck        398        105       0.96       0.99      0.994      0.753\n",
            "Results saved to \u001b[1mruns/train/yolo_vehicles_det\u001b[0m\n"
          ]
        }
      ]
    },
    {
      "cell_type": "code",
      "execution_count": 9,
      "metadata": {
        "colab": {
          "base_uri": "https://localhost:8080/"
        },
        "id": "I8COnNOMw5ng",
        "outputId": "ea786d7f-d47a-4713-f753-8c0a2def29a0"
      },
      "outputs": [
        {
          "output_type": "stream",
          "name": "stdout",
          "text": [
            "\u001b[34m\u001b[1mval: \u001b[0mdata=/content/yolov5/data/vehicles.yaml, weights=['/content/yolov5/runs/train/yolo_vehicles_det/weights/best.pt'], batch_size=32, imgsz=640, conf_thres=0.001, iou_thres=0.6, task=train, device=, workers=8, single_cls=False, augment=False, verbose=False, save_txt=False, save_hybrid=False, save_conf=False, save_json=False, project=runs/val, name=yolo_det, exist_ok=False, half=False, dnn=False\n",
            "YOLOv5 🚀 v6.2-47-geab35f6 Python-3.7.13 torch-1.12.1+cu113 CUDA:0 (Tesla T4, 15110MiB)\n",
            "\n",
            "Fusing layers... \n",
            "YOLOv5s summary: 213 layers, 7026307 parameters, 0 gradients, 15.8 GFLOPs\n",
            "\u001b[34m\u001b[1mtrain: \u001b[0mScanning '/content/drive/MyDrive/data/labels/train.cache' images and labels... 3193 found, 0 missing, 0 empty, 3 corrupt: 100% 3193/3193 [00:00<?, ?it/s]\n",
            "\u001b[34m\u001b[1mtrain: \u001b[0mWARNING: /content/drive/MyDrive/data/images/train/cng (389).jpg: corrupt JPEG restored and saved\n",
            "\u001b[34m\u001b[1mtrain: \u001b[0mWARNING: /content/drive/MyDrive/data/images/train/truck (453).jpg: 1 duplicate labels removed\n",
            "\u001b[34m\u001b[1mtrain: \u001b[0mWARNING: /content/drive/MyDrive/data/images/train/truck (508).jpg: corrupt JPEG restored and saved\n",
            "\u001b[34m\u001b[1mtrain: \u001b[0mWARNING: /content/drive/MyDrive/data/images/train/truck (643).jpg: ignoring corrupt image/label: non-normalized or out of bounds coordinates [      1.476]\n",
            "\u001b[34m\u001b[1mtrain: \u001b[0mWARNING: /content/drive/MyDrive/data/images/train/truck (722).jpg: ignoring corrupt image/label: non-normalized or out of bounds coordinates [     1176.5       782.5        1645         743]\n",
            "\u001b[34m\u001b[1mtrain: \u001b[0mWARNING: /content/drive/MyDrive/data/images/train/truck (736).jpg: ignoring corrupt image/label: non-normalized or out of bounds coordinates [      811.5       766.5        1603         761]\n",
            "                 Class     Images  Instances          P          R     mAP@.5 mAP@.5:.95: 100% 100/100 [02:54<00:00,  1.75s/it]\n",
            "                   all       3190       6516      0.966      0.963       0.99      0.773\n",
            "               bicycle       3190       1126      0.962      0.942      0.985      0.724\n",
            "                   bus       3190        811      0.975      0.965      0.993      0.789\n",
            "                   car       3190       1458      0.939      0.955      0.985      0.767\n",
            "                   cng       3190       1118      0.969      0.975      0.992      0.795\n",
            "                  bike       3190       1002      0.986      0.962      0.993      0.785\n",
            "                 truck       3190       1001      0.968       0.98      0.992      0.778\n",
            "Speed: 0.2ms pre-process, 4.7ms inference, 1.5ms NMS per image at shape (32, 3, 640, 640)\n",
            "Results saved to \u001b[1mruns/val/yolo_det\u001b[0m\n"
          ]
        }
      ],
      "source": [
        "!python val.py --weights /content/yolov5/runs/train/yolo_vehicles_det/weights/best.pt --data vehicles.yaml --task train --name yolo_det"
      ]
    },
    {
      "cell_type": "code",
      "execution_count": 12,
      "metadata": {
        "colab": {
          "base_uri": "https://localhost:8080/"
        },
        "id": "m7TPBCLwzRS3",
        "outputId": "ce720b6d-247f-45a7-f460-10661e9446f9"
      },
      "outputs": [
        {
          "output_type": "stream",
          "name": "stdout",
          "text": [
            "\u001b[34m\u001b[1mval: \u001b[0mdata=/content/yolov5/data/vehicles.yaml, weights=['/content/yolov5/runs/train/yolo_vehicles_det/weights/best.pt'], batch_size=32, imgsz=640, conf_thres=0.001, iou_thres=0.6, task=val, device=, workers=8, single_cls=False, augment=False, verbose=False, save_txt=False, save_hybrid=False, save_conf=False, save_json=False, project=runs/val, name=yolo_det, exist_ok=False, half=False, dnn=False\n",
            "YOLOv5 🚀 v6.2-47-geab35f6 Python-3.7.13 torch-1.12.1+cu113 CUDA:0 (Tesla T4, 15110MiB)\n",
            "\n",
            "Fusing layers... \n",
            "YOLOv5s summary: 213 layers, 7026307 parameters, 0 gradients, 15.8 GFLOPs\n",
            "\u001b[34m\u001b[1mval: \u001b[0mScanning '/content/drive/MyDrive/data/labels/val.cache' images and labels... 399 found, 0 missing, 0 empty, 1 corrupt: 100% 399/399 [00:00<?, ?it/s]\n",
            "\u001b[34m\u001b[1mval: \u001b[0mWARNING: /content/drive/MyDrive/data/images/val/truck (684).jpg: ignoring corrupt image/label: non-normalized or out of bounds coordinates [      3.155       3.547        4.45       3.926]\n",
            "                 Class     Images  Instances          P          R     mAP@.5 mAP@.5:.95: 100% 13/13 [00:23<00:00,  1.78s/it]\n",
            "                   all        398        733      0.919      0.899      0.942      0.706\n",
            "               bicycle        398        176      0.852      0.783       0.88      0.555\n",
            "                   bus        398         85      0.962      0.941       0.97      0.761\n",
            "                   car        398        161      0.864      0.828      0.889      0.636\n",
            "                   cng        398         77      0.973      0.961       0.99      0.841\n",
            "                  bike        398        129      0.913      0.891      0.928      0.684\n",
            "                 truck        398        105      0.951       0.99      0.993       0.76\n",
            "Speed: 0.7ms pre-process, 5.2ms inference, 1.6ms NMS per image at shape (32, 3, 640, 640)\n",
            "Results saved to \u001b[1mruns/val/yolo_det4\u001b[0m\n"
          ]
        }
      ],
      "source": [
        "!python val.py --weights /content/yolov5/runs/train/yolo_vehicles_det/weights/best.pt --data vehicles.yaml --task val --name yolo_det"
      ]
    },
    {
      "cell_type": "code",
      "execution_count": 13,
      "metadata": {
        "colab": {
          "base_uri": "https://localhost:8080/"
        },
        "id": "SDsl8_2qJ7qJ",
        "outputId": "0caa137d-81af-494e-97e4-7095271f70fb"
      },
      "outputs": [
        {
          "output_type": "stream",
          "name": "stdout",
          "text": [
            "\u001b[34m\u001b[1mval: \u001b[0mdata=/content/yolov5/data/vehicles.yaml, weights=['/content/yolov5/runs/train/yolo_vehicles_det/weights/best.pt'], batch_size=32, imgsz=640, conf_thres=0.001, iou_thres=0.6, task=test, device=, workers=8, single_cls=False, augment=False, verbose=False, save_txt=False, save_hybrid=False, save_conf=False, save_json=False, project=runs/val, name=yolo_det, exist_ok=False, half=False, dnn=False\n",
            "YOLOv5 🚀 v6.2-47-geab35f6 Python-3.7.13 torch-1.12.1+cu113 CUDA:0 (Tesla T4, 15110MiB)\n",
            "\n",
            "Fusing layers... \n",
            "YOLOv5s summary: 213 layers, 7026307 parameters, 0 gradients, 15.8 GFLOPs\n",
            "\u001b[34m\u001b[1mtest: \u001b[0mScanning '/content/drive/MyDrive/data/labels/test.cache' images and labels... 400 found, 0 missing, 0 empty, 1 corrupt: 100% 400/400 [00:00<?, ?it/s]\n",
            "\u001b[34m\u001b[1mtest: \u001b[0mWARNING: /content/drive/MyDrive/data/images/test/truck (683).jpg: ignoring corrupt image/label: non-normalized or out of bounds coordinates [      2.844       4.159       5.524       4.291]\n",
            "                 Class     Images  Instances          P          R     mAP@.5 mAP@.5:.95: 100% 13/13 [00:22<00:00,  1.74s/it]\n",
            "                   all        399        807      0.937       0.84      0.922      0.661\n",
            "               bicycle        399        138      0.888      0.807      0.901      0.576\n",
            "                   bus        399         94          1      0.767      0.897      0.641\n",
            "                   car        399        178      0.884      0.854      0.914      0.673\n",
            "                   cng        399        128      0.955      0.898      0.955      0.724\n",
            "                  bike        399        136      0.959      0.787      0.905      0.673\n",
            "                 truck        399        133      0.939      0.927       0.96      0.677\n",
            "Speed: 0.5ms pre-process, 5.4ms inference, 1.7ms NMS per image at shape (32, 3, 640, 640)\n",
            "Results saved to \u001b[1mruns/val/yolo_det5\u001b[0m\n"
          ]
        }
      ],
      "source": [
        "!python val.py --weights /content/yolov5/runs/train/yolo_vehicles_det/weights/best.pt --data vehicles.yaml --task test --name yolo_det"
      ]
    }
  ],
  "metadata": {
    "accelerator": "GPU",
    "colab": {
      "collapsed_sections": [],
      "name": "Untitled0_(1) (1).ipynb",
      "provenance": []
    },
    "gpuClass": "standard",
    "kernelspec": {
      "display_name": "Python 3",
      "name": "python3"
    },
    "language_info": {
      "name": "python"
    }
  },
  "nbformat": 4,
  "nbformat_minor": 0
}